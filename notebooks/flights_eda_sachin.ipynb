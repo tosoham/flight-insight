{
  "nbformat": 4,
  "nbformat_minor": 0,
  "metadata": {
    "colab": {
      "provenance": [],
      "gpuType": "T4"
    },
    "kernelspec": {
      "name": "python3",
      "display_name": "Python 3"
    },
    "language_info": {
      "name": "python"
    },
    "accelerator": "GPU"
  },
  "cells": [
    {
      "cell_type": "markdown",
      "source": [
        "Fetching Data From Kaggle"
      ],
      "metadata": {
        "id": "eFWZTGkwDXIT"
      }
    },
    {
      "cell_type": "code",
      "execution_count": 1,
      "metadata": {
        "colab": {
          "base_uri": "https://localhost:8080/",
          "height": 88
        },
        "id": "p15b0zx5BDhv",
        "outputId": "3591b373-c991-4c3f-b780-0dd043fd8c79"
      },
      "outputs": [
        {
          "output_type": "display_data",
          "data": {
            "text/plain": [
              "<IPython.core.display.HTML object>"
            ],
            "text/html": [
              "\n",
              "     <input type=\"file\" id=\"files-ef26a220-4350-47e3-8bf4-2c8cd4ea3623\" name=\"files[]\" multiple disabled\n",
              "        style=\"border:none\" />\n",
              "     <output id=\"result-ef26a220-4350-47e3-8bf4-2c8cd4ea3623\">\n",
              "      Upload widget is only available when the cell has been executed in the\n",
              "      current browser session. Please rerun this cell to enable.\n",
              "      </output>\n",
              "      <script>// Copyright 2017 Google LLC\n",
              "//\n",
              "// Licensed under the Apache License, Version 2.0 (the \"License\");\n",
              "// you may not use this file except in compliance with the License.\n",
              "// You may obtain a copy of the License at\n",
              "//\n",
              "//      http://www.apache.org/licenses/LICENSE-2.0\n",
              "//\n",
              "// Unless required by applicable law or agreed to in writing, software\n",
              "// distributed under the License is distributed on an \"AS IS\" BASIS,\n",
              "// WITHOUT WARRANTIES OR CONDITIONS OF ANY KIND, either express or implied.\n",
              "// See the License for the specific language governing permissions and\n",
              "// limitations under the License.\n",
              "\n",
              "/**\n",
              " * @fileoverview Helpers for google.colab Python module.\n",
              " */\n",
              "(function(scope) {\n",
              "function span(text, styleAttributes = {}) {\n",
              "  const element = document.createElement('span');\n",
              "  element.textContent = text;\n",
              "  for (const key of Object.keys(styleAttributes)) {\n",
              "    element.style[key] = styleAttributes[key];\n",
              "  }\n",
              "  return element;\n",
              "}\n",
              "\n",
              "// Max number of bytes which will be uploaded at a time.\n",
              "const MAX_PAYLOAD_SIZE = 100 * 1024;\n",
              "\n",
              "function _uploadFiles(inputId, outputId) {\n",
              "  const steps = uploadFilesStep(inputId, outputId);\n",
              "  const outputElement = document.getElementById(outputId);\n",
              "  // Cache steps on the outputElement to make it available for the next call\n",
              "  // to uploadFilesContinue from Python.\n",
              "  outputElement.steps = steps;\n",
              "\n",
              "  return _uploadFilesContinue(outputId);\n",
              "}\n",
              "\n",
              "// This is roughly an async generator (not supported in the browser yet),\n",
              "// where there are multiple asynchronous steps and the Python side is going\n",
              "// to poll for completion of each step.\n",
              "// This uses a Promise to block the python side on completion of each step,\n",
              "// then passes the result of the previous step as the input to the next step.\n",
              "function _uploadFilesContinue(outputId) {\n",
              "  const outputElement = document.getElementById(outputId);\n",
              "  const steps = outputElement.steps;\n",
              "\n",
              "  const next = steps.next(outputElement.lastPromiseValue);\n",
              "  return Promise.resolve(next.value.promise).then((value) => {\n",
              "    // Cache the last promise value to make it available to the next\n",
              "    // step of the generator.\n",
              "    outputElement.lastPromiseValue = value;\n",
              "    return next.value.response;\n",
              "  });\n",
              "}\n",
              "\n",
              "/**\n",
              " * Generator function which is called between each async step of the upload\n",
              " * process.\n",
              " * @param {string} inputId Element ID of the input file picker element.\n",
              " * @param {string} outputId Element ID of the output display.\n",
              " * @return {!Iterable<!Object>} Iterable of next steps.\n",
              " */\n",
              "function* uploadFilesStep(inputId, outputId) {\n",
              "  const inputElement = document.getElementById(inputId);\n",
              "  inputElement.disabled = false;\n",
              "\n",
              "  const outputElement = document.getElementById(outputId);\n",
              "  outputElement.innerHTML = '';\n",
              "\n",
              "  const pickedPromise = new Promise((resolve) => {\n",
              "    inputElement.addEventListener('change', (e) => {\n",
              "      resolve(e.target.files);\n",
              "    });\n",
              "  });\n",
              "\n",
              "  const cancel = document.createElement('button');\n",
              "  inputElement.parentElement.appendChild(cancel);\n",
              "  cancel.textContent = 'Cancel upload';\n",
              "  const cancelPromise = new Promise((resolve) => {\n",
              "    cancel.onclick = () => {\n",
              "      resolve(null);\n",
              "    };\n",
              "  });\n",
              "\n",
              "  // Wait for the user to pick the files.\n",
              "  const files = yield {\n",
              "    promise: Promise.race([pickedPromise, cancelPromise]),\n",
              "    response: {\n",
              "      action: 'starting',\n",
              "    }\n",
              "  };\n",
              "\n",
              "  cancel.remove();\n",
              "\n",
              "  // Disable the input element since further picks are not allowed.\n",
              "  inputElement.disabled = true;\n",
              "\n",
              "  if (!files) {\n",
              "    return {\n",
              "      response: {\n",
              "        action: 'complete',\n",
              "      }\n",
              "    };\n",
              "  }\n",
              "\n",
              "  for (const file of files) {\n",
              "    const li = document.createElement('li');\n",
              "    li.append(span(file.name, {fontWeight: 'bold'}));\n",
              "    li.append(span(\n",
              "        `(${file.type || 'n/a'}) - ${file.size} bytes, ` +\n",
              "        `last modified: ${\n",
              "            file.lastModifiedDate ? file.lastModifiedDate.toLocaleDateString() :\n",
              "                                    'n/a'} - `));\n",
              "    const percent = span('0% done');\n",
              "    li.appendChild(percent);\n",
              "\n",
              "    outputElement.appendChild(li);\n",
              "\n",
              "    const fileDataPromise = new Promise((resolve) => {\n",
              "      const reader = new FileReader();\n",
              "      reader.onload = (e) => {\n",
              "        resolve(e.target.result);\n",
              "      };\n",
              "      reader.readAsArrayBuffer(file);\n",
              "    });\n",
              "    // Wait for the data to be ready.\n",
              "    let fileData = yield {\n",
              "      promise: fileDataPromise,\n",
              "      response: {\n",
              "        action: 'continue',\n",
              "      }\n",
              "    };\n",
              "\n",
              "    // Use a chunked sending to avoid message size limits. See b/62115660.\n",
              "    let position = 0;\n",
              "    do {\n",
              "      const length = Math.min(fileData.byteLength - position, MAX_PAYLOAD_SIZE);\n",
              "      const chunk = new Uint8Array(fileData, position, length);\n",
              "      position += length;\n",
              "\n",
              "      const base64 = btoa(String.fromCharCode.apply(null, chunk));\n",
              "      yield {\n",
              "        response: {\n",
              "          action: 'append',\n",
              "          file: file.name,\n",
              "          data: base64,\n",
              "        },\n",
              "      };\n",
              "\n",
              "      let percentDone = fileData.byteLength === 0 ?\n",
              "          100 :\n",
              "          Math.round((position / fileData.byteLength) * 100);\n",
              "      percent.textContent = `${percentDone}% done`;\n",
              "\n",
              "    } while (position < fileData.byteLength);\n",
              "  }\n",
              "\n",
              "  // All done.\n",
              "  yield {\n",
              "    response: {\n",
              "      action: 'complete',\n",
              "    }\n",
              "  };\n",
              "}\n",
              "\n",
              "scope.google = scope.google || {};\n",
              "scope.google.colab = scope.google.colab || {};\n",
              "scope.google.colab._files = {\n",
              "  _uploadFiles,\n",
              "  _uploadFilesContinue,\n",
              "};\n",
              "})(self);\n",
              "</script> "
            ]
          },
          "metadata": {}
        },
        {
          "output_type": "stream",
          "name": "stdout",
          "text": [
            "Saving kaggle.json to kaggle.json\n"
          ]
        },
        {
          "output_type": "execute_result",
          "data": {
            "text/plain": [
              "{'kaggle.json': b'{\"username\":\"sachi9yadav\",\"key\":\"1d992ada053903e17d861584165a1146\"}'}"
            ]
          },
          "metadata": {},
          "execution_count": 1
        }
      ],
      "source": [
        "from google.colab import files\n",
        "files.upload()   # Choose kaggle.json file\n"
      ]
    },
    {
      "cell_type": "code",
      "source": [
        "!mkdir -p ~/.kaggle\n",
        "!cp kaggle.json ~/.kaggle/\n",
        "!chmod 600 ~/.kaggle/kaggle.json\n"
      ],
      "metadata": {
        "id": "NNk2lQ0NBsdy"
      },
      "execution_count": 2,
      "outputs": []
    },
    {
      "cell_type": "code",
      "source": [
        "!pip install kaggle"
      ],
      "metadata": {
        "colab": {
          "base_uri": "https://localhost:8080/"
        },
        "id": "TzI9IHBXCAsB",
        "outputId": "17df4bd6-d229-4409-ab48-9194f7572fbd"
      },
      "execution_count": 3,
      "outputs": [
        {
          "output_type": "stream",
          "name": "stdout",
          "text": [
            "Requirement already satisfied: kaggle in /usr/local/lib/python3.12/dist-packages (1.7.4.5)\n",
            "Requirement already satisfied: bleach in /usr/local/lib/python3.12/dist-packages (from kaggle) (6.2.0)\n",
            "Requirement already satisfied: certifi>=14.05.14 in /usr/local/lib/python3.12/dist-packages (from kaggle) (2025.8.3)\n",
            "Requirement already satisfied: charset-normalizer in /usr/local/lib/python3.12/dist-packages (from kaggle) (3.4.3)\n",
            "Requirement already satisfied: idna in /usr/local/lib/python3.12/dist-packages (from kaggle) (3.10)\n",
            "Requirement already satisfied: protobuf in /usr/local/lib/python3.12/dist-packages (from kaggle) (5.29.5)\n",
            "Requirement already satisfied: python-dateutil>=2.5.3 in /usr/local/lib/python3.12/dist-packages (from kaggle) (2.9.0.post0)\n",
            "Requirement already satisfied: python-slugify in /usr/local/lib/python3.12/dist-packages (from kaggle) (8.0.4)\n",
            "Requirement already satisfied: requests in /usr/local/lib/python3.12/dist-packages (from kaggle) (2.32.4)\n",
            "Requirement already satisfied: setuptools>=21.0.0 in /usr/local/lib/python3.12/dist-packages (from kaggle) (75.2.0)\n",
            "Requirement already satisfied: six>=1.10 in /usr/local/lib/python3.12/dist-packages (from kaggle) (1.17.0)\n",
            "Requirement already satisfied: text-unidecode in /usr/local/lib/python3.12/dist-packages (from kaggle) (1.3)\n",
            "Requirement already satisfied: tqdm in /usr/local/lib/python3.12/dist-packages (from kaggle) (4.67.1)\n",
            "Requirement already satisfied: urllib3>=1.15.1 in /usr/local/lib/python3.12/dist-packages (from kaggle) (2.5.0)\n",
            "Requirement already satisfied: webencodings in /usr/local/lib/python3.12/dist-packages (from kaggle) (0.5.1)\n"
          ]
        }
      ]
    },
    {
      "cell_type": "code",
      "source": [
        "!kaggle datasets download -d usdot/flight-delays"
      ],
      "metadata": {
        "colab": {
          "base_uri": "https://localhost:8080/"
        },
        "id": "gN5WkGKYCDqk",
        "outputId": "a6ee32f7-2bf7-4c27-f1f8-df6d3cec3fbd"
      },
      "execution_count": 4,
      "outputs": [
        {
          "output_type": "stream",
          "name": "stdout",
          "text": [
            "Dataset URL: https://www.kaggle.com/datasets/usdot/flight-delays\n",
            "License(s): CC0-1.0\n",
            "Downloading flight-delays.zip to /content\n",
            " 51% 97.0M/191M [00:00<00:00, 1.01GB/s]\n",
            "100% 191M/191M [00:00<00:00, 666MB/s]  \n"
          ]
        }
      ]
    },
    {
      "cell_type": "code",
      "source": [
        "!unzip flight-delays.zip -d flight_data"
      ],
      "metadata": {
        "colab": {
          "base_uri": "https://localhost:8080/"
        },
        "id": "Zm3K2bxSDCiL",
        "outputId": "1f48480c-a7f4-4aea-aa58-c3e6e02fb25a"
      },
      "execution_count": 5,
      "outputs": [
        {
          "output_type": "stream",
          "name": "stdout",
          "text": [
            "Archive:  flight-delays.zip\n",
            "  inflating: flight_data/airlines.csv  \n",
            "  inflating: flight_data/airports.csv  \n",
            "  inflating: flight_data/flights.csv  \n"
          ]
        }
      ]
    },
    {
      "cell_type": "markdown",
      "source": [
        "creating dataframes"
      ],
      "metadata": {
        "id": "q6--hBlwDWSH"
      }
    },
    {
      "cell_type": "code",
      "source": [
        "import pandas as pd"
      ],
      "metadata": {
        "id": "yzOfQI7lDV9K"
      },
      "execution_count": 6,
      "outputs": []
    },
    {
      "cell_type": "code",
      "source": [
        "data_airlines = pd.read_csv('/content/flight_data/airlines.csv')\n",
        "data_airports = pd.read_csv('/content/flight_data/airports.csv')\n",
        "data_flights = pd.read_csv('/content/flight_data/flights.csv')"
      ],
      "metadata": {
        "colab": {
          "base_uri": "https://localhost:8080/"
        },
        "id": "vEcHGs74DF4t",
        "outputId": "11bdc0fe-c5f2-49cb-9310-26e2addfaedf"
      },
      "execution_count": 7,
      "outputs": [
        {
          "output_type": "stream",
          "name": "stderr",
          "text": [
            "/tmp/ipython-input-2951581261.py:3: DtypeWarning: Columns (7,8) have mixed types. Specify dtype option on import or set low_memory=False.\n",
            "  data_flights = pd.read_csv('/content/flight_data/flights.csv')\n"
          ]
        }
      ]
    },
    {
      "cell_type": "code",
      "source": [
        "data_airlines.info()"
      ],
      "metadata": {
        "colab": {
          "base_uri": "https://localhost:8080/"
        },
        "id": "DonfgJFtDi1P",
        "outputId": "2f70ae49-f2dd-4389-be62-176210f2652d"
      },
      "execution_count": 8,
      "outputs": [
        {
          "output_type": "stream",
          "name": "stdout",
          "text": [
            "<class 'pandas.core.frame.DataFrame'>\n",
            "RangeIndex: 14 entries, 0 to 13\n",
            "Data columns (total 2 columns):\n",
            " #   Column     Non-Null Count  Dtype \n",
            "---  ------     --------------  ----- \n",
            " 0   IATA_CODE  14 non-null     object\n",
            " 1   AIRLINE    14 non-null     object\n",
            "dtypes: object(2)\n",
            "memory usage: 356.0+ bytes\n"
          ]
        }
      ]
    },
    {
      "cell_type": "code",
      "source": [
        "data_airlines"
      ],
      "metadata": {
        "colab": {
          "base_uri": "https://localhost:8080/",
          "height": 488
        },
        "id": "6S9_CoP2Cg1k",
        "outputId": "315b1a60-92d7-463d-e6d9-7c1eaa2e1951"
      },
      "execution_count": 9,
      "outputs": [
        {
          "output_type": "execute_result",
          "data": {
            "text/plain": [
              "   IATA_CODE                       AIRLINE\n",
              "0         UA         United Air Lines Inc.\n",
              "1         AA        American Airlines Inc.\n",
              "2         US               US Airways Inc.\n",
              "3         F9        Frontier Airlines Inc.\n",
              "4         B6               JetBlue Airways\n",
              "5         OO         Skywest Airlines Inc.\n",
              "6         AS          Alaska Airlines Inc.\n",
              "7         NK              Spirit Air Lines\n",
              "8         WN        Southwest Airlines Co.\n",
              "9         DL          Delta Air Lines Inc.\n",
              "10        EV   Atlantic Southeast Airlines\n",
              "11        HA        Hawaiian Airlines Inc.\n",
              "12        MQ  American Eagle Airlines Inc.\n",
              "13        VX                Virgin America"
            ],
            "text/html": [
              "\n",
              "  <div id=\"df-e20bf449-95b7-4f33-b6d3-7150c0cbf90d\" class=\"colab-df-container\">\n",
              "    <div>\n",
              "<style scoped>\n",
              "    .dataframe tbody tr th:only-of-type {\n",
              "        vertical-align: middle;\n",
              "    }\n",
              "\n",
              "    .dataframe tbody tr th {\n",
              "        vertical-align: top;\n",
              "    }\n",
              "\n",
              "    .dataframe thead th {\n",
              "        text-align: right;\n",
              "    }\n",
              "</style>\n",
              "<table border=\"1\" class=\"dataframe\">\n",
              "  <thead>\n",
              "    <tr style=\"text-align: right;\">\n",
              "      <th></th>\n",
              "      <th>IATA_CODE</th>\n",
              "      <th>AIRLINE</th>\n",
              "    </tr>\n",
              "  </thead>\n",
              "  <tbody>\n",
              "    <tr>\n",
              "      <th>0</th>\n",
              "      <td>UA</td>\n",
              "      <td>United Air Lines Inc.</td>\n",
              "    </tr>\n",
              "    <tr>\n",
              "      <th>1</th>\n",
              "      <td>AA</td>\n",
              "      <td>American Airlines Inc.</td>\n",
              "    </tr>\n",
              "    <tr>\n",
              "      <th>2</th>\n",
              "      <td>US</td>\n",
              "      <td>US Airways Inc.</td>\n",
              "    </tr>\n",
              "    <tr>\n",
              "      <th>3</th>\n",
              "      <td>F9</td>\n",
              "      <td>Frontier Airlines Inc.</td>\n",
              "    </tr>\n",
              "    <tr>\n",
              "      <th>4</th>\n",
              "      <td>B6</td>\n",
              "      <td>JetBlue Airways</td>\n",
              "    </tr>\n",
              "    <tr>\n",
              "      <th>5</th>\n",
              "      <td>OO</td>\n",
              "      <td>Skywest Airlines Inc.</td>\n",
              "    </tr>\n",
              "    <tr>\n",
              "      <th>6</th>\n",
              "      <td>AS</td>\n",
              "      <td>Alaska Airlines Inc.</td>\n",
              "    </tr>\n",
              "    <tr>\n",
              "      <th>7</th>\n",
              "      <td>NK</td>\n",
              "      <td>Spirit Air Lines</td>\n",
              "    </tr>\n",
              "    <tr>\n",
              "      <th>8</th>\n",
              "      <td>WN</td>\n",
              "      <td>Southwest Airlines Co.</td>\n",
              "    </tr>\n",
              "    <tr>\n",
              "      <th>9</th>\n",
              "      <td>DL</td>\n",
              "      <td>Delta Air Lines Inc.</td>\n",
              "    </tr>\n",
              "    <tr>\n",
              "      <th>10</th>\n",
              "      <td>EV</td>\n",
              "      <td>Atlantic Southeast Airlines</td>\n",
              "    </tr>\n",
              "    <tr>\n",
              "      <th>11</th>\n",
              "      <td>HA</td>\n",
              "      <td>Hawaiian Airlines Inc.</td>\n",
              "    </tr>\n",
              "    <tr>\n",
              "      <th>12</th>\n",
              "      <td>MQ</td>\n",
              "      <td>American Eagle Airlines Inc.</td>\n",
              "    </tr>\n",
              "    <tr>\n",
              "      <th>13</th>\n",
              "      <td>VX</td>\n",
              "      <td>Virgin America</td>\n",
              "    </tr>\n",
              "  </tbody>\n",
              "</table>\n",
              "</div>\n",
              "    <div class=\"colab-df-buttons\">\n",
              "\n",
              "  <div class=\"colab-df-container\">\n",
              "    <button class=\"colab-df-convert\" onclick=\"convertToInteractive('df-e20bf449-95b7-4f33-b6d3-7150c0cbf90d')\"\n",
              "            title=\"Convert this dataframe to an interactive table.\"\n",
              "            style=\"display:none;\">\n",
              "\n",
              "  <svg xmlns=\"http://www.w3.org/2000/svg\" height=\"24px\" viewBox=\"0 -960 960 960\">\n",
              "    <path d=\"M120-120v-720h720v720H120Zm60-500h600v-160H180v160Zm220 220h160v-160H400v160Zm0 220h160v-160H400v160ZM180-400h160v-160H180v160Zm440 0h160v-160H620v160ZM180-180h160v-160H180v160Zm440 0h160v-160H620v160Z\"/>\n",
              "  </svg>\n",
              "    </button>\n",
              "\n",
              "  <style>\n",
              "    .colab-df-container {\n",
              "      display:flex;\n",
              "      gap: 12px;\n",
              "    }\n",
              "\n",
              "    .colab-df-convert {\n",
              "      background-color: #E8F0FE;\n",
              "      border: none;\n",
              "      border-radius: 50%;\n",
              "      cursor: pointer;\n",
              "      display: none;\n",
              "      fill: #1967D2;\n",
              "      height: 32px;\n",
              "      padding: 0 0 0 0;\n",
              "      width: 32px;\n",
              "    }\n",
              "\n",
              "    .colab-df-convert:hover {\n",
              "      background-color: #E2EBFA;\n",
              "      box-shadow: 0px 1px 2px rgba(60, 64, 67, 0.3), 0px 1px 3px 1px rgba(60, 64, 67, 0.15);\n",
              "      fill: #174EA6;\n",
              "    }\n",
              "\n",
              "    .colab-df-buttons div {\n",
              "      margin-bottom: 4px;\n",
              "    }\n",
              "\n",
              "    [theme=dark] .colab-df-convert {\n",
              "      background-color: #3B4455;\n",
              "      fill: #D2E3FC;\n",
              "    }\n",
              "\n",
              "    [theme=dark] .colab-df-convert:hover {\n",
              "      background-color: #434B5C;\n",
              "      box-shadow: 0px 1px 3px 1px rgba(0, 0, 0, 0.15);\n",
              "      filter: drop-shadow(0px 1px 2px rgba(0, 0, 0, 0.3));\n",
              "      fill: #FFFFFF;\n",
              "    }\n",
              "  </style>\n",
              "\n",
              "    <script>\n",
              "      const buttonEl =\n",
              "        document.querySelector('#df-e20bf449-95b7-4f33-b6d3-7150c0cbf90d button.colab-df-convert');\n",
              "      buttonEl.style.display =\n",
              "        google.colab.kernel.accessAllowed ? 'block' : 'none';\n",
              "\n",
              "      async function convertToInteractive(key) {\n",
              "        const element = document.querySelector('#df-e20bf449-95b7-4f33-b6d3-7150c0cbf90d');\n",
              "        const dataTable =\n",
              "          await google.colab.kernel.invokeFunction('convertToInteractive',\n",
              "                                                    [key], {});\n",
              "        if (!dataTable) return;\n",
              "\n",
              "        const docLinkHtml = 'Like what you see? Visit the ' +\n",
              "          '<a target=\"_blank\" href=https://colab.research.google.com/notebooks/data_table.ipynb>data table notebook</a>'\n",
              "          + ' to learn more about interactive tables.';\n",
              "        element.innerHTML = '';\n",
              "        dataTable['output_type'] = 'display_data';\n",
              "        await google.colab.output.renderOutput(dataTable, element);\n",
              "        const docLink = document.createElement('div');\n",
              "        docLink.innerHTML = docLinkHtml;\n",
              "        element.appendChild(docLink);\n",
              "      }\n",
              "    </script>\n",
              "  </div>\n",
              "\n",
              "\n",
              "    <div id=\"df-fad98950-a029-420d-b0a7-585640fe2a9a\">\n",
              "      <button class=\"colab-df-quickchart\" onclick=\"quickchart('df-fad98950-a029-420d-b0a7-585640fe2a9a')\"\n",
              "                title=\"Suggest charts\"\n",
              "                style=\"display:none;\">\n",
              "\n",
              "<svg xmlns=\"http://www.w3.org/2000/svg\" height=\"24px\"viewBox=\"0 0 24 24\"\n",
              "     width=\"24px\">\n",
              "    <g>\n",
              "        <path d=\"M19 3H5c-1.1 0-2 .9-2 2v14c0 1.1.9 2 2 2h14c1.1 0 2-.9 2-2V5c0-1.1-.9-2-2-2zM9 17H7v-7h2v7zm4 0h-2V7h2v10zm4 0h-2v-4h2v4z\"/>\n",
              "    </g>\n",
              "</svg>\n",
              "      </button>\n",
              "\n",
              "<style>\n",
              "  .colab-df-quickchart {\n",
              "      --bg-color: #E8F0FE;\n",
              "      --fill-color: #1967D2;\n",
              "      --hover-bg-color: #E2EBFA;\n",
              "      --hover-fill-color: #174EA6;\n",
              "      --disabled-fill-color: #AAA;\n",
              "      --disabled-bg-color: #DDD;\n",
              "  }\n",
              "\n",
              "  [theme=dark] .colab-df-quickchart {\n",
              "      --bg-color: #3B4455;\n",
              "      --fill-color: #D2E3FC;\n",
              "      --hover-bg-color: #434B5C;\n",
              "      --hover-fill-color: #FFFFFF;\n",
              "      --disabled-bg-color: #3B4455;\n",
              "      --disabled-fill-color: #666;\n",
              "  }\n",
              "\n",
              "  .colab-df-quickchart {\n",
              "    background-color: var(--bg-color);\n",
              "    border: none;\n",
              "    border-radius: 50%;\n",
              "    cursor: pointer;\n",
              "    display: none;\n",
              "    fill: var(--fill-color);\n",
              "    height: 32px;\n",
              "    padding: 0;\n",
              "    width: 32px;\n",
              "  }\n",
              "\n",
              "  .colab-df-quickchart:hover {\n",
              "    background-color: var(--hover-bg-color);\n",
              "    box-shadow: 0 1px 2px rgba(60, 64, 67, 0.3), 0 1px 3px 1px rgba(60, 64, 67, 0.15);\n",
              "    fill: var(--button-hover-fill-color);\n",
              "  }\n",
              "\n",
              "  .colab-df-quickchart-complete:disabled,\n",
              "  .colab-df-quickchart-complete:disabled:hover {\n",
              "    background-color: var(--disabled-bg-color);\n",
              "    fill: var(--disabled-fill-color);\n",
              "    box-shadow: none;\n",
              "  }\n",
              "\n",
              "  .colab-df-spinner {\n",
              "    border: 2px solid var(--fill-color);\n",
              "    border-color: transparent;\n",
              "    border-bottom-color: var(--fill-color);\n",
              "    animation:\n",
              "      spin 1s steps(1) infinite;\n",
              "  }\n",
              "\n",
              "  @keyframes spin {\n",
              "    0% {\n",
              "      border-color: transparent;\n",
              "      border-bottom-color: var(--fill-color);\n",
              "      border-left-color: var(--fill-color);\n",
              "    }\n",
              "    20% {\n",
              "      border-color: transparent;\n",
              "      border-left-color: var(--fill-color);\n",
              "      border-top-color: var(--fill-color);\n",
              "    }\n",
              "    30% {\n",
              "      border-color: transparent;\n",
              "      border-left-color: var(--fill-color);\n",
              "      border-top-color: var(--fill-color);\n",
              "      border-right-color: var(--fill-color);\n",
              "    }\n",
              "    40% {\n",
              "      border-color: transparent;\n",
              "      border-right-color: var(--fill-color);\n",
              "      border-top-color: var(--fill-color);\n",
              "    }\n",
              "    60% {\n",
              "      border-color: transparent;\n",
              "      border-right-color: var(--fill-color);\n",
              "    }\n",
              "    80% {\n",
              "      border-color: transparent;\n",
              "      border-right-color: var(--fill-color);\n",
              "      border-bottom-color: var(--fill-color);\n",
              "    }\n",
              "    90% {\n",
              "      border-color: transparent;\n",
              "      border-bottom-color: var(--fill-color);\n",
              "    }\n",
              "  }\n",
              "</style>\n",
              "\n",
              "      <script>\n",
              "        async function quickchart(key) {\n",
              "          const quickchartButtonEl =\n",
              "            document.querySelector('#' + key + ' button');\n",
              "          quickchartButtonEl.disabled = true;  // To prevent multiple clicks.\n",
              "          quickchartButtonEl.classList.add('colab-df-spinner');\n",
              "          try {\n",
              "            const charts = await google.colab.kernel.invokeFunction(\n",
              "                'suggestCharts', [key], {});\n",
              "          } catch (error) {\n",
              "            console.error('Error during call to suggestCharts:', error);\n",
              "          }\n",
              "          quickchartButtonEl.classList.remove('colab-df-spinner');\n",
              "          quickchartButtonEl.classList.add('colab-df-quickchart-complete');\n",
              "        }\n",
              "        (() => {\n",
              "          let quickchartButtonEl =\n",
              "            document.querySelector('#df-fad98950-a029-420d-b0a7-585640fe2a9a button');\n",
              "          quickchartButtonEl.style.display =\n",
              "            google.colab.kernel.accessAllowed ? 'block' : 'none';\n",
              "        })();\n",
              "      </script>\n",
              "    </div>\n",
              "\n",
              "  <div id=\"id_e7ba1eab-e365-4f2c-aec7-54bed71ca1b7\">\n",
              "    <style>\n",
              "      .colab-df-generate {\n",
              "        background-color: #E8F0FE;\n",
              "        border: none;\n",
              "        border-radius: 50%;\n",
              "        cursor: pointer;\n",
              "        display: none;\n",
              "        fill: #1967D2;\n",
              "        height: 32px;\n",
              "        padding: 0 0 0 0;\n",
              "        width: 32px;\n",
              "      }\n",
              "\n",
              "      .colab-df-generate:hover {\n",
              "        background-color: #E2EBFA;\n",
              "        box-shadow: 0px 1px 2px rgba(60, 64, 67, 0.3), 0px 1px 3px 1px rgba(60, 64, 67, 0.15);\n",
              "        fill: #174EA6;\n",
              "      }\n",
              "\n",
              "      [theme=dark] .colab-df-generate {\n",
              "        background-color: #3B4455;\n",
              "        fill: #D2E3FC;\n",
              "      }\n",
              "\n",
              "      [theme=dark] .colab-df-generate:hover {\n",
              "        background-color: #434B5C;\n",
              "        box-shadow: 0px 1px 3px 1px rgba(0, 0, 0, 0.15);\n",
              "        filter: drop-shadow(0px 1px 2px rgba(0, 0, 0, 0.3));\n",
              "        fill: #FFFFFF;\n",
              "      }\n",
              "    </style>\n",
              "    <button class=\"colab-df-generate\" onclick=\"generateWithVariable('data_airlines')\"\n",
              "            title=\"Generate code using this dataframe.\"\n",
              "            style=\"display:none;\">\n",
              "\n",
              "  <svg xmlns=\"http://www.w3.org/2000/svg\" height=\"24px\"viewBox=\"0 0 24 24\"\n",
              "       width=\"24px\">\n",
              "    <path d=\"M7,19H8.4L18.45,9,17,7.55,7,17.6ZM5,21V16.75L18.45,3.32a2,2,0,0,1,2.83,0l1.4,1.43a1.91,1.91,0,0,1,.58,1.4,1.91,1.91,0,0,1-.58,1.4L9.25,21ZM18.45,9,17,7.55Zm-12,3A5.31,5.31,0,0,0,4.9,8.1,5.31,5.31,0,0,0,1,6.5,5.31,5.31,0,0,0,4.9,4.9,5.31,5.31,0,0,0,6.5,1,5.31,5.31,0,0,0,8.1,4.9,5.31,5.31,0,0,0,12,6.5,5.46,5.46,0,0,0,6.5,12Z\"/>\n",
              "  </svg>\n",
              "    </button>\n",
              "    <script>\n",
              "      (() => {\n",
              "      const buttonEl =\n",
              "        document.querySelector('#id_e7ba1eab-e365-4f2c-aec7-54bed71ca1b7 button.colab-df-generate');\n",
              "      buttonEl.style.display =\n",
              "        google.colab.kernel.accessAllowed ? 'block' : 'none';\n",
              "\n",
              "      buttonEl.onclick = () => {\n",
              "        google.colab.notebook.generateWithVariable('data_airlines');\n",
              "      }\n",
              "      })();\n",
              "    </script>\n",
              "  </div>\n",
              "\n",
              "    </div>\n",
              "  </div>\n"
            ],
            "application/vnd.google.colaboratory.intrinsic+json": {
              "type": "dataframe",
              "variable_name": "data_airlines",
              "summary": "{\n  \"name\": \"data_airlines\",\n  \"rows\": 14,\n  \"fields\": [\n    {\n      \"column\": \"IATA_CODE\",\n      \"properties\": {\n        \"dtype\": \"string\",\n        \"num_unique_values\": 14,\n        \"samples\": [\n          \"DL\",\n          \"HA\",\n          \"UA\"\n        ],\n        \"semantic_type\": \"\",\n        \"description\": \"\"\n      }\n    },\n    {\n      \"column\": \"AIRLINE\",\n      \"properties\": {\n        \"dtype\": \"string\",\n        \"num_unique_values\": 14,\n        \"samples\": [\n          \"Delta Air Lines Inc.\",\n          \"Hawaiian Airlines Inc.\",\n          \"United Air Lines Inc.\"\n        ],\n        \"semantic_type\": \"\",\n        \"description\": \"\"\n      }\n    }\n  ]\n}"
            }
          },
          "metadata": {},
          "execution_count": 9
        }
      ]
    },
    {
      "cell_type": "code",
      "source": [
        "unique_airlines = data_airlines['AIRLINE'].unique()\n",
        "print(unique_airlines)"
      ],
      "metadata": {
        "colab": {
          "base_uri": "https://localhost:8080/"
        },
        "id": "Xe5JWrqCD5eu",
        "outputId": "860bf02a-78ee-49e1-e695-3e6f0288dbec"
      },
      "execution_count": 10,
      "outputs": [
        {
          "output_type": "stream",
          "name": "stdout",
          "text": [
            "['United Air Lines Inc.' 'American Airlines Inc.' 'US Airways Inc.'\n",
            " 'Frontier Airlines Inc.' 'JetBlue Airways' 'Skywest Airlines Inc.'\n",
            " 'Alaska Airlines Inc.' 'Spirit Air Lines' 'Southwest Airlines Co.'\n",
            " 'Delta Air Lines Inc.' 'Atlantic Southeast Airlines'\n",
            " 'Hawaiian Airlines Inc.' 'American Eagle Airlines Inc.' 'Virgin America']\n"
          ]
        }
      ]
    },
    {
      "cell_type": "code",
      "source": [
        "data_airports.info()"
      ],
      "metadata": {
        "colab": {
          "base_uri": "https://localhost:8080/"
        },
        "id": "dE3Ro4cADtYl",
        "outputId": "a8d321d5-0e3a-42e5-b535-eed3f5fc4f0c"
      },
      "execution_count": 11,
      "outputs": [
        {
          "output_type": "stream",
          "name": "stdout",
          "text": [
            "<class 'pandas.core.frame.DataFrame'>\n",
            "RangeIndex: 322 entries, 0 to 321\n",
            "Data columns (total 7 columns):\n",
            " #   Column     Non-Null Count  Dtype  \n",
            "---  ------     --------------  -----  \n",
            " 0   IATA_CODE  322 non-null    object \n",
            " 1   AIRPORT    322 non-null    object \n",
            " 2   CITY       322 non-null    object \n",
            " 3   STATE      322 non-null    object \n",
            " 4   COUNTRY    322 non-null    object \n",
            " 5   LATITUDE   319 non-null    float64\n",
            " 6   LONGITUDE  319 non-null    float64\n",
            "dtypes: float64(2), object(5)\n",
            "memory usage: 17.7+ KB\n"
          ]
        }
      ]
    },
    {
      "cell_type": "markdown",
      "source": [
        "There are three rows whose latitude and longitude are not available.\n",
        "Filling them manually by searching in google."
      ],
      "metadata": {
        "id": "7MFXlVyEEvFA"
      }
    },
    {
      "cell_type": "markdown",
      "source": [
        "In the airports dataset, there were 3 missing values in the LATITUDE and LONGITUDE columns corresponding to the airports ECP (Northwest Florida Beaches International Airport), PBG (Plattsburgh International Airport), and UST (Northeast Florida Regional Airport).\n",
        "\n",
        "To handle this, we manually filled in the missing coordinates using the correct latitude and longitude values:\n",
        "\n",
        "ECP → (30.3549, -85.7995)\n",
        "\n",
        "PBG → (44.6575, -73.4670)\n",
        "\n",
        "UST → (29.9314, -81.2961)\n",
        "\n",
        "After filling these values, the dataset has no missing entries in latitude and longitude."
      ],
      "metadata": {
        "id": "xLK28PbOGOhr"
      }
    },
    {
      "cell_type": "code",
      "source": [
        "data_airports.loc[data_airports['IATA_CODE'] == 'ECP', ['LATITUDE', 'LONGITUDE']] = [30.3549, -85.7995]\n",
        "data_airports.loc[data_airports['IATA_CODE'] == 'PBG', ['LATITUDE', 'LONGITUDE']] = [44.6575, -73.4670]\n",
        "data_airports.loc[data_airports['IATA_CODE'] == 'UST', ['LATITUDE', 'LONGITUDE']] = [29.9314, -81.2961]"
      ],
      "metadata": {
        "id": "5KVKUCKME8Eg"
      },
      "execution_count": 12,
      "outputs": []
    },
    {
      "cell_type": "code",
      "source": [
        "data_airports.info()"
      ],
      "metadata": {
        "colab": {
          "base_uri": "https://localhost:8080/"
        },
        "id": "nW_FnqktGgi4",
        "outputId": "882ba90d-291f-45ff-d719-6f804b3afae8"
      },
      "execution_count": 13,
      "outputs": [
        {
          "output_type": "stream",
          "name": "stdout",
          "text": [
            "<class 'pandas.core.frame.DataFrame'>\n",
            "RangeIndex: 322 entries, 0 to 321\n",
            "Data columns (total 7 columns):\n",
            " #   Column     Non-Null Count  Dtype  \n",
            "---  ------     --------------  -----  \n",
            " 0   IATA_CODE  322 non-null    object \n",
            " 1   AIRPORT    322 non-null    object \n",
            " 2   CITY       322 non-null    object \n",
            " 3   STATE      322 non-null    object \n",
            " 4   COUNTRY    322 non-null    object \n",
            " 5   LATITUDE   322 non-null    float64\n",
            " 6   LONGITUDE  322 non-null    float64\n",
            "dtypes: float64(2), object(5)\n",
            "memory usage: 17.7+ KB\n"
          ]
        }
      ]
    },
    {
      "cell_type": "code",
      "source": [
        "data_flights.info()"
      ],
      "metadata": {
        "colab": {
          "base_uri": "https://localhost:8080/"
        },
        "id": "TOaf9zxLDvjY",
        "outputId": "75578f43-3e36-4c4a-ec27-5a25a8b07510"
      },
      "execution_count": 14,
      "outputs": [
        {
          "output_type": "stream",
          "name": "stdout",
          "text": [
            "<class 'pandas.core.frame.DataFrame'>\n",
            "RangeIndex: 5819079 entries, 0 to 5819078\n",
            "Data columns (total 31 columns):\n",
            " #   Column               Dtype  \n",
            "---  ------               -----  \n",
            " 0   YEAR                 int64  \n",
            " 1   MONTH                int64  \n",
            " 2   DAY                  int64  \n",
            " 3   DAY_OF_WEEK          int64  \n",
            " 4   AIRLINE              object \n",
            " 5   FLIGHT_NUMBER        int64  \n",
            " 6   TAIL_NUMBER          object \n",
            " 7   ORIGIN_AIRPORT       object \n",
            " 8   DESTINATION_AIRPORT  object \n",
            " 9   SCHEDULED_DEPARTURE  int64  \n",
            " 10  DEPARTURE_TIME       float64\n",
            " 11  DEPARTURE_DELAY      float64\n",
            " 12  TAXI_OUT             float64\n",
            " 13  WHEELS_OFF           float64\n",
            " 14  SCHEDULED_TIME       float64\n",
            " 15  ELAPSED_TIME         float64\n",
            " 16  AIR_TIME             float64\n",
            " 17  DISTANCE             int64  \n",
            " 18  WHEELS_ON            float64\n",
            " 19  TAXI_IN              float64\n",
            " 20  SCHEDULED_ARRIVAL    int64  \n",
            " 21  ARRIVAL_TIME         float64\n",
            " 22  ARRIVAL_DELAY        float64\n",
            " 23  DIVERTED             int64  \n",
            " 24  CANCELLED            int64  \n",
            " 25  CANCELLATION_REASON  object \n",
            " 26  AIR_SYSTEM_DELAY     float64\n",
            " 27  SECURITY_DELAY       float64\n",
            " 28  AIRLINE_DELAY        float64\n",
            " 29  LATE_AIRCRAFT_DELAY  float64\n",
            " 30  WEATHER_DELAY        float64\n",
            "dtypes: float64(16), int64(10), object(5)\n",
            "memory usage: 1.3+ GB\n"
          ]
        }
      ]
    },
    {
      "cell_type": "markdown",
      "source": [
        "### Flight Delays Dataset – Column Information  \n",
        "\n",
        "The dataset **`flights`** contains **5.8 million rows** and **31 columns**, covering all domestic US flights in 2015.  \n",
        "\n",
        "- **YEAR** – Year of the flight trip (all 2015).  \n",
        "- **MONTH** – Month of the flight trip.  \n",
        "- **DAY** – Day of the flight trip.  \n",
        "- **DAY_OF_WEEK** – Day of the week (1 = Monday, 7 = Sunday).  \n",
        "- **AIRLINE** – Airline carrier identifier (e.g., AA = American Airlines).  \n",
        "- **FLIGHT_NUMBER** – Unique flight number.  \n",
        "- **TAIL_NUMBER** – Aircraft identifier (missing in ~14.7k cases).  \n",
        "- **ORIGIN_AIRPORT** – Origin airport code (628 unique airports).  \n",
        "- **DESTINATION_AIRPORT** – Destination airport code (629 unique airports).  \n",
        "- **SCHEDULED_DEPARTURE** – Planned departure time (HHMM format).  \n",
        "- **DEPARTURE_TIME** – Actual departure time (~86k missing, ~1%).  \n",
        "- **DEPARTURE_DELAY** – Delay in departure (minutes) (~86k missing, ~1%).  \n",
        "- **TAXI_OUT** – Minutes between gate departure and wheels-off (~89k missing, ~2%).  \n",
        "- **WHEELS_OFF** – Time when wheels leave the ground (~89k missing, ~2%).  \n",
        "- **SCHEDULED_TIME** – Planned duration of the trip (~6 missing).  \n",
        "- **ELAPSED_TIME** – Actual total elapsed time of the trip (~105k missing, ~2%).  \n",
        "- **AIR_TIME** – Minutes between wheels-off and wheels-on (~105k missing, ~2%).  \n",
        "- **DISTANCE** – Distance between origin and destination airports.  \n",
        "- **WHEELS_ON** – Time when wheels touched the ground (~92k missing, ~2%).  \n",
        "- **TAXI_IN** – Minutes between wheels-on and gate arrival (~92k missing, ~2%).  \n",
        "- **SCHEDULED_ARRIVAL** – Planned arrival time (HHMM format).  \n",
        "- **ARRIVAL_TIME** – Actual arrival time (~92k missing, ~2%).  \n",
        "- **ARRIVAL_DELAY** – Difference between arrival and scheduled arrival (~105k missing, ~2%).  \n",
        "- **DIVERTED** – 1 if flight diverted, 0 otherwise.  \n",
        "- **CANCELLED** – 1 if flight cancelled, 0 otherwise.  \n",
        "- **CANCELLATION_REASON** – Reason for cancellation:  \n",
        "  - A = Airline  \n",
        "  - B = Weather  \n",
        "  - C = National Air System  \n",
        "  - D = Security  \n",
        "  (~5.73M missing, ~98%).  \n",
        "- **AIR_SYSTEM_DELAY** – Delay caused by the air system (~4.76M missing, ~82%).  \n",
        "- **SECURITY_DELAY** – Delay caused by security (~4.76M missing, ~82%).  \n",
        "- **AIRLINE_DELAY** – Delay caused by the airline (~4.76M missing, ~82%).  \n",
        "- **LATE_AIRCRAFT_DELAY** – Delay caused by a late-arriving aircraft (~4.76M missing, ~82%).  \n",
        "- **WEATHER_DELAY** – Delay caused by weather (~4.76M missing, ~82%).  \n"
      ],
      "metadata": {
        "id": "dzZtxbqEOuP1"
      }
    },
    {
      "cell_type": "code",
      "source": [
        "data_flights.head()"
      ],
      "metadata": {
        "colab": {
          "base_uri": "https://localhost:8080/",
          "height": 256
        },
        "id": "eKXBLQLfyyKv",
        "outputId": "dee14c34-00ba-4528-ae9c-00c843f6361e"
      },
      "execution_count": 15,
      "outputs": [
        {
          "output_type": "execute_result",
          "data": {
            "text/plain": [
              "   YEAR  MONTH  DAY  DAY_OF_WEEK AIRLINE  FLIGHT_NUMBER TAIL_NUMBER  \\\n",
              "0  2015      1    1            4      AS             98      N407AS   \n",
              "1  2015      1    1            4      AA           2336      N3KUAA   \n",
              "2  2015      1    1            4      US            840      N171US   \n",
              "3  2015      1    1            4      AA            258      N3HYAA   \n",
              "4  2015      1    1            4      AS            135      N527AS   \n",
              "\n",
              "  ORIGIN_AIRPORT DESTINATION_AIRPORT  SCHEDULED_DEPARTURE  ...  ARRIVAL_TIME  \\\n",
              "0            ANC                 SEA                    5  ...         408.0   \n",
              "1            LAX                 PBI                   10  ...         741.0   \n",
              "2            SFO                 CLT                   20  ...         811.0   \n",
              "3            LAX                 MIA                   20  ...         756.0   \n",
              "4            SEA                 ANC                   25  ...         259.0   \n",
              "\n",
              "   ARRIVAL_DELAY  DIVERTED  CANCELLED  CANCELLATION_REASON  AIR_SYSTEM_DELAY  \\\n",
              "0          -22.0         0          0                  NaN               NaN   \n",
              "1           -9.0         0          0                  NaN               NaN   \n",
              "2            5.0         0          0                  NaN               NaN   \n",
              "3           -9.0         0          0                  NaN               NaN   \n",
              "4          -21.0         0          0                  NaN               NaN   \n",
              "\n",
              "   SECURITY_DELAY  AIRLINE_DELAY  LATE_AIRCRAFT_DELAY  WEATHER_DELAY  \n",
              "0             NaN            NaN                  NaN            NaN  \n",
              "1             NaN            NaN                  NaN            NaN  \n",
              "2             NaN            NaN                  NaN            NaN  \n",
              "3             NaN            NaN                  NaN            NaN  \n",
              "4             NaN            NaN                  NaN            NaN  \n",
              "\n",
              "[5 rows x 31 columns]"
            ],
            "text/html": [
              "\n",
              "  <div id=\"df-d9ca99d5-2b92-41e3-b52d-a1e91eec8f0b\" class=\"colab-df-container\">\n",
              "    <div>\n",
              "<style scoped>\n",
              "    .dataframe tbody tr th:only-of-type {\n",
              "        vertical-align: middle;\n",
              "    }\n",
              "\n",
              "    .dataframe tbody tr th {\n",
              "        vertical-align: top;\n",
              "    }\n",
              "\n",
              "    .dataframe thead th {\n",
              "        text-align: right;\n",
              "    }\n",
              "</style>\n",
              "<table border=\"1\" class=\"dataframe\">\n",
              "  <thead>\n",
              "    <tr style=\"text-align: right;\">\n",
              "      <th></th>\n",
              "      <th>YEAR</th>\n",
              "      <th>MONTH</th>\n",
              "      <th>DAY</th>\n",
              "      <th>DAY_OF_WEEK</th>\n",
              "      <th>AIRLINE</th>\n",
              "      <th>FLIGHT_NUMBER</th>\n",
              "      <th>TAIL_NUMBER</th>\n",
              "      <th>ORIGIN_AIRPORT</th>\n",
              "      <th>DESTINATION_AIRPORT</th>\n",
              "      <th>SCHEDULED_DEPARTURE</th>\n",
              "      <th>...</th>\n",
              "      <th>ARRIVAL_TIME</th>\n",
              "      <th>ARRIVAL_DELAY</th>\n",
              "      <th>DIVERTED</th>\n",
              "      <th>CANCELLED</th>\n",
              "      <th>CANCELLATION_REASON</th>\n",
              "      <th>AIR_SYSTEM_DELAY</th>\n",
              "      <th>SECURITY_DELAY</th>\n",
              "      <th>AIRLINE_DELAY</th>\n",
              "      <th>LATE_AIRCRAFT_DELAY</th>\n",
              "      <th>WEATHER_DELAY</th>\n",
              "    </tr>\n",
              "  </thead>\n",
              "  <tbody>\n",
              "    <tr>\n",
              "      <th>0</th>\n",
              "      <td>2015</td>\n",
              "      <td>1</td>\n",
              "      <td>1</td>\n",
              "      <td>4</td>\n",
              "      <td>AS</td>\n",
              "      <td>98</td>\n",
              "      <td>N407AS</td>\n",
              "      <td>ANC</td>\n",
              "      <td>SEA</td>\n",
              "      <td>5</td>\n",
              "      <td>...</td>\n",
              "      <td>408.0</td>\n",
              "      <td>-22.0</td>\n",
              "      <td>0</td>\n",
              "      <td>0</td>\n",
              "      <td>NaN</td>\n",
              "      <td>NaN</td>\n",
              "      <td>NaN</td>\n",
              "      <td>NaN</td>\n",
              "      <td>NaN</td>\n",
              "      <td>NaN</td>\n",
              "    </tr>\n",
              "    <tr>\n",
              "      <th>1</th>\n",
              "      <td>2015</td>\n",
              "      <td>1</td>\n",
              "      <td>1</td>\n",
              "      <td>4</td>\n",
              "      <td>AA</td>\n",
              "      <td>2336</td>\n",
              "      <td>N3KUAA</td>\n",
              "      <td>LAX</td>\n",
              "      <td>PBI</td>\n",
              "      <td>10</td>\n",
              "      <td>...</td>\n",
              "      <td>741.0</td>\n",
              "      <td>-9.0</td>\n",
              "      <td>0</td>\n",
              "      <td>0</td>\n",
              "      <td>NaN</td>\n",
              "      <td>NaN</td>\n",
              "      <td>NaN</td>\n",
              "      <td>NaN</td>\n",
              "      <td>NaN</td>\n",
              "      <td>NaN</td>\n",
              "    </tr>\n",
              "    <tr>\n",
              "      <th>2</th>\n",
              "      <td>2015</td>\n",
              "      <td>1</td>\n",
              "      <td>1</td>\n",
              "      <td>4</td>\n",
              "      <td>US</td>\n",
              "      <td>840</td>\n",
              "      <td>N171US</td>\n",
              "      <td>SFO</td>\n",
              "      <td>CLT</td>\n",
              "      <td>20</td>\n",
              "      <td>...</td>\n",
              "      <td>811.0</td>\n",
              "      <td>5.0</td>\n",
              "      <td>0</td>\n",
              "      <td>0</td>\n",
              "      <td>NaN</td>\n",
              "      <td>NaN</td>\n",
              "      <td>NaN</td>\n",
              "      <td>NaN</td>\n",
              "      <td>NaN</td>\n",
              "      <td>NaN</td>\n",
              "    </tr>\n",
              "    <tr>\n",
              "      <th>3</th>\n",
              "      <td>2015</td>\n",
              "      <td>1</td>\n",
              "      <td>1</td>\n",
              "      <td>4</td>\n",
              "      <td>AA</td>\n",
              "      <td>258</td>\n",
              "      <td>N3HYAA</td>\n",
              "      <td>LAX</td>\n",
              "      <td>MIA</td>\n",
              "      <td>20</td>\n",
              "      <td>...</td>\n",
              "      <td>756.0</td>\n",
              "      <td>-9.0</td>\n",
              "      <td>0</td>\n",
              "      <td>0</td>\n",
              "      <td>NaN</td>\n",
              "      <td>NaN</td>\n",
              "      <td>NaN</td>\n",
              "      <td>NaN</td>\n",
              "      <td>NaN</td>\n",
              "      <td>NaN</td>\n",
              "    </tr>\n",
              "    <tr>\n",
              "      <th>4</th>\n",
              "      <td>2015</td>\n",
              "      <td>1</td>\n",
              "      <td>1</td>\n",
              "      <td>4</td>\n",
              "      <td>AS</td>\n",
              "      <td>135</td>\n",
              "      <td>N527AS</td>\n",
              "      <td>SEA</td>\n",
              "      <td>ANC</td>\n",
              "      <td>25</td>\n",
              "      <td>...</td>\n",
              "      <td>259.0</td>\n",
              "      <td>-21.0</td>\n",
              "      <td>0</td>\n",
              "      <td>0</td>\n",
              "      <td>NaN</td>\n",
              "      <td>NaN</td>\n",
              "      <td>NaN</td>\n",
              "      <td>NaN</td>\n",
              "      <td>NaN</td>\n",
              "      <td>NaN</td>\n",
              "    </tr>\n",
              "  </tbody>\n",
              "</table>\n",
              "<p>5 rows × 31 columns</p>\n",
              "</div>\n",
              "    <div class=\"colab-df-buttons\">\n",
              "\n",
              "  <div class=\"colab-df-container\">\n",
              "    <button class=\"colab-df-convert\" onclick=\"convertToInteractive('df-d9ca99d5-2b92-41e3-b52d-a1e91eec8f0b')\"\n",
              "            title=\"Convert this dataframe to an interactive table.\"\n",
              "            style=\"display:none;\">\n",
              "\n",
              "  <svg xmlns=\"http://www.w3.org/2000/svg\" height=\"24px\" viewBox=\"0 -960 960 960\">\n",
              "    <path d=\"M120-120v-720h720v720H120Zm60-500h600v-160H180v160Zm220 220h160v-160H400v160Zm0 220h160v-160H400v160ZM180-400h160v-160H180v160Zm440 0h160v-160H620v160ZM180-180h160v-160H180v160Zm440 0h160v-160H620v160Z\"/>\n",
              "  </svg>\n",
              "    </button>\n",
              "\n",
              "  <style>\n",
              "    .colab-df-container {\n",
              "      display:flex;\n",
              "      gap: 12px;\n",
              "    }\n",
              "\n",
              "    .colab-df-convert {\n",
              "      background-color: #E8F0FE;\n",
              "      border: none;\n",
              "      border-radius: 50%;\n",
              "      cursor: pointer;\n",
              "      display: none;\n",
              "      fill: #1967D2;\n",
              "      height: 32px;\n",
              "      padding: 0 0 0 0;\n",
              "      width: 32px;\n",
              "    }\n",
              "\n",
              "    .colab-df-convert:hover {\n",
              "      background-color: #E2EBFA;\n",
              "      box-shadow: 0px 1px 2px rgba(60, 64, 67, 0.3), 0px 1px 3px 1px rgba(60, 64, 67, 0.15);\n",
              "      fill: #174EA6;\n",
              "    }\n",
              "\n",
              "    .colab-df-buttons div {\n",
              "      margin-bottom: 4px;\n",
              "    }\n",
              "\n",
              "    [theme=dark] .colab-df-convert {\n",
              "      background-color: #3B4455;\n",
              "      fill: #D2E3FC;\n",
              "    }\n",
              "\n",
              "    [theme=dark] .colab-df-convert:hover {\n",
              "      background-color: #434B5C;\n",
              "      box-shadow: 0px 1px 3px 1px rgba(0, 0, 0, 0.15);\n",
              "      filter: drop-shadow(0px 1px 2px rgba(0, 0, 0, 0.3));\n",
              "      fill: #FFFFFF;\n",
              "    }\n",
              "  </style>\n",
              "\n",
              "    <script>\n",
              "      const buttonEl =\n",
              "        document.querySelector('#df-d9ca99d5-2b92-41e3-b52d-a1e91eec8f0b button.colab-df-convert');\n",
              "      buttonEl.style.display =\n",
              "        google.colab.kernel.accessAllowed ? 'block' : 'none';\n",
              "\n",
              "      async function convertToInteractive(key) {\n",
              "        const element = document.querySelector('#df-d9ca99d5-2b92-41e3-b52d-a1e91eec8f0b');\n",
              "        const dataTable =\n",
              "          await google.colab.kernel.invokeFunction('convertToInteractive',\n",
              "                                                    [key], {});\n",
              "        if (!dataTable) return;\n",
              "\n",
              "        const docLinkHtml = 'Like what you see? Visit the ' +\n",
              "          '<a target=\"_blank\" href=https://colab.research.google.com/notebooks/data_table.ipynb>data table notebook</a>'\n",
              "          + ' to learn more about interactive tables.';\n",
              "        element.innerHTML = '';\n",
              "        dataTable['output_type'] = 'display_data';\n",
              "        await google.colab.output.renderOutput(dataTable, element);\n",
              "        const docLink = document.createElement('div');\n",
              "        docLink.innerHTML = docLinkHtml;\n",
              "        element.appendChild(docLink);\n",
              "      }\n",
              "    </script>\n",
              "  </div>\n",
              "\n",
              "\n",
              "    <div id=\"df-f2e6f779-e2fa-4ca0-8ab6-d0bffd31ee1f\">\n",
              "      <button class=\"colab-df-quickchart\" onclick=\"quickchart('df-f2e6f779-e2fa-4ca0-8ab6-d0bffd31ee1f')\"\n",
              "                title=\"Suggest charts\"\n",
              "                style=\"display:none;\">\n",
              "\n",
              "<svg xmlns=\"http://www.w3.org/2000/svg\" height=\"24px\"viewBox=\"0 0 24 24\"\n",
              "     width=\"24px\">\n",
              "    <g>\n",
              "        <path d=\"M19 3H5c-1.1 0-2 .9-2 2v14c0 1.1.9 2 2 2h14c1.1 0 2-.9 2-2V5c0-1.1-.9-2-2-2zM9 17H7v-7h2v7zm4 0h-2V7h2v10zm4 0h-2v-4h2v4z\"/>\n",
              "    </g>\n",
              "</svg>\n",
              "      </button>\n",
              "\n",
              "<style>\n",
              "  .colab-df-quickchart {\n",
              "      --bg-color: #E8F0FE;\n",
              "      --fill-color: #1967D2;\n",
              "      --hover-bg-color: #E2EBFA;\n",
              "      --hover-fill-color: #174EA6;\n",
              "      --disabled-fill-color: #AAA;\n",
              "      --disabled-bg-color: #DDD;\n",
              "  }\n",
              "\n",
              "  [theme=dark] .colab-df-quickchart {\n",
              "      --bg-color: #3B4455;\n",
              "      --fill-color: #D2E3FC;\n",
              "      --hover-bg-color: #434B5C;\n",
              "      --hover-fill-color: #FFFFFF;\n",
              "      --disabled-bg-color: #3B4455;\n",
              "      --disabled-fill-color: #666;\n",
              "  }\n",
              "\n",
              "  .colab-df-quickchart {\n",
              "    background-color: var(--bg-color);\n",
              "    border: none;\n",
              "    border-radius: 50%;\n",
              "    cursor: pointer;\n",
              "    display: none;\n",
              "    fill: var(--fill-color);\n",
              "    height: 32px;\n",
              "    padding: 0;\n",
              "    width: 32px;\n",
              "  }\n",
              "\n",
              "  .colab-df-quickchart:hover {\n",
              "    background-color: var(--hover-bg-color);\n",
              "    box-shadow: 0 1px 2px rgba(60, 64, 67, 0.3), 0 1px 3px 1px rgba(60, 64, 67, 0.15);\n",
              "    fill: var(--button-hover-fill-color);\n",
              "  }\n",
              "\n",
              "  .colab-df-quickchart-complete:disabled,\n",
              "  .colab-df-quickchart-complete:disabled:hover {\n",
              "    background-color: var(--disabled-bg-color);\n",
              "    fill: var(--disabled-fill-color);\n",
              "    box-shadow: none;\n",
              "  }\n",
              "\n",
              "  .colab-df-spinner {\n",
              "    border: 2px solid var(--fill-color);\n",
              "    border-color: transparent;\n",
              "    border-bottom-color: var(--fill-color);\n",
              "    animation:\n",
              "      spin 1s steps(1) infinite;\n",
              "  }\n",
              "\n",
              "  @keyframes spin {\n",
              "    0% {\n",
              "      border-color: transparent;\n",
              "      border-bottom-color: var(--fill-color);\n",
              "      border-left-color: var(--fill-color);\n",
              "    }\n",
              "    20% {\n",
              "      border-color: transparent;\n",
              "      border-left-color: var(--fill-color);\n",
              "      border-top-color: var(--fill-color);\n",
              "    }\n",
              "    30% {\n",
              "      border-color: transparent;\n",
              "      border-left-color: var(--fill-color);\n",
              "      border-top-color: var(--fill-color);\n",
              "      border-right-color: var(--fill-color);\n",
              "    }\n",
              "    40% {\n",
              "      border-color: transparent;\n",
              "      border-right-color: var(--fill-color);\n",
              "      border-top-color: var(--fill-color);\n",
              "    }\n",
              "    60% {\n",
              "      border-color: transparent;\n",
              "      border-right-color: var(--fill-color);\n",
              "    }\n",
              "    80% {\n",
              "      border-color: transparent;\n",
              "      border-right-color: var(--fill-color);\n",
              "      border-bottom-color: var(--fill-color);\n",
              "    }\n",
              "    90% {\n",
              "      border-color: transparent;\n",
              "      border-bottom-color: var(--fill-color);\n",
              "    }\n",
              "  }\n",
              "</style>\n",
              "\n",
              "      <script>\n",
              "        async function quickchart(key) {\n",
              "          const quickchartButtonEl =\n",
              "            document.querySelector('#' + key + ' button');\n",
              "          quickchartButtonEl.disabled = true;  // To prevent multiple clicks.\n",
              "          quickchartButtonEl.classList.add('colab-df-spinner');\n",
              "          try {\n",
              "            const charts = await google.colab.kernel.invokeFunction(\n",
              "                'suggestCharts', [key], {});\n",
              "          } catch (error) {\n",
              "            console.error('Error during call to suggestCharts:', error);\n",
              "          }\n",
              "          quickchartButtonEl.classList.remove('colab-df-spinner');\n",
              "          quickchartButtonEl.classList.add('colab-df-quickchart-complete');\n",
              "        }\n",
              "        (() => {\n",
              "          let quickchartButtonEl =\n",
              "            document.querySelector('#df-f2e6f779-e2fa-4ca0-8ab6-d0bffd31ee1f button');\n",
              "          quickchartButtonEl.style.display =\n",
              "            google.colab.kernel.accessAllowed ? 'block' : 'none';\n",
              "        })();\n",
              "      </script>\n",
              "    </div>\n",
              "\n",
              "    </div>\n",
              "  </div>\n"
            ],
            "application/vnd.google.colaboratory.intrinsic+json": {
              "type": "dataframe",
              "variable_name": "data_flights"
            }
          },
          "metadata": {},
          "execution_count": 15
        }
      ]
    },
    {
      "cell_type": "code",
      "source": [
        "data_airports.head()"
      ],
      "metadata": {
        "colab": {
          "base_uri": "https://localhost:8080/",
          "height": 206
        },
        "id": "Qm-oRwvZ3twM",
        "outputId": "4a2410fa-6d1f-454d-9f8a-a5fab6486459"
      },
      "execution_count": 16,
      "outputs": [
        {
          "output_type": "execute_result",
          "data": {
            "text/plain": [
              "  IATA_CODE                              AIRPORT         CITY STATE COUNTRY  \\\n",
              "0       ABE  Lehigh Valley International Airport    Allentown    PA     USA   \n",
              "1       ABI             Abilene Regional Airport      Abilene    TX     USA   \n",
              "2       ABQ    Albuquerque International Sunport  Albuquerque    NM     USA   \n",
              "3       ABR            Aberdeen Regional Airport     Aberdeen    SD     USA   \n",
              "4       ABY   Southwest Georgia Regional Airport       Albany    GA     USA   \n",
              "\n",
              "   LATITUDE  LONGITUDE  \n",
              "0  40.65236  -75.44040  \n",
              "1  32.41132  -99.68190  \n",
              "2  35.04022 -106.60919  \n",
              "3  45.44906  -98.42183  \n",
              "4  31.53552  -84.19447  "
            ],
            "text/html": [
              "\n",
              "  <div id=\"df-f8243ced-2477-4c92-94df-ffb541dc26a8\" class=\"colab-df-container\">\n",
              "    <div>\n",
              "<style scoped>\n",
              "    .dataframe tbody tr th:only-of-type {\n",
              "        vertical-align: middle;\n",
              "    }\n",
              "\n",
              "    .dataframe tbody tr th {\n",
              "        vertical-align: top;\n",
              "    }\n",
              "\n",
              "    .dataframe thead th {\n",
              "        text-align: right;\n",
              "    }\n",
              "</style>\n",
              "<table border=\"1\" class=\"dataframe\">\n",
              "  <thead>\n",
              "    <tr style=\"text-align: right;\">\n",
              "      <th></th>\n",
              "      <th>IATA_CODE</th>\n",
              "      <th>AIRPORT</th>\n",
              "      <th>CITY</th>\n",
              "      <th>STATE</th>\n",
              "      <th>COUNTRY</th>\n",
              "      <th>LATITUDE</th>\n",
              "      <th>LONGITUDE</th>\n",
              "    </tr>\n",
              "  </thead>\n",
              "  <tbody>\n",
              "    <tr>\n",
              "      <th>0</th>\n",
              "      <td>ABE</td>\n",
              "      <td>Lehigh Valley International Airport</td>\n",
              "      <td>Allentown</td>\n",
              "      <td>PA</td>\n",
              "      <td>USA</td>\n",
              "      <td>40.65236</td>\n",
              "      <td>-75.44040</td>\n",
              "    </tr>\n",
              "    <tr>\n",
              "      <th>1</th>\n",
              "      <td>ABI</td>\n",
              "      <td>Abilene Regional Airport</td>\n",
              "      <td>Abilene</td>\n",
              "      <td>TX</td>\n",
              "      <td>USA</td>\n",
              "      <td>32.41132</td>\n",
              "      <td>-99.68190</td>\n",
              "    </tr>\n",
              "    <tr>\n",
              "      <th>2</th>\n",
              "      <td>ABQ</td>\n",
              "      <td>Albuquerque International Sunport</td>\n",
              "      <td>Albuquerque</td>\n",
              "      <td>NM</td>\n",
              "      <td>USA</td>\n",
              "      <td>35.04022</td>\n",
              "      <td>-106.60919</td>\n",
              "    </tr>\n",
              "    <tr>\n",
              "      <th>3</th>\n",
              "      <td>ABR</td>\n",
              "      <td>Aberdeen Regional Airport</td>\n",
              "      <td>Aberdeen</td>\n",
              "      <td>SD</td>\n",
              "      <td>USA</td>\n",
              "      <td>45.44906</td>\n",
              "      <td>-98.42183</td>\n",
              "    </tr>\n",
              "    <tr>\n",
              "      <th>4</th>\n",
              "      <td>ABY</td>\n",
              "      <td>Southwest Georgia Regional Airport</td>\n",
              "      <td>Albany</td>\n",
              "      <td>GA</td>\n",
              "      <td>USA</td>\n",
              "      <td>31.53552</td>\n",
              "      <td>-84.19447</td>\n",
              "    </tr>\n",
              "  </tbody>\n",
              "</table>\n",
              "</div>\n",
              "    <div class=\"colab-df-buttons\">\n",
              "\n",
              "  <div class=\"colab-df-container\">\n",
              "    <button class=\"colab-df-convert\" onclick=\"convertToInteractive('df-f8243ced-2477-4c92-94df-ffb541dc26a8')\"\n",
              "            title=\"Convert this dataframe to an interactive table.\"\n",
              "            style=\"display:none;\">\n",
              "\n",
              "  <svg xmlns=\"http://www.w3.org/2000/svg\" height=\"24px\" viewBox=\"0 -960 960 960\">\n",
              "    <path d=\"M120-120v-720h720v720H120Zm60-500h600v-160H180v160Zm220 220h160v-160H400v160Zm0 220h160v-160H400v160ZM180-400h160v-160H180v160Zm440 0h160v-160H620v160ZM180-180h160v-160H180v160Zm440 0h160v-160H620v160Z\"/>\n",
              "  </svg>\n",
              "    </button>\n",
              "\n",
              "  <style>\n",
              "    .colab-df-container {\n",
              "      display:flex;\n",
              "      gap: 12px;\n",
              "    }\n",
              "\n",
              "    .colab-df-convert {\n",
              "      background-color: #E8F0FE;\n",
              "      border: none;\n",
              "      border-radius: 50%;\n",
              "      cursor: pointer;\n",
              "      display: none;\n",
              "      fill: #1967D2;\n",
              "      height: 32px;\n",
              "      padding: 0 0 0 0;\n",
              "      width: 32px;\n",
              "    }\n",
              "\n",
              "    .colab-df-convert:hover {\n",
              "      background-color: #E2EBFA;\n",
              "      box-shadow: 0px 1px 2px rgba(60, 64, 67, 0.3), 0px 1px 3px 1px rgba(60, 64, 67, 0.15);\n",
              "      fill: #174EA6;\n",
              "    }\n",
              "\n",
              "    .colab-df-buttons div {\n",
              "      margin-bottom: 4px;\n",
              "    }\n",
              "\n",
              "    [theme=dark] .colab-df-convert {\n",
              "      background-color: #3B4455;\n",
              "      fill: #D2E3FC;\n",
              "    }\n",
              "\n",
              "    [theme=dark] .colab-df-convert:hover {\n",
              "      background-color: #434B5C;\n",
              "      box-shadow: 0px 1px 3px 1px rgba(0, 0, 0, 0.15);\n",
              "      filter: drop-shadow(0px 1px 2px rgba(0, 0, 0, 0.3));\n",
              "      fill: #FFFFFF;\n",
              "    }\n",
              "  </style>\n",
              "\n",
              "    <script>\n",
              "      const buttonEl =\n",
              "        document.querySelector('#df-f8243ced-2477-4c92-94df-ffb541dc26a8 button.colab-df-convert');\n",
              "      buttonEl.style.display =\n",
              "        google.colab.kernel.accessAllowed ? 'block' : 'none';\n",
              "\n",
              "      async function convertToInteractive(key) {\n",
              "        const element = document.querySelector('#df-f8243ced-2477-4c92-94df-ffb541dc26a8');\n",
              "        const dataTable =\n",
              "          await google.colab.kernel.invokeFunction('convertToInteractive',\n",
              "                                                    [key], {});\n",
              "        if (!dataTable) return;\n",
              "\n",
              "        const docLinkHtml = 'Like what you see? Visit the ' +\n",
              "          '<a target=\"_blank\" href=https://colab.research.google.com/notebooks/data_table.ipynb>data table notebook</a>'\n",
              "          + ' to learn more about interactive tables.';\n",
              "        element.innerHTML = '';\n",
              "        dataTable['output_type'] = 'display_data';\n",
              "        await google.colab.output.renderOutput(dataTable, element);\n",
              "        const docLink = document.createElement('div');\n",
              "        docLink.innerHTML = docLinkHtml;\n",
              "        element.appendChild(docLink);\n",
              "      }\n",
              "    </script>\n",
              "  </div>\n",
              "\n",
              "\n",
              "    <div id=\"df-69c96a8a-f2d6-4223-ae1b-fa1ebcff39a6\">\n",
              "      <button class=\"colab-df-quickchart\" onclick=\"quickchart('df-69c96a8a-f2d6-4223-ae1b-fa1ebcff39a6')\"\n",
              "                title=\"Suggest charts\"\n",
              "                style=\"display:none;\">\n",
              "\n",
              "<svg xmlns=\"http://www.w3.org/2000/svg\" height=\"24px\"viewBox=\"0 0 24 24\"\n",
              "     width=\"24px\">\n",
              "    <g>\n",
              "        <path d=\"M19 3H5c-1.1 0-2 .9-2 2v14c0 1.1.9 2 2 2h14c1.1 0 2-.9 2-2V5c0-1.1-.9-2-2-2zM9 17H7v-7h2v7zm4 0h-2V7h2v10zm4 0h-2v-4h2v4z\"/>\n",
              "    </g>\n",
              "</svg>\n",
              "      </button>\n",
              "\n",
              "<style>\n",
              "  .colab-df-quickchart {\n",
              "      --bg-color: #E8F0FE;\n",
              "      --fill-color: #1967D2;\n",
              "      --hover-bg-color: #E2EBFA;\n",
              "      --hover-fill-color: #174EA6;\n",
              "      --disabled-fill-color: #AAA;\n",
              "      --disabled-bg-color: #DDD;\n",
              "  }\n",
              "\n",
              "  [theme=dark] .colab-df-quickchart {\n",
              "      --bg-color: #3B4455;\n",
              "      --fill-color: #D2E3FC;\n",
              "      --hover-bg-color: #434B5C;\n",
              "      --hover-fill-color: #FFFFFF;\n",
              "      --disabled-bg-color: #3B4455;\n",
              "      --disabled-fill-color: #666;\n",
              "  }\n",
              "\n",
              "  .colab-df-quickchart {\n",
              "    background-color: var(--bg-color);\n",
              "    border: none;\n",
              "    border-radius: 50%;\n",
              "    cursor: pointer;\n",
              "    display: none;\n",
              "    fill: var(--fill-color);\n",
              "    height: 32px;\n",
              "    padding: 0;\n",
              "    width: 32px;\n",
              "  }\n",
              "\n",
              "  .colab-df-quickchart:hover {\n",
              "    background-color: var(--hover-bg-color);\n",
              "    box-shadow: 0 1px 2px rgba(60, 64, 67, 0.3), 0 1px 3px 1px rgba(60, 64, 67, 0.15);\n",
              "    fill: var(--button-hover-fill-color);\n",
              "  }\n",
              "\n",
              "  .colab-df-quickchart-complete:disabled,\n",
              "  .colab-df-quickchart-complete:disabled:hover {\n",
              "    background-color: var(--disabled-bg-color);\n",
              "    fill: var(--disabled-fill-color);\n",
              "    box-shadow: none;\n",
              "  }\n",
              "\n",
              "  .colab-df-spinner {\n",
              "    border: 2px solid var(--fill-color);\n",
              "    border-color: transparent;\n",
              "    border-bottom-color: var(--fill-color);\n",
              "    animation:\n",
              "      spin 1s steps(1) infinite;\n",
              "  }\n",
              "\n",
              "  @keyframes spin {\n",
              "    0% {\n",
              "      border-color: transparent;\n",
              "      border-bottom-color: var(--fill-color);\n",
              "      border-left-color: var(--fill-color);\n",
              "    }\n",
              "    20% {\n",
              "      border-color: transparent;\n",
              "      border-left-color: var(--fill-color);\n",
              "      border-top-color: var(--fill-color);\n",
              "    }\n",
              "    30% {\n",
              "      border-color: transparent;\n",
              "      border-left-color: var(--fill-color);\n",
              "      border-top-color: var(--fill-color);\n",
              "      border-right-color: var(--fill-color);\n",
              "    }\n",
              "    40% {\n",
              "      border-color: transparent;\n",
              "      border-right-color: var(--fill-color);\n",
              "      border-top-color: var(--fill-color);\n",
              "    }\n",
              "    60% {\n",
              "      border-color: transparent;\n",
              "      border-right-color: var(--fill-color);\n",
              "    }\n",
              "    80% {\n",
              "      border-color: transparent;\n",
              "      border-right-color: var(--fill-color);\n",
              "      border-bottom-color: var(--fill-color);\n",
              "    }\n",
              "    90% {\n",
              "      border-color: transparent;\n",
              "      border-bottom-color: var(--fill-color);\n",
              "    }\n",
              "  }\n",
              "</style>\n",
              "\n",
              "      <script>\n",
              "        async function quickchart(key) {\n",
              "          const quickchartButtonEl =\n",
              "            document.querySelector('#' + key + ' button');\n",
              "          quickchartButtonEl.disabled = true;  // To prevent multiple clicks.\n",
              "          quickchartButtonEl.classList.add('colab-df-spinner');\n",
              "          try {\n",
              "            const charts = await google.colab.kernel.invokeFunction(\n",
              "                'suggestCharts', [key], {});\n",
              "          } catch (error) {\n",
              "            console.error('Error during call to suggestCharts:', error);\n",
              "          }\n",
              "          quickchartButtonEl.classList.remove('colab-df-spinner');\n",
              "          quickchartButtonEl.classList.add('colab-df-quickchart-complete');\n",
              "        }\n",
              "        (() => {\n",
              "          let quickchartButtonEl =\n",
              "            document.querySelector('#df-69c96a8a-f2d6-4223-ae1b-fa1ebcff39a6 button');\n",
              "          quickchartButtonEl.style.display =\n",
              "            google.colab.kernel.accessAllowed ? 'block' : 'none';\n",
              "        })();\n",
              "      </script>\n",
              "    </div>\n",
              "\n",
              "    </div>\n",
              "  </div>\n"
            ],
            "application/vnd.google.colaboratory.intrinsic+json": {
              "type": "dataframe",
              "variable_name": "data_airports",
              "summary": "{\n  \"name\": \"data_airports\",\n  \"rows\": 322,\n  \"fields\": [\n    {\n      \"column\": \"IATA_CODE\",\n      \"properties\": {\n        \"dtype\": \"string\",\n        \"num_unique_values\": 322,\n        \"samples\": [\n          \"LAR\",\n          \"GSP\",\n          \"MEM\"\n        ],\n        \"semantic_type\": \"\",\n        \"description\": \"\"\n      }\n    },\n    {\n      \"column\": \"AIRPORT\",\n      \"properties\": {\n        \"dtype\": \"string\",\n        \"num_unique_values\": 322,\n        \"samples\": [\n          \"Laramie Regional Airport\",\n          \"Greenville-Spartanburg International Airport\",\n          \"Memphis International Airport\"\n        ],\n        \"semantic_type\": \"\",\n        \"description\": \"\"\n      }\n    },\n    {\n      \"column\": \"CITY\",\n      \"properties\": {\n        \"dtype\": \"string\",\n        \"num_unique_values\": 308,\n        \"samples\": [\n          \"Toledo\",\n          \"Adak\",\n          \"Chattanooga\"\n        ],\n        \"semantic_type\": \"\",\n        \"description\": \"\"\n      }\n    },\n    {\n      \"column\": \"STATE\",\n      \"properties\": {\n        \"dtype\": \"category\",\n        \"num_unique_values\": 54,\n        \"samples\": [\n          \"MT\",\n          \"OK\",\n          \"DE\"\n        ],\n        \"semantic_type\": \"\",\n        \"description\": \"\"\n      }\n    },\n    {\n      \"column\": \"COUNTRY\",\n      \"properties\": {\n        \"dtype\": \"category\",\n        \"num_unique_values\": 1,\n        \"samples\": [\n          \"USA\"\n        ],\n        \"semantic_type\": \"\",\n        \"description\": \"\"\n      }\n    },\n    {\n      \"column\": \"LATITUDE\",\n      \"properties\": {\n        \"dtype\": \"number\",\n        \"std\": 8.61046819363068,\n        \"min\": 13.48345,\n        \"max\": 71.28545,\n        \"num_unique_values\": 322,\n        \"samples\": [\n          41.31205\n        ],\n        \"semantic_type\": \"\",\n        \"description\": \"\"\n      }\n    },\n    {\n      \"column\": \"LONGITUDE\",\n      \"properties\": {\n        \"dtype\": \"number\",\n        \"std\": 21.499715954946414,\n        \"min\": -176.64603,\n        \"max\": -64.79856,\n        \"num_unique_values\": 322,\n        \"samples\": [\n          -105.67499\n        ],\n        \"semantic_type\": \"\",\n        \"description\": \"\"\n      }\n    }\n  ]\n}"
            }
          },
          "metadata": {},
          "execution_count": 16
        }
      ]
    },
    {
      "cell_type": "code",
      "source": [
        "# Clean airport codes just in case\n",
        "data_airports['IATA_CODE'] = data_airports['IATA_CODE'].str.strip()\n",
        "\n",
        "# Create dictionaries for lat/lon\n",
        "lat_map = dict(zip(data_airports['IATA_CODE'], data_airports['LATITUDE']))\n",
        "lon_map = dict(zip(data_airports['IATA_CODE'], data_airports['LONGITUDE']))"
      ],
      "metadata": {
        "id": "y-Pz2gOKN_8V"
      },
      "execution_count": 17,
      "outputs": []
    },
    {
      "cell_type": "code",
      "source": [
        "# Clean flight airport codes as well\n",
        "data_flights['ORIGIN_AIRPORT'] = data_flights['ORIGIN_AIRPORT'].str.strip()\n",
        "data_flights['DESTINATION_AIRPORT'] = data_flights['DESTINATION_AIRPORT'].str.strip()\n",
        "\n",
        "# Map lat/lon for origin\n",
        "data_flights['ORIGIN_LAT'] = data_flights['ORIGIN_AIRPORT'].map(lat_map)\n",
        "data_flights['ORIGIN_LON'] = data_flights['ORIGIN_AIRPORT'].map(lon_map)\n",
        "\n",
        "# Map lat/lon for destination\n",
        "data_flights['DEST_LAT'] = data_flights['DESTINATION_AIRPORT'].map(lat_map)\n",
        "data_flights['DEST_LON'] = data_flights['DESTINATION_AIRPORT'].map(lon_map)\n"
      ],
      "metadata": {
        "id": "5XN1qrsFOu5z"
      },
      "execution_count": 18,
      "outputs": []
    },
    {
      "cell_type": "code",
      "source": [],
      "metadata": {
        "id": "xCsdbadeO8jx"
      },
      "execution_count": 18,
      "outputs": []
    },
    {
      "cell_type": "code",
      "source": [
        "print(\"ORIGIN_LAT missing:\", data_flights['ORIGIN_LAT'].isnull().sum())\n",
        "print(\"ORIGIN_LON missing:\", data_flights['ORIGIN_LON'].isnull().sum())\n",
        "print(\"DEST_LAT missing:\", data_flights['DEST_LAT'].isnull().sum())\n",
        "print(\"DEST_LON missing:\", data_flights['DEST_LON'].isnull().sum())\n"
      ],
      "metadata": {
        "colab": {
          "base_uri": "https://localhost:8080/"
        },
        "id": "8Xn_AOeIOzXD",
        "outputId": "c29ca0c6-1de2-4f06-a044-274ed643f670"
      },
      "execution_count": 19,
      "outputs": [
        {
          "output_type": "stream",
          "name": "stdout",
          "text": [
            "ORIGIN_LAT missing: 486165\n",
            "ORIGIN_LON missing: 486165\n",
            "DEST_LAT missing: 486165\n",
            "DEST_LON missing: 486165\n"
          ]
        }
      ]
    },
    {
      "cell_type": "code",
      "source": [
        "print(\"Unique ORIGIN_AIRPORT codes:\", data_flights['ORIGIN_AIRPORT'].nunique())\n",
        "print(\"Unique DESTINATION_AIRPORT codes:\", data_flights['DESTINATION_AIRPORT'].nunique())\n",
        "print(\"Unique IATA_CODE in airports:\", data_airports['IATA_CODE'].nunique())"
      ],
      "metadata": {
        "colab": {
          "base_uri": "https://localhost:8080/"
        },
        "id": "dI7uCnbuO9Ut",
        "outputId": "8af8486f-261c-49d5-e2f0-c49ef1cc6884"
      },
      "execution_count": 20,
      "outputs": [
        {
          "output_type": "stream",
          "name": "stdout",
          "text": [
            "Unique ORIGIN_AIRPORT codes: 624\n",
            "Unique DESTINATION_AIRPORT codes: 624\n",
            "Unique IATA_CODE in airports: 322\n"
          ]
        }
      ]
    },
    {
      "cell_type": "code",
      "source": [
        "# Drop rows where any of the lat/lon columns are missing\n",
        "data_flights = data_flights.dropna(subset=['ORIGIN_LAT','ORIGIN_LON','DEST_LAT','DEST_LON'])\n",
        "\n",
        "# Confirm\n",
        "print(\"Remaining rows:\", len(data_flights))\n",
        "print(\"Any missing ORIGIN_LAT:\", data_flights['ORIGIN_LAT'].isnull().sum())\n"
      ],
      "metadata": {
        "colab": {
          "base_uri": "https://localhost:8080/"
        },
        "id": "QibdNsapP0Li",
        "outputId": "77caca00-8184-4286-d599-8cf724f94878"
      },
      "execution_count": 21,
      "outputs": [
        {
          "output_type": "stream",
          "name": "stdout",
          "text": [
            "Remaining rows: 5332914\n",
            "Any missing ORIGIN_LAT: 0\n"
          ]
        }
      ]
    },
    {
      "cell_type": "code",
      "source": [
        "# Check result\n",
        "print(data_flights[[\"ORIGIN_AIRPORT\",\"ORIGIN_LAT\",\"ORIGIN_LON\",\"DESTINATION_AIRPORT\",\"DEST_LAT\",\"DEST_LON\"]].head())"
      ],
      "metadata": {
        "colab": {
          "base_uri": "https://localhost:8080/"
        },
        "id": "EEamqLye4dBu",
        "outputId": "88979b45-8848-4e82-8c11-00eb66920f05"
      },
      "execution_count": 22,
      "outputs": [
        {
          "output_type": "stream",
          "name": "stdout",
          "text": [
            "  ORIGIN_AIRPORT  ORIGIN_LAT  ORIGIN_LON DESTINATION_AIRPORT  DEST_LAT  \\\n",
            "0            ANC    61.17432  -149.99619                 SEA  47.44898   \n",
            "1            LAX    33.94254  -118.40807                 PBI  26.68316   \n",
            "2            SFO    37.61900  -122.37484                 CLT  35.21401   \n",
            "3            LAX    33.94254  -118.40807                 MIA  25.79325   \n",
            "4            SEA    47.44898  -122.30931                 ANC  61.17432   \n",
            "\n",
            "    DEST_LON  \n",
            "0 -122.30931  \n",
            "1  -80.09559  \n",
            "2  -80.94313  \n",
            "3  -80.29056  \n",
            "4 -149.99619  \n"
          ]
        }
      ]
    },
    {
      "cell_type": "code",
      "source": [
        "data_flights.info()"
      ],
      "metadata": {
        "colab": {
          "base_uri": "https://localhost:8080/"
        },
        "id": "agDYDEYgyMMk",
        "outputId": "0647519f-a2f6-43e3-afc1-d4c470233c9f"
      },
      "execution_count": 23,
      "outputs": [
        {
          "output_type": "stream",
          "name": "stdout",
          "text": [
            "<class 'pandas.core.frame.DataFrame'>\n",
            "Index: 5332914 entries, 0 to 5819078\n",
            "Data columns (total 35 columns):\n",
            " #   Column               Dtype  \n",
            "---  ------               -----  \n",
            " 0   YEAR                 int64  \n",
            " 1   MONTH                int64  \n",
            " 2   DAY                  int64  \n",
            " 3   DAY_OF_WEEK          int64  \n",
            " 4   AIRLINE              object \n",
            " 5   FLIGHT_NUMBER        int64  \n",
            " 6   TAIL_NUMBER          object \n",
            " 7   ORIGIN_AIRPORT       object \n",
            " 8   DESTINATION_AIRPORT  object \n",
            " 9   SCHEDULED_DEPARTURE  int64  \n",
            " 10  DEPARTURE_TIME       float64\n",
            " 11  DEPARTURE_DELAY      float64\n",
            " 12  TAXI_OUT             float64\n",
            " 13  WHEELS_OFF           float64\n",
            " 14  SCHEDULED_TIME       float64\n",
            " 15  ELAPSED_TIME         float64\n",
            " 16  AIR_TIME             float64\n",
            " 17  DISTANCE             int64  \n",
            " 18  WHEELS_ON            float64\n",
            " 19  TAXI_IN              float64\n",
            " 20  SCHEDULED_ARRIVAL    int64  \n",
            " 21  ARRIVAL_TIME         float64\n",
            " 22  ARRIVAL_DELAY        float64\n",
            " 23  DIVERTED             int64  \n",
            " 24  CANCELLED            int64  \n",
            " 25  CANCELLATION_REASON  object \n",
            " 26  AIR_SYSTEM_DELAY     float64\n",
            " 27  SECURITY_DELAY       float64\n",
            " 28  AIRLINE_DELAY        float64\n",
            " 29  LATE_AIRCRAFT_DELAY  float64\n",
            " 30  WEATHER_DELAY        float64\n",
            " 31  ORIGIN_LAT           float64\n",
            " 32  ORIGIN_LON           float64\n",
            " 33  DEST_LAT             float64\n",
            " 34  DEST_LON             float64\n",
            "dtypes: float64(20), int64(10), object(5)\n",
            "memory usage: 1.4+ GB\n"
          ]
        }
      ]
    },
    {
      "cell_type": "code",
      "source": [
        "import matplotlib.pyplot as plt\n",
        "import seaborn as sns\n",
        "\n",
        "# Select only numeric columns\n",
        "numeric_cols = data_flights.select_dtypes(include=[\"int64\", \"float64\"])\n",
        "\n",
        "# Compute correlation\n",
        "corr = numeric_cols.corr()\n",
        "\n",
        "# Plot correlation heatmap\n",
        "plt.figure(figsize=(16,10))\n",
        "sns.heatmap(corr, annot=False, cmap=\"coolwarm\", center=0)\n",
        "plt.title(\"Correlation Matrix of Flight Dataset\", fontsize=16)\n",
        "plt.show()\n"
      ],
      "metadata": {
        "colab": {
          "base_uri": "https://localhost:8080/",
          "height": 1000
        },
        "id": "tq-wTwVOugAe",
        "outputId": "c8b3c67a-2736-4794-81be-e7ca3d525f0d"
      },
      "execution_count": 24,
      "outputs": [
        {
          "output_type": "display_data",
          "data": {
            "text/plain": [
              "<Figure size 1600x1000 with 2 Axes>"
            ],
            "image/png": "[encoded data removed]"
          },
          "metadata": {}
        }
      ]
    },
    {
      "cell_type": "markdown",
      "source": [
        "###Exploratory Data Analysis"
      ],
      "metadata": {
        "id": "KIomqJAPPi7I"
      }
    },
    {
      "cell_type": "code",
      "source": [
        "import matplotlib.pyplot as plt\n",
        "import seaborn as sns\n",
        "\n",
        "# Compute mean arrival delay for each airline\n",
        "airline_delays = (\n",
        "    data_flights.groupby(\"AIRLINE\")[\"ARRIVAL_DELAY\"]\n",
        "    .mean()\n",
        "    .sort_values(ascending=False)\n",
        ")\n",
        "\n",
        "# Plot\n",
        "plt.figure(figsize=(12,6))\n",
        "sns.barplot(\n",
        "    x=airline_delays.index,\n",
        "    y=airline_delays.values,\n",
        "    palette=\"viridis\"\n",
        ")\n",
        "plt.xticks(rotation=45)\n",
        "plt.title(\"Average Arrival Delay by Airline\", fontsize=16)\n",
        "plt.ylabel(\"Average Arrival Delay (minutes)\")\n",
        "plt.xlabel(\"Airline\")\n",
        "plt.show()\n"
      ],
      "metadata": {
        "colab": {
          "base_uri": "https://localhost:8080/",
          "height": 666
        },
        "id": "ZL6vLjrsGrsN",
        "outputId": "7d9bc3f0-d01f-4a75-ec89-9561aa9b997d"
      },
      "execution_count": 25,
      "outputs": [
        {
          "output_type": "stream",
          "name": "stderr",
          "text": [
            "/tmp/ipython-input-214370416.py:13: FutureWarning: \n",
            "\n",
            "Passing `palette` without assigning `hue` is deprecated and will be removed in v0.14.0. Assign the `x` variable to `hue` and set `legend=False` for the same effect.\n",
            "\n",
            "  sns.barplot(\n"
          ]
        },
        {
          "output_type": "display_data",
          "data": {
            "text/plain": [
              "<Figure size 1200x600 with 1 Axes>"
            ],
            "image/png": "[encoded data removed]"
          },
          "metadata": {}
        }
      ]
    },
    {
      "cell_type": "code",
      "source": [
        "import matplotlib.pyplot as plt\n",
        "import seaborn as sns\n",
        "\n",
        "# Compute mean arrival delay for each airline\n",
        "airline_delays = (\n",
        "    data_flights.groupby(\"AIRLINE\")[\"DEPARTURE_DELAY\"]\n",
        "    .mean()\n",
        "    .sort_values(ascending=False)\n",
        ")\n",
        "\n",
        "# Plot\n",
        "plt.figure(figsize=(12,6))\n",
        "sns.barplot(\n",
        "    x=airline_delays.index,\n",
        "    y=airline_delays.values,\n",
        "    palette=\"viridis\"\n",
        ")\n",
        "plt.xticks(rotation=45)\n",
        "plt.title(\"Average DEPARTURE Delay by Airline\", fontsize=16)\n",
        "plt.ylabel(\"Average DEPARTURE Delay (minutes)\")\n",
        "plt.xlabel(\"Airline\")\n",
        "plt.show()\n"
      ],
      "metadata": {
        "colab": {
          "base_uri": "https://localhost:8080/",
          "height": 666
        },
        "id": "f6k9i7y8RXCZ",
        "outputId": "83ed16b5-e744-4380-c5c0-efe750ee44ac"
      },
      "execution_count": 26,
      "outputs": [
        {
          "output_type": "stream",
          "name": "stderr",
          "text": [
            "/tmp/ipython-input-3404825835.py:13: FutureWarning: \n",
            "\n",
            "Passing `palette` without assigning `hue` is deprecated and will be removed in v0.14.0. Assign the `x` variable to `hue` and set `legend=False` for the same effect.\n",
            "\n",
            "  sns.barplot(\n"
          ]
        },
        {
          "output_type": "display_data",
          "data": {
            "text/plain": [
              "<Figure size 1200x600 with 1 Axes>"
            ],
            "image/png": "[encoded data removed]"
          },
          "metadata": {}
        }
      ]
    },
    {
      "cell_type": "code",
      "source": [
        "import pandas as pd\n",
        "import seaborn as sns\n",
        "import matplotlib.pyplot as plt\n",
        "\n",
        "# Suppose you already have average delays by day of week\n",
        "day_delays = data_flights.groupby(\"DAY_OF_WEEK\")[\"ARRIVAL_DELAY\"].mean()\n",
        "\n",
        "# Convert to DataFrame for seaborn\n",
        "df_day_delays = day_delays.reset_index(name=\"Avg_Delay\")\n",
        "\n",
        "plt.figure(figsize=(8,5))\n",
        "sns.barplot(\n",
        "    data=df_day_delays,\n",
        "    x=\"DAY_OF_WEEK\",\n",
        "    y=\"Avg_Delay\",\n",
        "    hue=\"DAY_OF_WEEK\",   # fixes the FutureWarning\n",
        "    palette=\"coolwarm\",\n",
        "    legend=False\n",
        ")\n",
        "plt.title(\"Average Arrival Delay by Day of Week\")\n",
        "plt.ylabel(\"Average Delay (minutes)\")\n",
        "plt.xlabel(\"Day of Week\")\n",
        "plt.show()\n"
      ],
      "metadata": {
        "colab": {
          "base_uri": "https://localhost:8080/",
          "height": 487
        },
        "id": "5n2M9c0a8DTS",
        "outputId": "b8dfe8d8-825d-4e46-ca91-c129d9fe3895"
      },
      "execution_count": 27,
      "outputs": [
        {
          "output_type": "display_data",
          "data": {
            "text/plain": [
              "<Figure size 800x500 with 1 Axes>"
            ],
            "image/png": "[encoded data removed]"
          },
          "metadata": {}
        }
      ]
    },
    {
      "cell_type": "code",
      "source": [],
      "metadata": {
        "id": "yPN7zF8mANg4"
      },
      "execution_count": 27,
      "outputs": []
    },
    {
      "cell_type": "code",
      "source": [],
      "metadata": {
        "id": "yjkXI5M8-HDc"
      },
      "execution_count": 27,
      "outputs": []
    },
    {
      "cell_type": "code",
      "source": [
        "plt.figure(figsize=(10,5))\n",
        "sns.histplot(data_flights[\"ARRIVAL_DELAY\"], bins=100, kde=True, color=\"steelblue\")\n",
        "plt.title(\"Distribution of Arrival Delays\")\n",
        "plt.xlabel(\"Delay (minutes)\")\n",
        "plt.ylabel(\"Flight Count\")\n",
        "plt.xlim(-50, 300)   # trim to make it readable\n",
        "plt.show()\n"
      ],
      "metadata": {
        "colab": {
          "base_uri": "https://localhost:8080/",
          "height": 487
        },
        "id": "IEQSvccN-ydJ",
        "outputId": "49b45e0b-c694-4949-f1a0-71fede1bb260"
      },
      "execution_count": 28,
      "outputs": [
        {
          "output_type": "display_data",
          "data": {
            "text/plain": [
              "<Figure size 1000x500 with 1 Axes>"
            ],
            "image/png": "[encoded data removed]"
          },
          "metadata": {}
        }
      ]
    },
    {
      "cell_type": "code",
      "source": [
        "plt.figure(figsize=(10,5))\n",
        "sns.histplot(data_flights[\"DEPARTURE_DELAY\"], bins=100, kde=True, color=\"steelblue\")\n",
        "plt.title(\"Distribution of Departure Delays\")\n",
        "plt.xlabel(\"Delay (minutes)\")\n",
        "plt.ylabel(\"Flight Count\")\n",
        "plt.xlim(-50, 300)   # trim to make it readable\n",
        "plt.show()\n"
      ],
      "metadata": {
        "colab": {
          "base_uri": "https://localhost:8080/",
          "height": 487
        },
        "id": "J1Qrboj8Aid2",
        "outputId": "cf2989eb-9c09-4947-e9cb-842ff7fbf3d0"
      },
      "execution_count": 29,
      "outputs": [
        {
          "output_type": "display_data",
          "data": {
            "text/plain": [
              "<Figure size 1000x500 with 1 Axes>"
            ],
            "image/png": "[encoded data removed]"
          },
          "metadata": {}
        }
      ]
    },
    {
      "cell_type": "code",
      "source": [
        "month_delays = (data_flights.groupby(\"MONTH\")[\"ARRIVAL_DELAY\"]\n",
        "                .mean()\n",
        "                .reset_index())\n",
        "\n",
        "plt.figure(figsize=(10,5))\n",
        "sns.lineplot(data=month_delays, x=\"MONTH\", y=\"ARRIVAL_DELAY\", marker=\"o\", color=\"tomato\")\n",
        "plt.title(\"Average Delay by Month\")\n",
        "plt.xlabel(\"Month\")\n",
        "plt.ylabel(\"Average Delay (minutes)\")\n",
        "plt.show()\n"
      ],
      "metadata": {
        "colab": {
          "base_uri": "https://localhost:8080/",
          "height": 487
        },
        "id": "j9QbsODGBDVQ",
        "outputId": "d405e6ae-bce4-402d-a66a-2a93db4d4416"
      },
      "execution_count": 30,
      "outputs": [
        {
          "output_type": "display_data",
          "data": {
            "text/plain": [
              "<Figure size 1000x500 with 1 Axes>"
            ],
            "image/png": "[encoded data removed]"
          },
          "metadata": {}
        }
      ]
    },
    {
      "cell_type": "markdown",
      "source": [
        "##MODEL TRAINING"
      ],
      "metadata": {
        "id": "ki5NI8CKBc6V"
      }
    },
    {
      "cell_type": "code",
      "source": [
        "data_flights.info()"
      ],
      "metadata": {
        "colab": {
          "base_uri": "https://localhost:8080/"
        },
        "id": "y4KRwlrTBOZn",
        "outputId": "3469299c-47c6-43df-ada1-df8e53825a25"
      },
      "execution_count": 31,
      "outputs": [
        {
          "output_type": "stream",
          "name": "stdout",
          "text": [
            "<class 'pandas.core.frame.DataFrame'>\n",
            "Index: 5332914 entries, 0 to 5819078\n",
            "Data columns (total 35 columns):\n",
            " #   Column               Dtype  \n",
            "---  ------               -----  \n",
            " 0   YEAR                 int64  \n",
            " 1   MONTH                int64  \n",
            " 2   DAY                  int64  \n",
            " 3   DAY_OF_WEEK          int64  \n",
            " 4   AIRLINE              object \n",
            " 5   FLIGHT_NUMBER        int64  \n",
            " 6   TAIL_NUMBER          object \n",
            " 7   ORIGIN_AIRPORT       object \n",
            " 8   DESTINATION_AIRPORT  object \n",
            " 9   SCHEDULED_DEPARTURE  int64  \n",
            " 10  DEPARTURE_TIME       float64\n",
            " 11  DEPARTURE_DELAY      float64\n",
            " 12  TAXI_OUT             float64\n",
            " 13  WHEELS_OFF           float64\n",
            " 14  SCHEDULED_TIME       float64\n",
            " 15  ELAPSED_TIME         float64\n",
            " 16  AIR_TIME             float64\n",
            " 17  DISTANCE             int64  \n",
            " 18  WHEELS_ON            float64\n",
            " 19  TAXI_IN              float64\n",
            " 20  SCHEDULED_ARRIVAL    int64  \n",
            " 21  ARRIVAL_TIME         float64\n",
            " 22  ARRIVAL_DELAY        float64\n",
            " 23  DIVERTED             int64  \n",
            " 24  CANCELLED            int64  \n",
            " 25  CANCELLATION_REASON  object \n",
            " 26  AIR_SYSTEM_DELAY     float64\n",
            " 27  SECURITY_DELAY       float64\n",
            " 28  AIRLINE_DELAY        float64\n",
            " 29  LATE_AIRCRAFT_DELAY  float64\n",
            " 30  WEATHER_DELAY        float64\n",
            " 31  ORIGIN_LAT           float64\n",
            " 32  ORIGIN_LON           float64\n",
            " 33  DEST_LAT             float64\n",
            " 34  DEST_LON             float64\n",
            "dtypes: float64(20), int64(10), object(5)\n",
            "memory usage: 1.4+ GB\n"
          ]
        }
      ]
    },
    {
      "cell_type": "code",
      "source": [
        "data_flights = data_flights.drop(columns=[\"ORIGIN_AIRPORT\", \"DESTINATION_AIRPORT\",\"FLIGHT_NUMBER\",\"TAIL_NUMBER\",\"DEPARTURE_TIME\",\"TAXI_OUT\",\"WHEELS_OFF\"])"
      ],
      "metadata": {
        "id": "2mC2H-xwBjNR"
      },
      "execution_count": 32,
      "outputs": []
    },
    {
      "cell_type": "code",
      "source": [
        "from sklearn.preprocessing import LabelEncoder\n",
        "\n",
        "le = LabelEncoder()\n",
        "data_flights[\"AIRLINE_ENCODED\"] = le.fit_transform(data_flights[\"AIRLINE\"])"
      ],
      "metadata": {
        "id": "d-SOSKOFCYK4"
      },
      "execution_count": 33,
      "outputs": []
    },
    {
      "cell_type": "code",
      "source": [
        "data_flights = data_flights.drop(columns=[\"ELAPSED_TIME\", \"AIR_TIME\",\"WHEELS_ON\",\"ARRIVAL_TIME\",\"TAXI_IN\",\"DIVERTED\",\"CANCELLED\",\"CANCELLATION_REASON\",\n",
        "                                          \"AIR_SYSTEM_DELAY\",\"SECURITY_DELAY\",\"AIRLINE_DELAY\",\"LATE_AIRCRAFT_DELAY\",\"WEATHER_DELAY\"])"
      ],
      "metadata": {
        "id": "H68kV4_zDDo0"
      },
      "execution_count": 34,
      "outputs": []
    },
    {
      "cell_type": "code",
      "source": [
        "data_flights = data_flights.drop(columns=[\"AIRLINE\",\"DAY\",\"YEAR\"])"
      ],
      "metadata": {
        "id": "J2OQFxJDGDLd"
      },
      "execution_count": 35,
      "outputs": []
    },
    {
      "cell_type": "code",
      "source": [
        "# Convert HHMM -> hour of day\n",
        "data_flights[\"SCHEDULED_DEPARTURE_HOUR\"] = (data_flights[\"SCHEDULED_DEPARTURE\"] // 100) % 24\n",
        "data_flights[\"SCHEDULED_ARRIVAL_HOUR\"] = (data_flights[\"SCHEDULED_ARRIVAL\"] // 100) % 24\n",
        "\n",
        "# Drop the old HHMM columns\n",
        "data_flights.drop(columns=[\"SCHEDULED_DEPARTURE\", \"SCHEDULED_ARRIVAL\"], inplace=True)\n",
        "\n",
        "data_flights[[\"SCHEDULED_DEPARTURE_HOUR\", \"SCHEDULED_ARRIVAL_HOUR\"]].head()\n"
      ],
      "metadata": {
        "colab": {
          "base_uri": "https://localhost:8080/",
          "height": 206
        },
        "id": "BK8SkynJH_AV",
        "outputId": "827e4451-838b-44fa-b116-bfdbe9128910"
      },
      "execution_count": 36,
      "outputs": [
        {
          "output_type": "execute_result",
          "data": {
            "text/plain": [
              "   SCHEDULED_DEPARTURE_HOUR  SCHEDULED_ARRIVAL_HOUR\n",
              "0                         0                       4\n",
              "1                         0                       7\n",
              "2                         0                       8\n",
              "3                         0                       8\n",
              "4                         0                       3"
            ],
            "text/html": [
              "\n",
              "  <div id=\"df-8dc601a5-8f94-4389-9b1b-c2da8413ea82\" class=\"colab-df-container\">\n",
              "    <div>\n",
              "<style scoped>\n",
              "    .dataframe tbody tr th:only-of-type {\n",
              "        vertical-align: middle;\n",
              "    }\n",
              "\n",
              "    .dataframe tbody tr th {\n",
              "        vertical-align: top;\n",
              "    }\n",
              "\n",
              "    .dataframe thead th {\n",
              "        text-align: right;\n",
              "    }\n",
              "</style>\n",
              "<table border=\"1\" class=\"dataframe\">\n",
              "  <thead>\n",
              "    <tr style=\"text-align: right;\">\n",
              "      <th></th>\n",
              "      <th>SCHEDULED_DEPARTURE_HOUR</th>\n",
              "      <th>SCHEDULED_ARRIVAL_HOUR</th>\n",
              "    </tr>\n",
              "  </thead>\n",
              "  <tbody>\n",
              "    <tr>\n",
              "      <th>0</th>\n",
              "      <td>0</td>\n",
              "      <td>4</td>\n",
              "    </tr>\n",
              "    <tr>\n",
              "      <th>1</th>\n",
              "      <td>0</td>\n",
              "      <td>7</td>\n",
              "    </tr>\n",
              "    <tr>\n",
              "      <th>2</th>\n",
              "      <td>0</td>\n",
              "      <td>8</td>\n",
              "    </tr>\n",
              "    <tr>\n",
              "      <th>3</th>\n",
              "      <td>0</td>\n",
              "      <td>8</td>\n",
              "    </tr>\n",
              "    <tr>\n",
              "      <th>4</th>\n",
              "      <td>0</td>\n",
              "      <td>3</td>\n",
              "    </tr>\n",
              "  </tbody>\n",
              "</table>\n",
              "</div>\n",
              "    <div class=\"colab-df-buttons\">\n",
              "\n",
              "  <div class=\"colab-df-container\">\n",
              "    <button class=\"colab-df-convert\" onclick=\"convertToInteractive('df-8dc601a5-8f94-4389-9b1b-c2da8413ea82')\"\n",
              "            title=\"Convert this dataframe to an interactive table.\"\n",
              "            style=\"display:none;\">\n",
              "\n",
              "  <svg xmlns=\"http://www.w3.org/2000/svg\" height=\"24px\" viewBox=\"0 -960 960 960\">\n",
              "    <path d=\"M120-120v-720h720v720H120Zm60-500h600v-160H180v160Zm220 220h160v-160H400v160Zm0 220h160v-160H400v160ZM180-400h160v-160H180v160Zm440 0h160v-160H620v160ZM180-180h160v-160H180v160Zm440 0h160v-160H620v160Z\"/>\n",
              "  </svg>\n",
              "    </button>\n",
              "\n",
              "  <style>\n",
              "    .colab-df-container {\n",
              "      display:flex;\n",
              "      gap: 12px;\n",
              "    }\n",
              "\n",
              "    .colab-df-convert {\n",
              "      background-color: #E8F0FE;\n",
              "      border: none;\n",
              "      border-radius: 50%;\n",
              "      cursor: pointer;\n",
              "      display: none;\n",
              "      fill: #1967D2;\n",
              "      height: 32px;\n",
              "      padding: 0 0 0 0;\n",
              "      width: 32px;\n",
              "    }\n",
              "\n",
              "    .colab-df-convert:hover {\n",
              "      background-color: #E2EBFA;\n",
              "      box-shadow: 0px 1px 2px rgba(60, 64, 67, 0.3), 0px 1px 3px 1px rgba(60, 64, 67, 0.15);\n",
              "      fill: #174EA6;\n",
              "    }\n",
              "\n",
              "    .colab-df-buttons div {\n",
              "      margin-bottom: 4px;\n",
              "    }\n",
              "\n",
              "    [theme=dark] .colab-df-convert {\n",
              "      background-color: #3B4455;\n",
              "      fill: #D2E3FC;\n",
              "    }\n",
              "\n",
              "    [theme=dark] .colab-df-convert:hover {\n",
              "      background-color: #434B5C;\n",
              "      box-shadow: 0px 1px 3px 1px rgba(0, 0, 0, 0.15);\n",
              "      filter: drop-shadow(0px 1px 2px rgba(0, 0, 0, 0.3));\n",
              "      fill: #FFFFFF;\n",
              "    }\n",
              "  </style>\n",
              "\n",
              "    <script>\n",
              "      const buttonEl =\n",
              "        document.querySelector('#df-8dc601a5-8f94-4389-9b1b-c2da8413ea82 button.colab-df-convert');\n",
              "      buttonEl.style.display =\n",
              "        google.colab.kernel.accessAllowed ? 'block' : 'none';\n",
              "\n",
              "      async function convertToInteractive(key) {\n",
              "        const element = document.querySelector('#df-8dc601a5-8f94-4389-9b1b-c2da8413ea82');\n",
              "        const dataTable =\n",
              "          await google.colab.kernel.invokeFunction('convertToInteractive',\n",
              "                                                    [key], {});\n",
              "        if (!dataTable) return;\n",
              "\n",
              "        const docLinkHtml = 'Like what you see? Visit the ' +\n",
              "          '<a target=\"_blank\" href=https://colab.research.google.com/notebooks/data_table.ipynb>data table notebook</a>'\n",
              "          + ' to learn more about interactive tables.';\n",
              "        element.innerHTML = '';\n",
              "        dataTable['output_type'] = 'display_data';\n",
              "        await google.colab.output.renderOutput(dataTable, element);\n",
              "        const docLink = document.createElement('div');\n",
              "        docLink.innerHTML = docLinkHtml;\n",
              "        element.appendChild(docLink);\n",
              "      }\n",
              "    </script>\n",
              "  </div>\n",
              "\n",
              "\n",
              "    <div id=\"df-ed193f29-9418-4154-958d-d0a96ea21007\">\n",
              "      <button class=\"colab-df-quickchart\" onclick=\"quickchart('df-ed193f29-9418-4154-958d-d0a96ea21007')\"\n",
              "                title=\"Suggest charts\"\n",
              "                style=\"display:none;\">\n",
              "\n",
              "<svg xmlns=\"http://www.w3.org/2000/svg\" height=\"24px\"viewBox=\"0 0 24 24\"\n",
              "     width=\"24px\">\n",
              "    <g>\n",
              "        <path d=\"M19 3H5c-1.1 0-2 .9-2 2v14c0 1.1.9 2 2 2h14c1.1 0 2-.9 2-2V5c0-1.1-.9-2-2-2zM9 17H7v-7h2v7zm4 0h-2V7h2v10zm4 0h-2v-4h2v4z\"/>\n",
              "    </g>\n",
              "</svg>\n",
              "      </button>\n",
              "\n",
              "<style>\n",
              "  .colab-df-quickchart {\n",
              "      --bg-color: #E8F0FE;\n",
              "      --fill-color: #1967D2;\n",
              "      --hover-bg-color: #E2EBFA;\n",
              "      --hover-fill-color: #174EA6;\n",
              "      --disabled-fill-color: #AAA;\n",
              "      --disabled-bg-color: #DDD;\n",
              "  }\n",
              "\n",
              "  [theme=dark] .colab-df-quickchart {\n",
              "      --bg-color: #3B4455;\n",
              "      --fill-color: #D2E3FC;\n",
              "      --hover-bg-color: #434B5C;\n",
              "      --hover-fill-color: #FFFFFF;\n",
              "      --disabled-bg-color: #3B4455;\n",
              "      --disabled-fill-color: #666;\n",
              "  }\n",
              "\n",
              "  .colab-df-quickchart {\n",
              "    background-color: var(--bg-color);\n",
              "    border: none;\n",
              "    border-radius: 50%;\n",
              "    cursor: pointer;\n",
              "    display: none;\n",
              "    fill: var(--fill-color);\n",
              "    height: 32px;\n",
              "    padding: 0;\n",
              "    width: 32px;\n",
              "  }\n",
              "\n",
              "  .colab-df-quickchart:hover {\n",
              "    background-color: var(--hover-bg-color);\n",
              "    box-shadow: 0 1px 2px rgba(60, 64, 67, 0.3), 0 1px 3px 1px rgba(60, 64, 67, 0.15);\n",
              "    fill: var(--button-hover-fill-color);\n",
              "  }\n",
              "\n",
              "  .colab-df-quickchart-complete:disabled,\n",
              "  .colab-df-quickchart-complete:disabled:hover {\n",
              "    background-color: var(--disabled-bg-color);\n",
              "    fill: var(--disabled-fill-color);\n",
              "    box-shadow: none;\n",
              "  }\n",
              "\n",
              "  .colab-df-spinner {\n",
              "    border: 2px solid var(--fill-color);\n",
              "    border-color: transparent;\n",
              "    border-bottom-color: var(--fill-color);\n",
              "    animation:\n",
              "      spin 1s steps(1) infinite;\n",
              "  }\n",
              "\n",
              "  @keyframes spin {\n",
              "    0% {\n",
              "      border-color: transparent;\n",
              "      border-bottom-color: var(--fill-color);\n",
              "      border-left-color: var(--fill-color);\n",
              "    }\n",
              "    20% {\n",
              "      border-color: transparent;\n",
              "      border-left-color: var(--fill-color);\n",
              "      border-top-color: var(--fill-color);\n",
              "    }\n",
              "    30% {\n",
              "      border-color: transparent;\n",
              "      border-left-color: var(--fill-color);\n",
              "      border-top-color: var(--fill-color);\n",
              "      border-right-color: var(--fill-color);\n",
              "    }\n",
              "    40% {\n",
              "      border-color: transparent;\n",
              "      border-right-color: var(--fill-color);\n",
              "      border-top-color: var(--fill-color);\n",
              "    }\n",
              "    60% {\n",
              "      border-color: transparent;\n",
              "      border-right-color: var(--fill-color);\n",
              "    }\n",
              "    80% {\n",
              "      border-color: transparent;\n",
              "      border-right-color: var(--fill-color);\n",
              "      border-bottom-color: var(--fill-color);\n",
              "    }\n",
              "    90% {\n",
              "      border-color: transparent;\n",
              "      border-bottom-color: var(--fill-color);\n",
              "    }\n",
              "  }\n",
              "</style>\n",
              "\n",
              "      <script>\n",
              "        async function quickchart(key) {\n",
              "          const quickchartButtonEl =\n",
              "            document.querySelector('#' + key + ' button');\n",
              "          quickchartButtonEl.disabled = true;  // To prevent multiple clicks.\n",
              "          quickchartButtonEl.classList.add('colab-df-spinner');\n",
              "          try {\n",
              "            const charts = await google.colab.kernel.invokeFunction(\n",
              "                'suggestCharts', [key], {});\n",
              "          } catch (error) {\n",
              "            console.error('Error during call to suggestCharts:', error);\n",
              "          }\n",
              "          quickchartButtonEl.classList.remove('colab-df-spinner');\n",
              "          quickchartButtonEl.classList.add('colab-df-quickchart-complete');\n",
              "        }\n",
              "        (() => {\n",
              "          let quickchartButtonEl =\n",
              "            document.querySelector('#df-ed193f29-9418-4154-958d-d0a96ea21007 button');\n",
              "          quickchartButtonEl.style.display =\n",
              "            google.colab.kernel.accessAllowed ? 'block' : 'none';\n",
              "        })();\n",
              "      </script>\n",
              "    </div>\n",
              "\n",
              "    </div>\n",
              "  </div>\n"
            ],
            "application/vnd.google.colaboratory.intrinsic+json": {
              "type": "dataframe",
              "summary": "{\n  \"name\": \"data_flights[[\\\"SCHEDULED_DEPARTURE_HOUR\\\", \\\"SCHEDULED_ARRIVAL_HOUR\\\"]]\",\n  \"rows\": 5,\n  \"fields\": [\n    {\n      \"column\": \"SCHEDULED_DEPARTURE_HOUR\",\n      \"properties\": {\n        \"dtype\": \"number\",\n        \"std\": 0,\n        \"min\": 0,\n        \"max\": 0,\n        \"num_unique_values\": 1,\n        \"samples\": [\n          0\n        ],\n        \"semantic_type\": \"\",\n        \"description\": \"\"\n      }\n    },\n    {\n      \"column\": \"SCHEDULED_ARRIVAL_HOUR\",\n      \"properties\": {\n        \"dtype\": \"number\",\n        \"std\": 2,\n        \"min\": 3,\n        \"max\": 8,\n        \"num_unique_values\": 4,\n        \"samples\": [\n          7\n        ],\n        \"semantic_type\": \"\",\n        \"description\": \"\"\n      }\n    }\n  ]\n}"
            }
          },
          "metadata": {},
          "execution_count": 36
        }
      ]
    },
    {
      "cell_type": "code",
      "source": [
        "data_flights[\"SCHEDULED_TIME\"].isnull().sum()"
      ],
      "metadata": {
        "colab": {
          "base_uri": "https://localhost:8080/"
        },
        "id": "zhrXnak6IIQ0",
        "outputId": "dc141f03-4a11-4566-d70f-a9bd3f244e51"
      },
      "execution_count": 37,
      "outputs": [
        {
          "output_type": "execute_result",
          "data": {
            "text/plain": [
              "np.int64(6)"
            ]
          },
          "metadata": {},
          "execution_count": 37
        }
      ]
    },
    {
      "cell_type": "code",
      "source": [
        "null_rows = data_flights[data_flights[\"SCHEDULED_TIME\"].isnull()]\n",
        "print(null_rows)"
      ],
      "metadata": {
        "colab": {
          "base_uri": "https://localhost:8080/"
        },
        "id": "P8w4Ho8bI5Zd",
        "outputId": "e7a1c9de-efe5-4687-a81d-5bfb2b84e72b"
      },
      "execution_count": 38,
      "outputs": [
        {
          "output_type": "stream",
          "name": "stdout",
          "text": [
            "         MONTH  DAY_OF_WEEK  DEPARTURE_DELAY  SCHEDULED_TIME  DISTANCE  \\\n",
            "483174       2            7             -9.0             NaN      1176   \n",
            "619941       2            2             -9.0             NaN      1176   \n",
            "1720237      4            1            175.0             NaN      1076   \n",
            "1820960      4            7             -2.0             NaN       641   \n",
            "2031482      5            6             22.0             NaN       852   \n",
            "2034453      5            7            229.0             NaN       622   \n",
            "\n",
            "         ARRIVAL_DELAY  ORIGIN_LAT  ORIGIN_LON  DEST_LAT  DEST_LON  \\\n",
            "483174             NaN    26.07258   -80.15275  43.10726 -78.94538   \n",
            "619941             NaN    26.07258   -80.15275  43.10726 -78.94538   \n",
            "1720237            NaN    26.07258   -80.15275  40.77724 -73.87261   \n",
            "1820960            NaN    39.85841  -104.66700  32.89595 -97.03720   \n",
            "2031482            NaN    28.42889   -81.31603  39.45758 -74.57717   \n",
            "2034453            NaN    41.97960   -87.90446  39.17540 -76.66820   \n",
            "\n",
            "         AIRLINE_ENCODED  SCHEDULED_DEPARTURE_HOUR  SCHEDULED_ARRIVAL_HOUR  \n",
            "483174                 8                        22                       1  \n",
            "619941                 8                        22                       1  \n",
            "1720237                8                        16                      19  \n",
            "1820960                8                        20                      23  \n",
            "2031482                8                        21                      23  \n",
            "2034453                8                         8                      11  \n"
          ]
        }
      ]
    },
    {
      "cell_type": "code",
      "source": [
        "import numpy as np\n",
        "\n",
        "def compute_scheduled_time(row):\n",
        "    dep = row[\"SCHEDULED_DEPARTURE_HOUR\"]\n",
        "    arr = row[\"SCHEDULED_ARRIVAL_HOUR\"]\n",
        "\n",
        "    # Adjust if flight crosses midnight\n",
        "    if arr < dep:\n",
        "        arr += 24\n",
        "\n",
        "    return (arr - dep) * 60\n",
        "\n",
        "# Fill only null values\n",
        "data_flights.loc[data_flights[\"SCHEDULED_TIME\"].isnull(), \"SCHEDULED_TIME\"] = \\\n",
        "    data_flights[data_flights[\"SCHEDULED_TIME\"].isnull()].apply(compute_scheduled_time, axis=1)\n"
      ],
      "metadata": {
        "id": "WxOjgX4GJUJg"
      },
      "execution_count": 39,
      "outputs": []
    },
    {
      "cell_type": "code",
      "source": [
        "data_flights[\"SCHEDULED_TIME\"].isnull().sum()"
      ],
      "metadata": {
        "colab": {
          "base_uri": "https://localhost:8080/"
        },
        "id": "PQ1ChttTQovq",
        "outputId": "9a4f3f8e-f1f0-4691-b695-30dce1378334"
      },
      "execution_count": 40,
      "outputs": [
        {
          "output_type": "execute_result",
          "data": {
            "text/plain": [
              "np.int64(0)"
            ]
          },
          "metadata": {},
          "execution_count": 40
        }
      ]
    },
    {
      "cell_type": "code",
      "source": [
        "import matplotlib.pyplot as plt\n",
        "import seaborn as sns\n",
        "\n",
        "# Select only numeric columns\n",
        "numeric_cols = data_flights.select_dtypes(include=[\"int64\", \"float64\"])\n",
        "\n",
        "# Compute correlation\n",
        "corr = numeric_cols.corr()\n",
        "\n",
        "# Plot correlation heatmap\n",
        "plt.figure(figsize=(16,10))\n",
        "sns.heatmap(corr, annot=False, cmap=\"coolwarm\", center=0)\n",
        "plt.title(\"Correlation Matrix of Flight Dataset\", fontsize=16)\n",
        "plt.show()\n"
      ],
      "metadata": {
        "colab": {
          "base_uri": "https://localhost:8080/",
          "height": 1000
        },
        "id": "24ifx-BfGeNG",
        "outputId": "f6c88408-99bc-4436-9334-e6f55e63bd04"
      },
      "execution_count": 41,
      "outputs": [
        {
          "output_type": "display_data",
          "data": {
            "text/plain": [
              "<Figure size 1600x1000 with 2 Axes>"
            ],
            "image/png": "[encoded data removed]"
          },
          "metadata": {}
        }
      ]
    },
    {
      "cell_type": "code",
      "source": [
        "cancelled_rows = data_flights[data_flights['DEPARTURE_DELAY'].isnull()]\n",
        "print(cancelled_rows['ARRIVAL_DELAY'].unique())"
      ],
      "metadata": {
        "colab": {
          "base_uri": "https://localhost:8080/"
        },
        "id": "0WT9zDeUMYlf",
        "outputId": "743c7355-350c-427b-e51b-743d7740771d"
      },
      "execution_count": 42,
      "outputs": [
        {
          "output_type": "stream",
          "name": "stdout",
          "text": [
            "[nan]\n"
          ]
        }
      ]
    },
    {
      "cell_type": "markdown",
      "source": [
        "this means that there are no arrival delay when there were no departure delay so we will remove them without any consequences"
      ],
      "metadata": {
        "id": "sfCXy_ArMcyd"
      }
    },
    {
      "cell_type": "code",
      "source": [
        "data_flights = data_flights.dropna(subset=['ARRIVAL_DELAY'])"
      ],
      "metadata": {
        "id": "BEueNSR3MsdR"
      },
      "execution_count": 43,
      "outputs": []
    },
    {
      "cell_type": "code",
      "source": [
        "for col in data_flights.columns:\n",
        "    n_missing = data_flights[col].isnull().sum()\n",
        "    print(f\"{col}: {n_missing} missing values\")"
      ],
      "metadata": {
        "colab": {
          "base_uri": "https://localhost:8080/"
        },
        "id": "FY9MKPMBLycS",
        "outputId": "b7b80658-607c-4658-bee1-e40390fe6fb9"
      },
      "execution_count": 44,
      "outputs": [
        {
          "output_type": "stream",
          "name": "stdout",
          "text": [
            "MONTH: 0 missing values\n",
            "DAY_OF_WEEK: 0 missing values\n",
            "DEPARTURE_DELAY: 0 missing values\n",
            "SCHEDULED_TIME: 0 missing values\n",
            "DISTANCE: 0 missing values\n",
            "ARRIVAL_DELAY: 0 missing values\n",
            "ORIGIN_LAT: 0 missing values\n",
            "ORIGIN_LON: 0 missing values\n",
            "DEST_LAT: 0 missing values\n",
            "DEST_LON: 0 missing values\n",
            "AIRLINE_ENCODED: 0 missing values\n",
            "SCHEDULED_DEPARTURE_HOUR: 0 missing values\n",
            "SCHEDULED_ARRIVAL_HOUR: 0 missing values\n"
          ]
        }
      ]
    },
    {
      "cell_type": "markdown",
      "source": [
        "MODEL TRAINING"
      ],
      "metadata": {
        "id": "Gu7WEqU9K5ci"
      }
    },
    {
      "cell_type": "code",
      "source": [],
      "metadata": {
        "id": "K6HChMmMLuue"
      },
      "execution_count": 44,
      "outputs": []
    },
    {
      "cell_type": "code",
      "source": [
        "from sklearn.model_selection import train_test_split\n",
        "\n",
        "X = data_flights.drop(columns=[\"ARRIVAL_DELAY\"])\n",
        "y = data_flights[\"ARRIVAL_DELAY\"]\n",
        "\n",
        "X_train, X_test, y_train, y_test = train_test_split(X, y, test_size=0.3, random_state=42)\n"
      ],
      "metadata": {
        "id": "V7rZr7G4Gmn-"
      },
      "execution_count": 45,
      "outputs": []
    },
    {
      "cell_type": "code",
      "source": [
        "from sklearn.metrics import mean_absolute_error, mean_squared_error\n",
        "import numpy as np\n",
        "\n",
        "def evaluate_model(model, X_test, y_test):\n",
        "    y_pred = model.predict(X_test)\n",
        "    mae = mean_absolute_error(y_test, y_pred)\n",
        "    rmse = np.sqrt(mean_squared_error(y_test, y_pred))\n",
        "    return mae, rmse"
      ],
      "metadata": {
        "id": "iWRZU8MbLIAy"
      },
      "execution_count": 46,
      "outputs": []
    },
    {
      "cell_type": "markdown",
      "source": [
        "1. Linear Regression"
      ],
      "metadata": {
        "id": "6N_NamTPLk7n"
      }
    },
    {
      "cell_type": "code",
      "source": [
        "from sklearn.linear_model import LinearRegression\n",
        "\n",
        "# Fill NaN values with the mean of each column\n",
        "X_train = X_train.fillna(X_train.mean())\n",
        "X_test = X_test.fillna(X_test.mean())\n",
        "\n",
        "lin_reg = LinearRegression()\n",
        "lin_reg.fit(X_train, y_train)\n",
        "\n",
        "mae_lr, rmse_lr = evaluate_model(lin_reg, X_test, y_test)\n",
        "print(\"Linear Regression → MAE:\", mae_lr, \"RMSE:\", rmse_lr)"
      ],
      "metadata": {
        "colab": {
          "base_uri": "https://localhost:8080/"
        },
        "id": "DQrJsoynRSQ3",
        "outputId": "e6a4bb8e-ffdf-4615-ecdc-24d982c5de25"
      },
      "execution_count": 47,
      "outputs": [
        {
          "output_type": "stream",
          "name": "stdout",
          "text": [
            "Linear Regression → MAE: 8.780937043258653 RMSE: 12.588968792039273\n"
          ]
        }
      ]
    },
    {
      "cell_type": "code",
      "source": [
        "from sklearn.ensemble import RandomForestRegressor\n",
        "\n",
        "# Initialize model\n",
        "rf = RandomForestRegressor(n_estimators=100, random_state=42, n_jobs=-1)\n",
        "\n",
        "# Train\n",
        "rf.fit(X_train, y_train)\n",
        "\n",
        "# Evaluate\n",
        "mae_rf, rmse_rf = evaluate_model(rf, X_test, y_test)\n",
        "print(f\"Random Forest → MAE: {mae_rf}, RMSE: {rmse_rf}\")\n"
      ],
      "metadata": {
        "id": "rh1VY29dRPC2"
      },
      "execution_count": null,
      "outputs": []
    }
  ]
}