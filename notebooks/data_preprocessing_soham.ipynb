{
 "cells": [
  {
   "cell_type": "code",
   "execution_count": 1,
   "id": "49368e96",
   "metadata": {},
   "outputs": [
    {
     "name": "stdout",
     "output_type": "stream",
     "text": [
      "Requirement already satisfied: pandas in /home/nemo/.conda/envs/npn/lib/python3.12/site-packages (2.3.2)\n",
      "Requirement already satisfied: polars in /home/nemo/.conda/envs/npn/lib/python3.12/site-packages (1.32.3)\n",
      "Requirement already satisfied: numpy in /home/nemo/.conda/envs/npn/lib/python3.12/site-packages (2.3.2)\n",
      "Requirement already satisfied: scipy in /home/nemo/.conda/envs/npn/lib/python3.12/site-packages (1.16.1)\n",
      "Requirement already satisfied: matplotlib in /home/nemo/.conda/envs/npn/lib/python3.12/site-packages (3.10.6)\n",
      "Requirement already satisfied: seaborn in /home/nemo/.conda/envs/npn/lib/python3.12/site-packages (0.13.2)\n",
      "Requirement already satisfied: cupy-cuda12x in /home/nemo/.conda/envs/npn/lib/python3.12/site-packages (13.6.0)\n",
      "Requirement already satisfied: python-dateutil>=2.8.2 in /home/nemo/.local/lib/python3.12/site-packages (from pandas) (2.9.0.post0)\n",
      "Requirement already satisfied: pytz>=2020.1 in /home/nemo/.conda/envs/npn/lib/python3.12/site-packages (from pandas) (2025.2)\n",
      "Requirement already satisfied: tzdata>=2022.7 in /home/nemo/.conda/envs/npn/lib/python3.12/site-packages (from pandas) (2025.2)\n",
      "Requirement already satisfied: contourpy>=1.0.1 in /home/nemo/.conda/envs/npn/lib/python3.12/site-packages (from matplotlib) (1.3.3)\n",
      "Requirement already satisfied: cycler>=0.10 in /home/nemo/.conda/envs/npn/lib/python3.12/site-packages (from matplotlib) (0.12.1)\n",
      "Requirement already satisfied: fonttools>=4.22.0 in /home/nemo/.conda/envs/npn/lib/python3.12/site-packages (from matplotlib) (4.59.2)\n",
      "Requirement already satisfied: kiwisolver>=1.3.1 in /home/nemo/.conda/envs/npn/lib/python3.12/site-packages (from matplotlib) (1.4.9)\n",
      "Requirement already satisfied: packaging>=20.0 in /home/nemo/.conda/envs/npn/lib/python3.12/site-packages (from matplotlib) (25.0)\n",
      "Requirement already satisfied: pillow>=8 in /home/nemo/.conda/envs/npn/lib/python3.12/site-packages (from matplotlib) (11.3.0)\n",
      "Requirement already satisfied: pyparsing>=2.3.1 in /home/nemo/.conda/envs/npn/lib/python3.12/site-packages (from matplotlib) (3.2.3)\n",
      "Requirement already satisfied: fastrlock>=0.5 in /home/nemo/.conda/envs/npn/lib/python3.12/site-packages (from cupy-cuda12x) (0.8.3)\n",
      "Requirement already satisfied: six>=1.5 in /home/nemo/.local/lib/python3.12/site-packages (from python-dateutil>=2.8.2->pandas) (1.17.0)\n"
     ]
    }
   ],
   "source": [
    "!pip install pandas polars numpy scipy matplotlib seaborn cupy-cuda12x"
   ]
  },
  {
   "cell_type": "code",
   "execution_count": 2,
   "id": "0ad3dd79",
   "metadata": {},
   "outputs": [
    {
     "name": "stdout",
     "output_type": "stream",
     "text": [
      "Path to dataset files: /home/nemo/.cache/kagglehub/datasets/usdot/flight-delays/versions/1\n"
     ]
    }
   ],
   "source": [
    "import kagglehub\n",
    "\n",
    "# Download latest version\n",
    "path = kagglehub.dataset_download(\"usdot/flight-delays\")\n",
    "\n",
    "print(\"Path to dataset files:\", path)"
   ]
  },
  {
   "cell_type": "code",
   "execution_count": 3,
   "id": "2dafb20d",
   "metadata": {},
   "outputs": [],
   "source": [
    "import cupy as cp\n",
    "import pandas as pd\n",
    "import numpy as np\n",
    "import polars as pl\n",
    "from skimpy import skim\n",
    "import os\n",
    "from matplotlib import pyplot as pyplot\n",
    "import seaborn as sns"
   ]
  },
  {
   "cell_type": "code",
   "execution_count": 4,
   "id": "e4c69c92",
   "metadata": {},
   "outputs": [
    {
     "name": "stdout",
     "output_type": "stream",
     "text": [
      "Schema({'YEAR': Int64, 'MONTH': Int64, 'DAY': Int64, 'DAY_OF_WEEK': Int64, 'AIRLINE': String, 'FLIGHT_NUMBER': Int64, 'TAIL_NUMBER': String, 'ORIGIN_AIRPORT': String, 'DESTINATION_AIRPORT': String, 'SCHEDULED_DEPARTURE': Int64, 'DEPARTURE_TIME': Int64, 'DEPARTURE_DELAY': Int64, 'TAXI_OUT': Int64, 'WHEELS_OFF': Int64, 'SCHEDULED_TIME': Int64, 'ELAPSED_TIME': Int64, 'AIR_TIME': Int64, 'DISTANCE': Int64, 'WHEELS_ON': Int64, 'TAXI_IN': Int64, 'SCHEDULED_ARRIVAL': Int64, 'ARRIVAL_TIME': Int64, 'ARRIVAL_DELAY': Int64, 'DIVERTED': Int64, 'CANCELLED': Int64, 'CANCELLATION_REASON': String, 'AIR_SYSTEM_DELAY': Int64, 'SECURITY_DELAY': Int64, 'AIRLINE_DELAY': Int64, 'LATE_AIRCRAFT_DELAY': Int64, 'WEATHER_DELAY': Int64})\n",
      "Schema({'IATA_CODE': String, 'AIRPORT': String, 'CITY': String, 'STATE': String, 'COUNTRY': String, 'LATITUDE': Float64, 'LONGITUDE': Float64})\n",
      "Schema({'IATA_CODE': String, 'AIRLINE': String})\n"
     ]
    }
   ],
   "source": [
    "file_path_airlines = os.path.join(path, \"airlines.csv\")\n",
    "file_path_airports = os.path.join(path, \"airports.csv\")\n",
    "file_path_flights = os.path.join(path, \"flights.csv\")\n",
    "airlines_df = pl.read_csv(file_path_airlines)\n",
    "airports_df = pl.read_csv(file_path_airports)\n",
    "flights = pl.scan_csv(file_path_flights)\n",
    "\n",
    "print(flights.collect_schema())\n",
    "print(airports_df.schema)\n",
    "print(airlines_df.schema)"
   ]
  },
  {
   "cell_type": "code",
   "execution_count": 5,
   "id": "15d46e71",
   "metadata": {},
   "outputs": [
    {
     "data": {
      "text/html": [
       "<pre style=\"white-space:pre;overflow-x:auto;line-height:normal;font-family:Menlo,'DejaVu Sans Mono',consolas,'Courier New',monospace\">╭──────────────────────────────────────────────── skimpy summary ─────────────────────────────────────────────────╮\n",
       "│ <span style=\"font-style: italic\">         Data Summary         </span> <span style=\"font-style: italic\">      Data Types       </span>                                                          │\n",
       "│ ┏━━━━━━━━━━━━━━━━━━━┳━━━━━━━━┓ ┏━━━━━━━━━━━━━┳━━━━━━━┓                                                          │\n",
       "│ ┃<span style=\"color: #008080; text-decoration-color: #008080; font-weight: bold\"> Dataframe         </span>┃<span style=\"color: #008080; text-decoration-color: #008080; font-weight: bold\"> Values </span>┃ ┃<span style=\"color: #008080; text-decoration-color: #008080; font-weight: bold\"> Column Type </span>┃<span style=\"color: #008080; text-decoration-color: #008080; font-weight: bold\"> Count </span>┃                                                          │\n",
       "│ ┡━━━━━━━━━━━━━━━━━━━╇━━━━━━━━┩ ┡━━━━━━━━━━━━━╇━━━━━━━┩                                                          │\n",
       "│ │ Number of rows    │ 14     │ │ string      │ 2     │                                                          │\n",
       "│ │ Number of columns │ 2      │ └─────────────┴───────┘                                                          │\n",
       "│ └───────────────────┴────────┘                                                                                  │\n",
       "│ <span style=\"font-style: italic\">                                                    string                                                    </span>  │\n",
       "│ ┏━━━━━━━━━━━┳━━━━┳━━━━━━┳━━━━━━━━━━━┳━━━━━━━━━━━┳━━━━━━━━━━━┳━━━━━━━━━━━┳━━━━━━━━━━━┳━━━━━━━━━━━┳━━━━━━━━━━━━┓  │\n",
       "│ ┃<span style=\"font-weight: bold\">           </span>┃<span style=\"font-weight: bold\">    </span>┃<span style=\"font-weight: bold\">      </span>┃<span style=\"font-weight: bold\">           </span>┃<span style=\"font-weight: bold\">           </span>┃<span style=\"font-weight: bold\">           </span>┃<span style=\"font-weight: bold\">           </span>┃<span style=\"font-weight: bold\"> chars per </span>┃<span style=\"font-weight: bold\"> words per </span>┃<span style=\"font-weight: bold\"> total      </span>┃  │\n",
       "│ ┃<span style=\"font-weight: bold\"> column    </span>┃<span style=\"font-weight: bold\"> NA </span>┃<span style=\"font-weight: bold\"> NA % </span>┃<span style=\"font-weight: bold\"> shortest  </span>┃<span style=\"font-weight: bold\"> longest   </span>┃<span style=\"font-weight: bold\"> min       </span>┃<span style=\"font-weight: bold\"> max       </span>┃<span style=\"font-weight: bold\"> row       </span>┃<span style=\"font-weight: bold\"> row       </span>┃<span style=\"font-weight: bold\"> words      </span>┃  │\n",
       "│ ┡━━━━━━━━━━━╇━━━━╇━━━━━━╇━━━━━━━━━━━╇━━━━━━━━━━━╇━━━━━━━━━━━╇━━━━━━━━━━━╇━━━━━━━━━━━╇━━━━━━━━━━━╇━━━━━━━━━━━━┩  │\n",
       "│ │ <span style=\"color: #af87ff; text-decoration-color: #af87ff\">IATA_CODE</span> │ <span style=\"color: #008080; text-decoration-color: #008080\"> 0</span> │ <span style=\"color: #008080; text-decoration-color: #008080\">   0</span> │ <span style=\"color: #af87ff; text-decoration-color: #af87ff\">UA       </span> │ <span style=\"color: #af87ff; text-decoration-color: #af87ff\">UA       </span> │ <span style=\"color: #af87ff; text-decoration-color: #af87ff\">AA       </span> │ <span style=\"color: #af87ff; text-decoration-color: #af87ff\">WN       </span> │ <span style=\"color: #008080; text-decoration-color: #008080\">        2</span> │ <span style=\"color: #008080; text-decoration-color: #008080\">        1</span> │ <span style=\"color: #008080; text-decoration-color: #008080\">        14</span> │  │\n",
       "│ │ <span style=\"color: #af87ff; text-decoration-color: #af87ff\">AIRLINE  </span> │ <span style=\"color: #008080; text-decoration-color: #008080\"> 0</span> │ <span style=\"color: #008080; text-decoration-color: #008080\">   0</span> │ <span style=\"color: #af87ff; text-decoration-color: #af87ff\">Virgin   </span> │ <span style=\"color: #af87ff; text-decoration-color: #af87ff\">American </span> │ <span style=\"color: #af87ff; text-decoration-color: #af87ff\">Alaska   </span> │ <span style=\"color: #af87ff; text-decoration-color: #af87ff\">Virgin   </span> │ <span style=\"color: #008080; text-decoration-color: #008080\">     20.4</span> │ <span style=\"color: #008080; text-decoration-color: #008080\">      3.1</span> │ <span style=\"color: #008080; text-decoration-color: #008080\">        43</span> │  │\n",
       "│ │           │    │      │ <span style=\"color: #af87ff; text-decoration-color: #af87ff\">America  </span> │ <span style=\"color: #af87ff; text-decoration-color: #af87ff\">Eagle    </span> │ <span style=\"color: #af87ff; text-decoration-color: #af87ff\">Airlines </span> │ <span style=\"color: #af87ff; text-decoration-color: #af87ff\">America  </span> │           │           │            │  │\n",
       "│ │           │    │      │           │ <span style=\"color: #af87ff; text-decoration-color: #af87ff\">Airlines </span> │ <span style=\"color: #af87ff; text-decoration-color: #af87ff\">Inc.     </span> │           │           │           │            │  │\n",
       "│ │           │    │      │           │ <span style=\"color: #af87ff; text-decoration-color: #af87ff\">Inc.     </span> │           │           │           │           │            │  │\n",
       "│ └───────────┴────┴──────┴───────────┴───────────┴───────────┴───────────┴───────────┴───────────┴────────────┘  │\n",
       "╰────────────────────────────────────────────────────── End ──────────────────────────────────────────────────────╯\n",
       "</pre>\n"
      ],
      "text/plain": [
       "╭──────────────────────────────────────────────── skimpy summary ─────────────────────────────────────────────────╮\n",
       "│ \u001b[3m         Data Summary         \u001b[0m \u001b[3m      Data Types       \u001b[0m                                                          │\n",
       "│ ┏━━━━━━━━━━━━━━━━━━━┳━━━━━━━━┓ ┏━━━━━━━━━━━━━┳━━━━━━━┓                                                          │\n",
       "│ ┃\u001b[1;36m \u001b[0m\u001b[1;36mDataframe        \u001b[0m\u001b[1;36m \u001b[0m┃\u001b[1;36m \u001b[0m\u001b[1;36mValues\u001b[0m\u001b[1;36m \u001b[0m┃ ┃\u001b[1;36m \u001b[0m\u001b[1;36mColumn Type\u001b[0m\u001b[1;36m \u001b[0m┃\u001b[1;36m \u001b[0m\u001b[1;36mCount\u001b[0m\u001b[1;36m \u001b[0m┃                                                          │\n",
       "│ ┡━━━━━━━━━━━━━━━━━━━╇━━━━━━━━┩ ┡━━━━━━━━━━━━━╇━━━━━━━┩                                                          │\n",
       "│ │ Number of rows    │ 14     │ │ string      │ 2     │                                                          │\n",
       "│ │ Number of columns │ 2      │ └─────────────┴───────┘                                                          │\n",
       "│ └───────────────────┴────────┘                                                                                  │\n",
       "│ \u001b[3m                                                    string                                                    \u001b[0m  │\n",
       "│ ┏━━━━━━━━━━━┳━━━━┳━━━━━━┳━━━━━━━━━━━┳━━━━━━━━━━━┳━━━━━━━━━━━┳━━━━━━━━━━━┳━━━━━━━━━━━┳━━━━━━━━━━━┳━━━━━━━━━━━━┓  │\n",
       "│ ┃\u001b[1m           \u001b[0m┃\u001b[1m    \u001b[0m┃\u001b[1m      \u001b[0m┃\u001b[1m           \u001b[0m┃\u001b[1m           \u001b[0m┃\u001b[1m           \u001b[0m┃\u001b[1m           \u001b[0m┃\u001b[1m \u001b[0m\u001b[1mchars per\u001b[0m\u001b[1m \u001b[0m┃\u001b[1m \u001b[0m\u001b[1mwords per\u001b[0m\u001b[1m \u001b[0m┃\u001b[1m \u001b[0m\u001b[1mtotal     \u001b[0m\u001b[1m \u001b[0m┃  │\n",
       "│ ┃\u001b[1m \u001b[0m\u001b[1mcolumn   \u001b[0m\u001b[1m \u001b[0m┃\u001b[1m \u001b[0m\u001b[1mNA\u001b[0m\u001b[1m \u001b[0m┃\u001b[1m \u001b[0m\u001b[1mNA %\u001b[0m\u001b[1m \u001b[0m┃\u001b[1m \u001b[0m\u001b[1mshortest \u001b[0m\u001b[1m \u001b[0m┃\u001b[1m \u001b[0m\u001b[1mlongest  \u001b[0m\u001b[1m \u001b[0m┃\u001b[1m \u001b[0m\u001b[1mmin      \u001b[0m\u001b[1m \u001b[0m┃\u001b[1m \u001b[0m\u001b[1mmax      \u001b[0m\u001b[1m \u001b[0m┃\u001b[1m \u001b[0m\u001b[1mrow      \u001b[0m\u001b[1m \u001b[0m┃\u001b[1m \u001b[0m\u001b[1mrow      \u001b[0m\u001b[1m \u001b[0m┃\u001b[1m \u001b[0m\u001b[1mwords     \u001b[0m\u001b[1m \u001b[0m┃  │\n",
       "│ ┡━━━━━━━━━━━╇━━━━╇━━━━━━╇━━━━━━━━━━━╇━━━━━━━━━━━╇━━━━━━━━━━━╇━━━━━━━━━━━╇━━━━━━━━━━━╇━━━━━━━━━━━╇━━━━━━━━━━━━┩  │\n",
       "│ │ \u001b[38;5;141mIATA_CODE\u001b[0m │ \u001b[36m 0\u001b[0m │ \u001b[36m   0\u001b[0m │ \u001b[38;5;141mUA       \u001b[0m │ \u001b[38;5;141mUA       \u001b[0m │ \u001b[38;5;141mAA       \u001b[0m │ \u001b[38;5;141mWN       \u001b[0m │ \u001b[36m        2\u001b[0m │ \u001b[36m        1\u001b[0m │ \u001b[36m        14\u001b[0m │  │\n",
       "│ │ \u001b[38;5;141mAIRLINE  \u001b[0m │ \u001b[36m 0\u001b[0m │ \u001b[36m   0\u001b[0m │ \u001b[38;5;141mVirgin   \u001b[0m │ \u001b[38;5;141mAmerican \u001b[0m │ \u001b[38;5;141mAlaska   \u001b[0m │ \u001b[38;5;141mVirgin   \u001b[0m │ \u001b[36m     20.4\u001b[0m │ \u001b[36m      3.1\u001b[0m │ \u001b[36m        43\u001b[0m │  │\n",
       "│ │           │    │      │ \u001b[38;5;141mAmerica  \u001b[0m │ \u001b[38;5;141mEagle    \u001b[0m │ \u001b[38;5;141mAirlines \u001b[0m │ \u001b[38;5;141mAmerica  \u001b[0m │           │           │            │  │\n",
       "│ │           │    │      │           │ \u001b[38;5;141mAirlines \u001b[0m │ \u001b[38;5;141mInc.     \u001b[0m │           │           │           │            │  │\n",
       "│ │           │    │      │           │ \u001b[38;5;141mInc.     \u001b[0m │           │           │           │           │            │  │\n",
       "│ └───────────┴────┴──────┴───────────┴───────────┴───────────┴───────────┴───────────┴───────────┴────────────┘  │\n",
       "╰────────────────────────────────────────────────────── End ──────────────────────────────────────────────────────╯\n"
      ]
     },
     "metadata": {},
     "output_type": "display_data"
    }
   ],
   "source": [
    "skim(airlines_df)"
   ]
  },
  {
   "cell_type": "code",
   "execution_count": 6,
   "id": "20df1096",
   "metadata": {},
   "outputs": [
    {
     "data": {
      "text/html": [
       "<pre style=\"white-space:pre;overflow-x:auto;line-height:normal;font-family:Menlo,'DejaVu Sans Mono',consolas,'Courier New',monospace\">╭──────────────────────────────────────────────── skimpy summary ─────────────────────────────────────────────────╮\n",
       "│ <span style=\"font-style: italic\">         Data Summary         </span> <span style=\"font-style: italic\">      Data Types       </span>                                                          │\n",
       "│ ┏━━━━━━━━━━━━━━━━━━━┳━━━━━━━━┓ ┏━━━━━━━━━━━━━┳━━━━━━━┓                                                          │\n",
       "│ ┃<span style=\"color: #008080; text-decoration-color: #008080; font-weight: bold\"> Dataframe         </span>┃<span style=\"color: #008080; text-decoration-color: #008080; font-weight: bold\"> Values </span>┃ ┃<span style=\"color: #008080; text-decoration-color: #008080; font-weight: bold\"> Column Type </span>┃<span style=\"color: #008080; text-decoration-color: #008080; font-weight: bold\"> Count </span>┃                                                          │\n",
       "│ ┡━━━━━━━━━━━━━━━━━━━╇━━━━━━━━┩ ┡━━━━━━━━━━━━━╇━━━━━━━┩                                                          │\n",
       "│ │ Number of rows    │ 322    │ │ string      │ 5     │                                                          │\n",
       "│ │ Number of columns │ 7      │ │ float64     │ 2     │                                                          │\n",
       "│ └───────────────────┴────────┘ └─────────────┴───────┘                                                          │\n",
       "│ <span style=\"font-style: italic\">                                                    number                                                    </span>  │\n",
       "│ ┏━━━━━━━━━━━━┳━━━━━┳━━━━━━━━━━━━━━━━━━━━┳━━━━━━━━┳━━━━━━━┳━━━━━━━━┳━━━━━━━━┳━━━━━━━┳━━━━━━━━┳━━━━━━━┳━━━━━━━━┓  │\n",
       "│ ┃<span style=\"font-weight: bold\"> column     </span>┃<span style=\"font-weight: bold\"> NA  </span>┃<span style=\"font-weight: bold\"> NA %               </span>┃<span style=\"font-weight: bold\"> mean   </span>┃<span style=\"font-weight: bold\"> sd    </span>┃<span style=\"font-weight: bold\"> p0     </span>┃<span style=\"font-weight: bold\"> p25    </span>┃<span style=\"font-weight: bold\"> p50   </span>┃<span style=\"font-weight: bold\"> p75    </span>┃<span style=\"font-weight: bold\"> p100  </span>┃<span style=\"font-weight: bold\"> hist   </span>┃  │\n",
       "│ ┡━━━━━━━━━━━━╇━━━━━╇━━━━━━━━━━━━━━━━━━━━╇━━━━━━━━╇━━━━━━━╇━━━━━━━━╇━━━━━━━━╇━━━━━━━╇━━━━━━━━╇━━━━━━━╇━━━━━━━━┩  │\n",
       "│ │ <span style=\"color: #af87ff; text-decoration-color: #af87ff\">LATITUDE  </span> │ <span style=\"color: #008080; text-decoration-color: #008080\">  3</span> │ <span style=\"color: #008080; text-decoration-color: #008080\">0.9316770186335404</span> │ <span style=\"color: #008080; text-decoration-color: #008080\"> 38.98</span> │ <span style=\"color: #008080; text-decoration-color: #008080\">8.617</span> │ <span style=\"color: #008080; text-decoration-color: #008080\"> 13.48</span> │ <span style=\"color: #008080; text-decoration-color: #008080\"> 33.65</span> │ <span style=\"color: #008080; text-decoration-color: #008080\"> 39.3</span> │ <span style=\"color: #008080; text-decoration-color: #008080\"> 43.15</span> │ <span style=\"color: #008080; text-decoration-color: #008080\">71.29</span> │ <span style=\"color: #008000; text-decoration-color: #008000\">▁▃█▄▁ </span> │  │\n",
       "│ │ <span style=\"color: #af87ff; text-decoration-color: #af87ff\">LONGITUDE </span> │ <span style=\"color: #008080; text-decoration-color: #008080\">  3</span> │ <span style=\"color: #008080; text-decoration-color: #008080\">0.9316770186335404</span> │ <span style=\"color: #008080; text-decoration-color: #008080\">-98.38</span> │ <span style=\"color: #008080; text-decoration-color: #008080\">21.52</span> │ <span style=\"color: #008080; text-decoration-color: #008080\">-176.6</span> │ <span style=\"color: #008080; text-decoration-color: #008080\">-110.8</span> │ <span style=\"color: #008080; text-decoration-color: #008080\">-93.4</span> │ <span style=\"color: #008080; text-decoration-color: #008080\">-82.72</span> │ <span style=\"color: #008080; text-decoration-color: #008080\">-64.8</span> │ <span style=\"color: #008000; text-decoration-color: #008000\"> ▁▁▄█▅</span> │  │\n",
       "│ └────────────┴─────┴────────────────────┴────────┴───────┴────────┴────────┴───────┴────────┴───────┴────────┘  │\n",
       "│ <span style=\"font-style: italic\">                                                    string                                                    </span>  │\n",
       "│ ┏━━━━━━━━━━━┳━━━━┳━━━━━━┳━━━━━━━━━━━┳━━━━━━━━━━━┳━━━━━━━━━━━┳━━━━━━━━━━━┳━━━━━━━━━━━┳━━━━━━━━━━━┳━━━━━━━━━━━━┓  │\n",
       "│ ┃<span style=\"font-weight: bold\">           </span>┃<span style=\"font-weight: bold\">    </span>┃<span style=\"font-weight: bold\">      </span>┃<span style=\"font-weight: bold\">           </span>┃<span style=\"font-weight: bold\">           </span>┃<span style=\"font-weight: bold\">           </span>┃<span style=\"font-weight: bold\">           </span>┃<span style=\"font-weight: bold\"> chars per </span>┃<span style=\"font-weight: bold\"> words per </span>┃<span style=\"font-weight: bold\"> total      </span>┃  │\n",
       "│ ┃<span style=\"font-weight: bold\"> column    </span>┃<span style=\"font-weight: bold\"> NA </span>┃<span style=\"font-weight: bold\"> NA % </span>┃<span style=\"font-weight: bold\"> shortest  </span>┃<span style=\"font-weight: bold\"> longest   </span>┃<span style=\"font-weight: bold\"> min       </span>┃<span style=\"font-weight: bold\"> max       </span>┃<span style=\"font-weight: bold\"> row       </span>┃<span style=\"font-weight: bold\"> row       </span>┃<span style=\"font-weight: bold\"> words      </span>┃  │\n",
       "│ ┡━━━━━━━━━━━╇━━━━╇━━━━━━╇━━━━━━━━━━━╇━━━━━━━━━━━╇━━━━━━━━━━━╇━━━━━━━━━━━╇━━━━━━━━━━━╇━━━━━━━━━━━╇━━━━━━━━━━━━┩  │\n",
       "│ │ <span style=\"color: #af87ff; text-decoration-color: #af87ff\">IATA_CODE</span> │ <span style=\"color: #008080; text-decoration-color: #008080\"> 0</span> │ <span style=\"color: #008080; text-decoration-color: #008080\">   0</span> │ <span style=\"color: #af87ff; text-decoration-color: #af87ff\">ABE      </span> │ <span style=\"color: #af87ff; text-decoration-color: #af87ff\">ABE      </span> │ <span style=\"color: #af87ff; text-decoration-color: #af87ff\">ABE      </span> │ <span style=\"color: #af87ff; text-decoration-color: #af87ff\">YUM      </span> │ <span style=\"color: #008080; text-decoration-color: #008080\">        3</span> │ <span style=\"color: #008080; text-decoration-color: #008080\">        1</span> │ <span style=\"color: #008080; text-decoration-color: #008080\">       322</span> │  │\n",
       "│ │ <span style=\"color: #af87ff; text-decoration-color: #af87ff\">AIRPORT  </span> │ <span style=\"color: #008080; text-decoration-color: #008080\"> 0</span> │ <span style=\"color: #008080; text-decoration-color: #008080\">   0</span> │ <span style=\"color: #af87ff; text-decoration-color: #af87ff\">Adak     </span> │ <span style=\"color: #af87ff; text-decoration-color: #af87ff\">Wichita  </span> │ <span style=\"color: #af87ff; text-decoration-color: #af87ff\">Aberdeen </span> │ <span style=\"color: #af87ff; text-decoration-color: #af87ff\">Yuma     </span> │ <span style=\"color: #008080; text-decoration-color: #008080\">     32.6</span> │ <span style=\"color: #008080; text-decoration-color: #008080\">      3.7</span> │ <span style=\"color: #008080; text-decoration-color: #008080\">      1198</span> │  │\n",
       "│ │           │    │      │ <span style=\"color: #af87ff; text-decoration-color: #af87ff\">Airport  </span> │ <span style=\"color: #af87ff; text-decoration-color: #af87ff\">Dwight D.</span> │ <span style=\"color: #af87ff; text-decoration-color: #af87ff\">Regional </span> │ <span style=\"color: #af87ff; text-decoration-color: #af87ff\">Internati</span> │           │           │            │  │\n",
       "│ │           │    │      │           │ <span style=\"color: #af87ff; text-decoration-color: #af87ff\">Eisenhowe</span> │ <span style=\"color: #af87ff; text-decoration-color: #af87ff\">Airport  </span> │ <span style=\"color: #af87ff; text-decoration-color: #af87ff\">onal     </span> │           │           │            │  │\n",
       "│ │           │    │      │           │ <span style=\"color: #af87ff; text-decoration-color: #af87ff\">r        </span> │           │ <span style=\"color: #af87ff; text-decoration-color: #af87ff\">Airport  </span> │           │           │            │  │\n",
       "│ │           │    │      │           │ <span style=\"color: #af87ff; text-decoration-color: #af87ff\">National </span> │           │           │           │           │            │  │\n",
       "│ │           │    │      │           │ <span style=\"color: #af87ff; text-decoration-color: #af87ff\">Airport  </span> │           │           │           │           │            │  │\n",
       "│ │           │    │      │           │ <span style=\"color: #af87ff; text-decoration-color: #af87ff\">(Wichita </span> │           │           │           │           │            │  │\n",
       "│ │           │    │      │           │ <span style=\"color: #af87ff; text-decoration-color: #af87ff\">Mid-Conti</span> │           │           │           │           │            │  │\n",
       "│ │           │    │      │           │ <span style=\"color: #af87ff; text-decoration-color: #af87ff\">nent     </span> │           │           │           │           │            │  │\n",
       "│ │           │    │      │           │ <span style=\"color: #af87ff; text-decoration-color: #af87ff\">Airport) </span> │           │           │           │           │            │  │\n",
       "│ │ <span style=\"color: #af87ff; text-decoration-color: #af87ff\">CITY     </span> │ <span style=\"color: #008080; text-decoration-color: #008080\"> 0</span> │ <span style=\"color: #008080; text-decoration-color: #008080\">   0</span> │ <span style=\"color: #af87ff; text-decoration-color: #af87ff\">Waco     </span> │ <span style=\"color: #af87ff; text-decoration-color: #af87ff\">Columbus-</span> │ <span style=\"color: #af87ff; text-decoration-color: #af87ff\">Aberdeen </span> │ <span style=\"color: #af87ff; text-decoration-color: #af87ff\">Yuma     </span> │ <span style=\"color: #008080; text-decoration-color: #008080\">        9</span> │ <span style=\"color: #008080; text-decoration-color: #008080\">      1.3</span> │ <span style=\"color: #008080; text-decoration-color: #008080\">       411</span> │  │\n",
       "│ │           │    │      │           │ <span style=\"color: #af87ff; text-decoration-color: #af87ff\">Starkvill</span> │           │           │           │           │            │  │\n",
       "│ │           │    │      │           │ <span style=\"color: #af87ff; text-decoration-color: #af87ff\">e-West   </span> │           │           │           │           │            │  │\n",
       "│ │           │    │      │           │ <span style=\"color: #af87ff; text-decoration-color: #af87ff\">Point    </span> │           │           │           │           │            │  │\n",
       "│ │ <span style=\"color: #af87ff; text-decoration-color: #af87ff\">STATE    </span> │ <span style=\"color: #008080; text-decoration-color: #008080\"> 0</span> │ <span style=\"color: #008080; text-decoration-color: #008080\">   0</span> │ <span style=\"color: #af87ff; text-decoration-color: #af87ff\">PA       </span> │ <span style=\"color: #af87ff; text-decoration-color: #af87ff\">PA       </span> │ <span style=\"color: #af87ff; text-decoration-color: #af87ff\">AK       </span> │ <span style=\"color: #af87ff; text-decoration-color: #af87ff\">WY       </span> │ <span style=\"color: #008080; text-decoration-color: #008080\">        2</span> │ <span style=\"color: #008080; text-decoration-color: #008080\">        1</span> │ <span style=\"color: #008080; text-decoration-color: #008080\">       322</span> │  │\n",
       "│ │ <span style=\"color: #af87ff; text-decoration-color: #af87ff\">COUNTRY  </span> │ <span style=\"color: #008080; text-decoration-color: #008080\"> 0</span> │ <span style=\"color: #008080; text-decoration-color: #008080\">   0</span> │ <span style=\"color: #af87ff; text-decoration-color: #af87ff\">USA      </span> │ <span style=\"color: #af87ff; text-decoration-color: #af87ff\">USA      </span> │ <span style=\"color: #af87ff; text-decoration-color: #af87ff\">USA      </span> │ <span style=\"color: #af87ff; text-decoration-color: #af87ff\">USA      </span> │ <span style=\"color: #008080; text-decoration-color: #008080\">        3</span> │ <span style=\"color: #008080; text-decoration-color: #008080\">        1</span> │ <span style=\"color: #008080; text-decoration-color: #008080\">       322</span> │  │\n",
       "│ └───────────┴────┴──────┴───────────┴───────────┴───────────┴───────────┴───────────┴───────────┴────────────┘  │\n",
       "╰────────────────────────────────────────────────────── End ──────────────────────────────────────────────────────╯\n",
       "</pre>\n"
      ],
      "text/plain": [
       "╭──────────────────────────────────────────────── skimpy summary ─────────────────────────────────────────────────╮\n",
       "│ \u001b[3m         Data Summary         \u001b[0m \u001b[3m      Data Types       \u001b[0m                                                          │\n",
       "│ ┏━━━━━━━━━━━━━━━━━━━┳━━━━━━━━┓ ┏━━━━━━━━━━━━━┳━━━━━━━┓                                                          │\n",
       "│ ┃\u001b[1;36m \u001b[0m\u001b[1;36mDataframe        \u001b[0m\u001b[1;36m \u001b[0m┃\u001b[1;36m \u001b[0m\u001b[1;36mValues\u001b[0m\u001b[1;36m \u001b[0m┃ ┃\u001b[1;36m \u001b[0m\u001b[1;36mColumn Type\u001b[0m\u001b[1;36m \u001b[0m┃\u001b[1;36m \u001b[0m\u001b[1;36mCount\u001b[0m\u001b[1;36m \u001b[0m┃                                                          │\n",
       "│ ┡━━━━━━━━━━━━━━━━━━━╇━━━━━━━━┩ ┡━━━━━━━━━━━━━╇━━━━━━━┩                                                          │\n",
       "│ │ Number of rows    │ 322    │ │ string      │ 5     │                                                          │\n",
       "│ │ Number of columns │ 7      │ │ float64     │ 2     │                                                          │\n",
       "│ └───────────────────┴────────┘ └─────────────┴───────┘                                                          │\n",
       "│ \u001b[3m                                                    number                                                    \u001b[0m  │\n",
       "│ ┏━━━━━━━━━━━━┳━━━━━┳━━━━━━━━━━━━━━━━━━━━┳━━━━━━━━┳━━━━━━━┳━━━━━━━━┳━━━━━━━━┳━━━━━━━┳━━━━━━━━┳━━━━━━━┳━━━━━━━━┓  │\n",
       "│ ┃\u001b[1m \u001b[0m\u001b[1mcolumn    \u001b[0m\u001b[1m \u001b[0m┃\u001b[1m \u001b[0m\u001b[1mNA \u001b[0m\u001b[1m \u001b[0m┃\u001b[1m \u001b[0m\u001b[1mNA %              \u001b[0m\u001b[1m \u001b[0m┃\u001b[1m \u001b[0m\u001b[1mmean  \u001b[0m\u001b[1m \u001b[0m┃\u001b[1m \u001b[0m\u001b[1msd   \u001b[0m\u001b[1m \u001b[0m┃\u001b[1m \u001b[0m\u001b[1mp0    \u001b[0m\u001b[1m \u001b[0m┃\u001b[1m \u001b[0m\u001b[1mp25   \u001b[0m\u001b[1m \u001b[0m┃\u001b[1m \u001b[0m\u001b[1mp50  \u001b[0m\u001b[1m \u001b[0m┃\u001b[1m \u001b[0m\u001b[1mp75   \u001b[0m\u001b[1m \u001b[0m┃\u001b[1m \u001b[0m\u001b[1mp100 \u001b[0m\u001b[1m \u001b[0m┃\u001b[1m \u001b[0m\u001b[1mhist  \u001b[0m\u001b[1m \u001b[0m┃  │\n",
       "│ ┡━━━━━━━━━━━━╇━━━━━╇━━━━━━━━━━━━━━━━━━━━╇━━━━━━━━╇━━━━━━━╇━━━━━━━━╇━━━━━━━━╇━━━━━━━╇━━━━━━━━╇━━━━━━━╇━━━━━━━━┩  │\n",
       "│ │ \u001b[38;5;141mLATITUDE  \u001b[0m │ \u001b[36m  3\u001b[0m │ \u001b[36m0.9316770186335404\u001b[0m │ \u001b[36m 38.98\u001b[0m │ \u001b[36m8.617\u001b[0m │ \u001b[36m 13.48\u001b[0m │ \u001b[36m 33.65\u001b[0m │ \u001b[36m 39.3\u001b[0m │ \u001b[36m 43.15\u001b[0m │ \u001b[36m71.29\u001b[0m │ \u001b[32m▁▃█▄▁ \u001b[0m │  │\n",
       "│ │ \u001b[38;5;141mLONGITUDE \u001b[0m │ \u001b[36m  3\u001b[0m │ \u001b[36m0.9316770186335404\u001b[0m │ \u001b[36m-98.38\u001b[0m │ \u001b[36m21.52\u001b[0m │ \u001b[36m-176.6\u001b[0m │ \u001b[36m-110.8\u001b[0m │ \u001b[36m-93.4\u001b[0m │ \u001b[36m-82.72\u001b[0m │ \u001b[36m-64.8\u001b[0m │ \u001b[32m ▁▁▄█▅\u001b[0m │  │\n",
       "│ └────────────┴─────┴────────────────────┴────────┴───────┴────────┴────────┴───────┴────────┴───────┴────────┘  │\n",
       "│ \u001b[3m                                                    string                                                    \u001b[0m  │\n",
       "│ ┏━━━━━━━━━━━┳━━━━┳━━━━━━┳━━━━━━━━━━━┳━━━━━━━━━━━┳━━━━━━━━━━━┳━━━━━━━━━━━┳━━━━━━━━━━━┳━━━━━━━━━━━┳━━━━━━━━━━━━┓  │\n",
       "│ ┃\u001b[1m           \u001b[0m┃\u001b[1m    \u001b[0m┃\u001b[1m      \u001b[0m┃\u001b[1m           \u001b[0m┃\u001b[1m           \u001b[0m┃\u001b[1m           \u001b[0m┃\u001b[1m           \u001b[0m┃\u001b[1m \u001b[0m\u001b[1mchars per\u001b[0m\u001b[1m \u001b[0m┃\u001b[1m \u001b[0m\u001b[1mwords per\u001b[0m\u001b[1m \u001b[0m┃\u001b[1m \u001b[0m\u001b[1mtotal     \u001b[0m\u001b[1m \u001b[0m┃  │\n",
       "│ ┃\u001b[1m \u001b[0m\u001b[1mcolumn   \u001b[0m\u001b[1m \u001b[0m┃\u001b[1m \u001b[0m\u001b[1mNA\u001b[0m\u001b[1m \u001b[0m┃\u001b[1m \u001b[0m\u001b[1mNA %\u001b[0m\u001b[1m \u001b[0m┃\u001b[1m \u001b[0m\u001b[1mshortest \u001b[0m\u001b[1m \u001b[0m┃\u001b[1m \u001b[0m\u001b[1mlongest  \u001b[0m\u001b[1m \u001b[0m┃\u001b[1m \u001b[0m\u001b[1mmin      \u001b[0m\u001b[1m \u001b[0m┃\u001b[1m \u001b[0m\u001b[1mmax      \u001b[0m\u001b[1m \u001b[0m┃\u001b[1m \u001b[0m\u001b[1mrow      \u001b[0m\u001b[1m \u001b[0m┃\u001b[1m \u001b[0m\u001b[1mrow      \u001b[0m\u001b[1m \u001b[0m┃\u001b[1m \u001b[0m\u001b[1mwords     \u001b[0m\u001b[1m \u001b[0m┃  │\n",
       "│ ┡━━━━━━━━━━━╇━━━━╇━━━━━━╇━━━━━━━━━━━╇━━━━━━━━━━━╇━━━━━━━━━━━╇━━━━━━━━━━━╇━━━━━━━━━━━╇━━━━━━━━━━━╇━━━━━━━━━━━━┩  │\n",
       "│ │ \u001b[38;5;141mIATA_CODE\u001b[0m │ \u001b[36m 0\u001b[0m │ \u001b[36m   0\u001b[0m │ \u001b[38;5;141mABE      \u001b[0m │ \u001b[38;5;141mABE      \u001b[0m │ \u001b[38;5;141mABE      \u001b[0m │ \u001b[38;5;141mYUM      \u001b[0m │ \u001b[36m        3\u001b[0m │ \u001b[36m        1\u001b[0m │ \u001b[36m       322\u001b[0m │  │\n",
       "│ │ \u001b[38;5;141mAIRPORT  \u001b[0m │ \u001b[36m 0\u001b[0m │ \u001b[36m   0\u001b[0m │ \u001b[38;5;141mAdak     \u001b[0m │ \u001b[38;5;141mWichita  \u001b[0m │ \u001b[38;5;141mAberdeen \u001b[0m │ \u001b[38;5;141mYuma     \u001b[0m │ \u001b[36m     32.6\u001b[0m │ \u001b[36m      3.7\u001b[0m │ \u001b[36m      1198\u001b[0m │  │\n",
       "│ │           │    │      │ \u001b[38;5;141mAirport  \u001b[0m │ \u001b[38;5;141mDwight D.\u001b[0m │ \u001b[38;5;141mRegional \u001b[0m │ \u001b[38;5;141mInternati\u001b[0m │           │           │            │  │\n",
       "│ │           │    │      │           │ \u001b[38;5;141mEisenhowe\u001b[0m │ \u001b[38;5;141mAirport  \u001b[0m │ \u001b[38;5;141monal     \u001b[0m │           │           │            │  │\n",
       "│ │           │    │      │           │ \u001b[38;5;141mr        \u001b[0m │           │ \u001b[38;5;141mAirport  \u001b[0m │           │           │            │  │\n",
       "│ │           │    │      │           │ \u001b[38;5;141mNational \u001b[0m │           │           │           │           │            │  │\n",
       "│ │           │    │      │           │ \u001b[38;5;141mAirport  \u001b[0m │           │           │           │           │            │  │\n",
       "│ │           │    │      │           │ \u001b[38;5;141m(Wichita \u001b[0m │           │           │           │           │            │  │\n",
       "│ │           │    │      │           │ \u001b[38;5;141mMid-Conti\u001b[0m │           │           │           │           │            │  │\n",
       "│ │           │    │      │           │ \u001b[38;5;141mnent     \u001b[0m │           │           │           │           │            │  │\n",
       "│ │           │    │      │           │ \u001b[38;5;141mAirport) \u001b[0m │           │           │           │           │            │  │\n",
       "│ │ \u001b[38;5;141mCITY     \u001b[0m │ \u001b[36m 0\u001b[0m │ \u001b[36m   0\u001b[0m │ \u001b[38;5;141mWaco     \u001b[0m │ \u001b[38;5;141mColumbus-\u001b[0m │ \u001b[38;5;141mAberdeen \u001b[0m │ \u001b[38;5;141mYuma     \u001b[0m │ \u001b[36m        9\u001b[0m │ \u001b[36m      1.3\u001b[0m │ \u001b[36m       411\u001b[0m │  │\n",
       "│ │           │    │      │           │ \u001b[38;5;141mStarkvill\u001b[0m │           │           │           │           │            │  │\n",
       "│ │           │    │      │           │ \u001b[38;5;141me-West   \u001b[0m │           │           │           │           │            │  │\n",
       "│ │           │    │      │           │ \u001b[38;5;141mPoint    \u001b[0m │           │           │           │           │            │  │\n",
       "│ │ \u001b[38;5;141mSTATE    \u001b[0m │ \u001b[36m 0\u001b[0m │ \u001b[36m   0\u001b[0m │ \u001b[38;5;141mPA       \u001b[0m │ \u001b[38;5;141mPA       \u001b[0m │ \u001b[38;5;141mAK       \u001b[0m │ \u001b[38;5;141mWY       \u001b[0m │ \u001b[36m        2\u001b[0m │ \u001b[36m        1\u001b[0m │ \u001b[36m       322\u001b[0m │  │\n",
       "│ │ \u001b[38;5;141mCOUNTRY  \u001b[0m │ \u001b[36m 0\u001b[0m │ \u001b[36m   0\u001b[0m │ \u001b[38;5;141mUSA      \u001b[0m │ \u001b[38;5;141mUSA      \u001b[0m │ \u001b[38;5;141mUSA      \u001b[0m │ \u001b[38;5;141mUSA      \u001b[0m │ \u001b[36m        3\u001b[0m │ \u001b[36m        1\u001b[0m │ \u001b[36m       322\u001b[0m │  │\n",
       "│ └───────────┴────┴──────┴───────────┴───────────┴───────────┴───────────┴───────────┴───────────┴────────────┘  │\n",
       "╰────────────────────────────────────────────────────── End ──────────────────────────────────────────────────────╯\n"
      ]
     },
     "metadata": {},
     "output_type": "display_data"
    }
   ],
   "source": [
    "skim(airports_df)"
   ]
  },
  {
   "cell_type": "code",
   "execution_count": 7,
   "id": "5f7b1de3",
   "metadata": {},
   "outputs": [
    {
     "data": {
      "text/html": [
       "<div><style>\n",
       ".dataframe > thead > tr,\n",
       ".dataframe > tbody > tr {\n",
       "  text-align: right;\n",
       "  white-space: pre-wrap;\n",
       "}\n",
       "</style>\n",
       "<small>shape: (1, 31)</small><table border=\"1\" class=\"dataframe\"><thead><tr><th>YEAR</th><th>MONTH</th><th>DAY</th><th>DAY_OF_WEEK</th><th>AIRLINE</th><th>FLIGHT_NUMBER</th><th>TAIL_NUMBER</th><th>ORIGIN_AIRPORT</th><th>DESTINATION_AIRPORT</th><th>SCHEDULED_DEPARTURE</th><th>DEPARTURE_TIME</th><th>DEPARTURE_DELAY</th><th>TAXI_OUT</th><th>WHEELS_OFF</th><th>SCHEDULED_TIME</th><th>ELAPSED_TIME</th><th>AIR_TIME</th><th>DISTANCE</th><th>WHEELS_ON</th><th>TAXI_IN</th><th>SCHEDULED_ARRIVAL</th><th>ARRIVAL_TIME</th><th>ARRIVAL_DELAY</th><th>DIVERTED</th><th>CANCELLED</th><th>CANCELLATION_REASON</th><th>AIR_SYSTEM_DELAY</th><th>SECURITY_DELAY</th><th>AIRLINE_DELAY</th><th>LATE_AIRCRAFT_DELAY</th><th>WEATHER_DELAY</th></tr><tr><td>u32</td><td>u32</td><td>u32</td><td>u32</td><td>u32</td><td>u32</td><td>u32</td><td>u32</td><td>u32</td><td>u32</td><td>u32</td><td>u32</td><td>u32</td><td>u32</td><td>u32</td><td>u32</td><td>u32</td><td>u32</td><td>u32</td><td>u32</td><td>u32</td><td>u32</td><td>u32</td><td>u32</td><td>u32</td><td>u32</td><td>u32</td><td>u32</td><td>u32</td><td>u32</td><td>u32</td></tr></thead><tbody><tr><td>0</td><td>0</td><td>0</td><td>0</td><td>0</td><td>0</td><td>14721</td><td>0</td><td>0</td><td>0</td><td>86153</td><td>86153</td><td>89047</td><td>89047</td><td>6</td><td>105071</td><td>105071</td><td>0</td><td>92513</td><td>92513</td><td>0</td><td>92513</td><td>105071</td><td>0</td><td>0</td><td>5729195</td><td>4755640</td><td>4755640</td><td>4755640</td><td>4755640</td><td>4755640</td></tr></tbody></table></div>"
      ],
      "text/plain": [
       "shape: (1, 31)\n",
       "┌──────┬───────┬─────┬─────────────┬───┬──────────────┬──────────────┬──────────────┬──────────────┐\n",
       "│ YEAR ┆ MONTH ┆ DAY ┆ DAY_OF_WEEK ┆ … ┆ SECURITY_DEL ┆ AIRLINE_DELA ┆ LATE_AIRCRAF ┆ WEATHER_DELA │\n",
       "│ ---  ┆ ---   ┆ --- ┆ ---         ┆   ┆ AY           ┆ Y            ┆ T_DELAY      ┆ Y            │\n",
       "│ u32  ┆ u32   ┆ u32 ┆ u32         ┆   ┆ ---          ┆ ---          ┆ ---          ┆ ---          │\n",
       "│      ┆       ┆     ┆             ┆   ┆ u32          ┆ u32          ┆ u32          ┆ u32          │\n",
       "╞══════╪═══════╪═════╪═════════════╪═══╪══════════════╪══════════════╪══════════════╪══════════════╡\n",
       "│ 0    ┆ 0     ┆ 0   ┆ 0           ┆ … ┆ 4755640      ┆ 4755640      ┆ 4755640      ┆ 4755640      │\n",
       "└──────┴───────┴─────┴─────────────┴───┴──────────────┴──────────────┴──────────────┴──────────────┘"
      ]
     },
     "execution_count": 7,
     "metadata": {},
     "output_type": "execute_result"
    }
   ],
   "source": [
    "null_counts = (\n",
    "    flights.select([\n",
    "        pl.col(c).is_null().sum().alias(c) for c in flights.collect_schema().names()\n",
    "    ]).collect()\n",
    ")\n",
    "null_counts"
   ]
  },
  {
   "cell_type": "code",
   "execution_count": 8,
   "id": "6ce26f97",
   "metadata": {},
   "outputs": [
    {
     "data": {
      "text/html": [
       "<div><style>\n",
       ".dataframe > thead > tr,\n",
       ".dataframe > tbody > tr {\n",
       "  text-align: right;\n",
       "  white-space: pre-wrap;\n",
       "}\n",
       "</style>\n",
       "<small>shape: (10, 2)</small><table border=\"1\" class=\"dataframe\"><thead><tr><th>IATA_CODE</th><th>AIRLINE</th></tr><tr><td>str</td><td>str</td></tr></thead><tbody><tr><td>&quot;UA&quot;</td><td>&quot;United Air Lines Inc.&quot;</td></tr><tr><td>&quot;AA&quot;</td><td>&quot;American Airlines Inc.&quot;</td></tr><tr><td>&quot;US&quot;</td><td>&quot;US Airways Inc.&quot;</td></tr><tr><td>&quot;F9&quot;</td><td>&quot;Frontier Airlines Inc.&quot;</td></tr><tr><td>&quot;B6&quot;</td><td>&quot;JetBlue Airways&quot;</td></tr><tr><td>&quot;OO&quot;</td><td>&quot;Skywest Airlines Inc.&quot;</td></tr><tr><td>&quot;AS&quot;</td><td>&quot;Alaska Airlines Inc.&quot;</td></tr><tr><td>&quot;NK&quot;</td><td>&quot;Spirit Air Lines&quot;</td></tr><tr><td>&quot;WN&quot;</td><td>&quot;Southwest Airlines Co.&quot;</td></tr><tr><td>&quot;DL&quot;</td><td>&quot;Delta Air Lines Inc.&quot;</td></tr></tbody></table></div>"
      ],
      "text/plain": [
       "shape: (10, 2)\n",
       "┌───────────┬────────────────────────┐\n",
       "│ IATA_CODE ┆ AIRLINE                │\n",
       "│ ---       ┆ ---                    │\n",
       "│ str       ┆ str                    │\n",
       "╞═══════════╪════════════════════════╡\n",
       "│ UA        ┆ United Air Lines Inc.  │\n",
       "│ AA        ┆ American Airlines Inc. │\n",
       "│ US        ┆ US Airways Inc.        │\n",
       "│ F9        ┆ Frontier Airlines Inc. │\n",
       "│ B6        ┆ JetBlue Airways        │\n",
       "│ OO        ┆ Skywest Airlines Inc.  │\n",
       "│ AS        ┆ Alaska Airlines Inc.   │\n",
       "│ NK        ┆ Spirit Air Lines       │\n",
       "│ WN        ┆ Southwest Airlines Co. │\n",
       "│ DL        ┆ Delta Air Lines Inc.   │\n",
       "└───────────┴────────────────────────┘"
      ]
     },
     "execution_count": 8,
     "metadata": {},
     "output_type": "execute_result"
    }
   ],
   "source": [
    "airlines_df.head(10)"
   ]
  },
  {
   "cell_type": "code",
   "execution_count": 9,
   "id": "b3951357",
   "metadata": {},
   "outputs": [
    {
     "data": {
      "text/html": [
       "<div><style>\n",
       ".dataframe > thead > tr,\n",
       ".dataframe > tbody > tr {\n",
       "  text-align: right;\n",
       "  white-space: pre-wrap;\n",
       "}\n",
       "</style>\n",
       "<small>shape: (10, 7)</small><table border=\"1\" class=\"dataframe\"><thead><tr><th>IATA_CODE</th><th>AIRPORT</th><th>CITY</th><th>STATE</th><th>COUNTRY</th><th>LATITUDE</th><th>LONGITUDE</th></tr><tr><td>str</td><td>str</td><td>str</td><td>str</td><td>str</td><td>f64</td><td>f64</td></tr></thead><tbody><tr><td>&quot;ABE&quot;</td><td>&quot;Lehigh Valley International Ai…</td><td>&quot;Allentown&quot;</td><td>&quot;PA&quot;</td><td>&quot;USA&quot;</td><td>40.65236</td><td>-75.4404</td></tr><tr><td>&quot;ABI&quot;</td><td>&quot;Abilene Regional Airport&quot;</td><td>&quot;Abilene&quot;</td><td>&quot;TX&quot;</td><td>&quot;USA&quot;</td><td>32.41132</td><td>-99.6819</td></tr><tr><td>&quot;ABQ&quot;</td><td>&quot;Albuquerque International Sunp…</td><td>&quot;Albuquerque&quot;</td><td>&quot;NM&quot;</td><td>&quot;USA&quot;</td><td>35.04022</td><td>-106.60919</td></tr><tr><td>&quot;ABR&quot;</td><td>&quot;Aberdeen Regional Airport&quot;</td><td>&quot;Aberdeen&quot;</td><td>&quot;SD&quot;</td><td>&quot;USA&quot;</td><td>45.44906</td><td>-98.42183</td></tr><tr><td>&quot;ABY&quot;</td><td>&quot;Southwest Georgia Regional Air…</td><td>&quot;Albany&quot;</td><td>&quot;GA&quot;</td><td>&quot;USA&quot;</td><td>31.53552</td><td>-84.19447</td></tr><tr><td>&quot;ACK&quot;</td><td>&quot;Nantucket Memorial Airport&quot;</td><td>&quot;Nantucket&quot;</td><td>&quot;MA&quot;</td><td>&quot;USA&quot;</td><td>41.25305</td><td>-70.06018</td></tr><tr><td>&quot;ACT&quot;</td><td>&quot;Waco Regional Airport&quot;</td><td>&quot;Waco&quot;</td><td>&quot;TX&quot;</td><td>&quot;USA&quot;</td><td>31.61129</td><td>-97.23052</td></tr><tr><td>&quot;ACV&quot;</td><td>&quot;Arcata Airport&quot;</td><td>&quot;Arcata/Eureka&quot;</td><td>&quot;CA&quot;</td><td>&quot;USA&quot;</td><td>40.97812</td><td>-124.10862</td></tr><tr><td>&quot;ACY&quot;</td><td>&quot;Atlantic City International Ai…</td><td>&quot;Atlantic City&quot;</td><td>&quot;NJ&quot;</td><td>&quot;USA&quot;</td><td>39.45758</td><td>-74.57717</td></tr><tr><td>&quot;ADK&quot;</td><td>&quot;Adak Airport&quot;</td><td>&quot;Adak&quot;</td><td>&quot;AK&quot;</td><td>&quot;USA&quot;</td><td>51.87796</td><td>-176.64603</td></tr></tbody></table></div>"
      ],
      "text/plain": [
       "shape: (10, 7)\n",
       "┌───────────┬────────────────────────────┬───────────────┬───────┬─────────┬──────────┬────────────┐\n",
       "│ IATA_CODE ┆ AIRPORT                    ┆ CITY          ┆ STATE ┆ COUNTRY ┆ LATITUDE ┆ LONGITUDE  │\n",
       "│ ---       ┆ ---                        ┆ ---           ┆ ---   ┆ ---     ┆ ---      ┆ ---        │\n",
       "│ str       ┆ str                        ┆ str           ┆ str   ┆ str     ┆ f64      ┆ f64        │\n",
       "╞═══════════╪════════════════════════════╪═══════════════╪═══════╪═════════╪══════════╪════════════╡\n",
       "│ ABE       ┆ Lehigh Valley              ┆ Allentown     ┆ PA    ┆ USA     ┆ 40.65236 ┆ -75.4404   │\n",
       "│           ┆ International Ai…          ┆               ┆       ┆         ┆          ┆            │\n",
       "│ ABI       ┆ Abilene Regional Airport   ┆ Abilene       ┆ TX    ┆ USA     ┆ 32.41132 ┆ -99.6819   │\n",
       "│ ABQ       ┆ Albuquerque International  ┆ Albuquerque   ┆ NM    ┆ USA     ┆ 35.04022 ┆ -106.60919 │\n",
       "│           ┆ Sunp…                      ┆               ┆       ┆         ┆          ┆            │\n",
       "│ ABR       ┆ Aberdeen Regional Airport  ┆ Aberdeen      ┆ SD    ┆ USA     ┆ 45.44906 ┆ -98.42183  │\n",
       "│ ABY       ┆ Southwest Georgia Regional ┆ Albany        ┆ GA    ┆ USA     ┆ 31.53552 ┆ -84.19447  │\n",
       "│           ┆ Air…                       ┆               ┆       ┆         ┆          ┆            │\n",
       "│ ACK       ┆ Nantucket Memorial Airport ┆ Nantucket     ┆ MA    ┆ USA     ┆ 41.25305 ┆ -70.06018  │\n",
       "│ ACT       ┆ Waco Regional Airport      ┆ Waco          ┆ TX    ┆ USA     ┆ 31.61129 ┆ -97.23052  │\n",
       "│ ACV       ┆ Arcata Airport             ┆ Arcata/Eureka ┆ CA    ┆ USA     ┆ 40.97812 ┆ -124.10862 │\n",
       "│ ACY       ┆ Atlantic City              ┆ Atlantic City ┆ NJ    ┆ USA     ┆ 39.45758 ┆ -74.57717  │\n",
       "│           ┆ International Ai…          ┆               ┆       ┆         ┆          ┆            │\n",
       "│ ADK       ┆ Adak Airport               ┆ Adak          ┆ AK    ┆ USA     ┆ 51.87796 ┆ -176.64603 │\n",
       "└───────────┴────────────────────────────┴───────────────┴───────┴─────────┴──────────┴────────────┘"
      ]
     },
     "execution_count": 9,
     "metadata": {},
     "output_type": "execute_result"
    }
   ],
   "source": [
    "airports_df.head(10)"
   ]
  },
  {
   "cell_type": "code",
   "execution_count": 10,
   "id": "3193fcae",
   "metadata": {},
   "outputs": [
    {
     "data": {
      "text/html": [
       "<div><style>\n",
       ".dataframe > thead > tr,\n",
       ".dataframe > tbody > tr {\n",
       "  text-align: right;\n",
       "  white-space: pre-wrap;\n",
       "}\n",
       "</style>\n",
       "<small>shape: (2, 1)</small><table border=\"1\" class=\"dataframe\"><thead><tr><th>CANCELLED</th></tr><tr><td>i64</td></tr></thead><tbody><tr><td>0</td></tr><tr><td>1</td></tr></tbody></table></div>"
      ],
      "text/plain": [
       "shape: (2, 1)\n",
       "┌───────────┐\n",
       "│ CANCELLED │\n",
       "│ ---       │\n",
       "│ i64       │\n",
       "╞═══════════╡\n",
       "│ 0         │\n",
       "│ 1         │\n",
       "└───────────┘"
      ]
     },
     "execution_count": 10,
     "metadata": {},
     "output_type": "execute_result"
    }
   ],
   "source": [
    "cancelled_uniques = flights.select(\n",
    "    pl.col('CANCELLED').unique()\n",
    ").collect()\n",
    "cancelled_uniques"
   ]
  },
  {
   "cell_type": "code",
   "execution_count": 11,
   "id": "d2228704",
   "metadata": {},
   "outputs": [
    {
     "data": {
      "text/html": [
       "<div><style>\n",
       ".dataframe > thead > tr,\n",
       ".dataframe > tbody > tr {\n",
       "  text-align: right;\n",
       "  white-space: pre-wrap;\n",
       "}\n",
       "</style>\n",
       "<small>shape: (2, 1)</small><table border=\"1\" class=\"dataframe\"><thead><tr><th>CANCELLED</th></tr><tr><td>u32</td></tr></thead><tbody><tr><td>5729195</td></tr><tr><td>89884</td></tr></tbody></table></div>"
      ],
      "text/plain": [
       "shape: (2, 1)\n",
       "┌───────────┐\n",
       "│ CANCELLED │\n",
       "│ ---       │\n",
       "│ u32       │\n",
       "╞═══════════╡\n",
       "│ 5729195   │\n",
       "│ 89884     │\n",
       "└───────────┘"
      ]
     },
     "execution_count": 11,
     "metadata": {},
     "output_type": "execute_result"
    }
   ],
   "source": [
    "cancelled_uniques_counts = flights.select(\n",
    "    pl.col('CANCELLED').unique_counts()\n",
    ").collect()\n",
    "cancelled_uniques_counts"
   ]
  },
  {
   "cell_type": "code",
   "execution_count": 12,
   "id": "735781e4",
   "metadata": {},
   "outputs": [
    {
     "data": {
      "text/html": [
       "<div><style>\n",
       ".dataframe > thead > tr,\n",
       ".dataframe > tbody > tr {\n",
       "  text-align: right;\n",
       "  white-space: pre-wrap;\n",
       "}\n",
       "</style>\n",
       "<small>shape: (2, 1)</small><table border=\"1\" class=\"dataframe\"><thead><tr><th>DIVERTED</th></tr><tr><td>u32</td></tr></thead><tbody><tr><td>5803892</td></tr><tr><td>15187</td></tr></tbody></table></div>"
      ],
      "text/plain": [
       "shape: (2, 1)\n",
       "┌──────────┐\n",
       "│ DIVERTED │\n",
       "│ ---      │\n",
       "│ u32      │\n",
       "╞══════════╡\n",
       "│ 5803892  │\n",
       "│ 15187    │\n",
       "└──────────┘"
      ]
     },
     "execution_count": 12,
     "metadata": {},
     "output_type": "execute_result"
    }
   ],
   "source": [
    "diverted_uniques_counts = flights.select(\n",
    "    pl.col('DIVERTED').unique_counts()\n",
    ").collect()\n",
    "diverted_uniques_counts"
   ]
  },
  {
   "cell_type": "code",
   "execution_count": 13,
   "id": "a7e0c728",
   "metadata": {},
   "outputs": [
    {
     "data": {
      "text/html": [
       "<div><style>\n",
       ".dataframe > thead > tr,\n",
       ".dataframe > tbody > tr {\n",
       "  text-align: right;\n",
       "  white-space: pre-wrap;\n",
       "}\n",
       "</style>\n",
       "<small>shape: (5, 1)</small><table border=\"1\" class=\"dataframe\"><thead><tr><th>CANCELLATION_REASON</th></tr><tr><td>str</td></tr></thead><tbody><tr><td>&quot;B&quot;</td></tr><tr><td>&quot;C&quot;</td></tr><tr><td>&quot;A&quot;</td></tr><tr><td>&quot;D&quot;</td></tr><tr><td>null</td></tr></tbody></table></div>"
      ],
      "text/plain": [
       "shape: (5, 1)\n",
       "┌─────────────────────┐\n",
       "│ CANCELLATION_REASON │\n",
       "│ ---                 │\n",
       "│ str                 │\n",
       "╞═════════════════════╡\n",
       "│ B                   │\n",
       "│ C                   │\n",
       "│ A                   │\n",
       "│ D                   │\n",
       "│ null                │\n",
       "└─────────────────────┘"
      ]
     },
     "execution_count": 13,
     "metadata": {},
     "output_type": "execute_result"
    }
   ],
   "source": [
    "cancelled_reasons_uniques = flights.select(\n",
    "    pl.col('CANCELLATION_REASON').unique()\n",
    ").collect()\n",
    "cancelled_reasons_uniques"
   ]
  },
  {
   "cell_type": "code",
   "execution_count": 14,
   "id": "42b76d06",
   "metadata": {},
   "outputs": [],
   "source": [
    "DELAY_COLS = [\"DEPARTURE_DELAY\", \"ARRIVAL_DELAY\"]\n",
    "DELAY_COMP_COLS = [\n",
    "    \"AIR_SYSTEM_DELAY\", \"SECURITY_DELAY\", \"AIRLINE_DELAY\",\n",
    "    \"LATE_AIRCRAFT_DELAY\", \"WEATHER_DELAY\"\n",
    "]\n",
    "TIME_COLS = [\n",
    "    \"DEPARTURE_TIME\", \"ARRIVAL_TIME\", \"AIR_TIME\",\n",
    "    \"WHEELS_OFF\", \"WHEELS_ON\", \"TAXI_IN\", \"TAXI_OUT\"\n",
    "]"
   ]
  },
  {
   "cell_type": "code",
   "execution_count": 15,
   "id": "8ea9a994",
   "metadata": {},
   "outputs": [],
   "source": [
    "def null_summary(lf: pl.LazyFrame, cols: list[str]) -> pl.DataFrame:\n",
    "    total = lf.select(\n",
    "        pl.len().alias(\"n\")\n",
    "        ).collect()[0, 0]\n",
    "    counts = lf.select(\n",
    "        [pl.col(c).is_null().sum().alias(c) for c in cols]\n",
    "        ).collect()\n",
    "    pct = counts.select([(pl.col(c) / total * 100).alias(f\"{c}_null_pct\") for c in cols])\n",
    "    return counts.hstack(pct)"
   ]
  },
  {
   "cell_type": "code",
   "execution_count": 16,
   "id": "83fa17ef",
   "metadata": {},
   "outputs": [],
   "source": [
    "flown = flights.filter(\n",
    "    pl.col('CANCELLED') == 0\n",
    ")"
   ]
  },
  {
   "cell_type": "code",
   "execution_count": 17,
   "id": "3e09fafe",
   "metadata": {},
   "outputs": [
    {
     "data": {
      "text/html": [
       "<div><style>\n",
       ".dataframe > thead > tr,\n",
       ".dataframe > tbody > tr {\n",
       "  text-align: right;\n",
       "  white-space: pre-wrap;\n",
       "}\n",
       "</style>\n",
       "<small>shape: (1, 1)</small><table border=\"1\" class=\"dataframe\"><thead><tr><th>n_flown</th></tr><tr><td>u32</td></tr></thead><tbody><tr><td>5729195</td></tr></tbody></table></div>"
      ],
      "text/plain": [
       "shape: (1, 1)\n",
       "┌─────────┐\n",
       "│ n_flown │\n",
       "│ ---     │\n",
       "│ u32     │\n",
       "╞═════════╡\n",
       "│ 5729195 │\n",
       "└─────────┘"
      ]
     },
     "execution_count": 17,
     "metadata": {},
     "output_type": "execute_result"
    }
   ],
   "source": [
    "flown_counts = flown.select(pl.len().alias(\"n_flown\")).collect()\n",
    "flown_counts\n"
   ]
  },
  {
   "cell_type": "code",
   "execution_count": 18,
   "id": "0c53d455",
   "metadata": {},
   "outputs": [
    {
     "data": {
      "text/html": [
       "<div><style>\n",
       ".dataframe > thead > tr,\n",
       ".dataframe > tbody > tr {\n",
       "  text-align: right;\n",
       "  white-space: pre-wrap;\n",
       "}\n",
       "</style>\n",
       "<small>shape: (1, 4)</small><table border=\"1\" class=\"dataframe\"><thead><tr><th>DEPARTURE_DELAY</th><th>ARRIVAL_DELAY</th><th>DEPARTURE_DELAY_null_pct</th><th>ARRIVAL_DELAY_null_pct</th></tr><tr><td>u32</td><td>u32</td><td>f64</td><td>f64</td></tr></thead><tbody><tr><td>0</td><td>15187</td><td>0.0</td><td>0.265081</td></tr></tbody></table></div>"
      ],
      "text/plain": [
       "shape: (1, 4)\n",
       "┌─────────────────┬───────────────┬──────────────────────────┬────────────────────────┐\n",
       "│ DEPARTURE_DELAY ┆ ARRIVAL_DELAY ┆ DEPARTURE_DELAY_null_pct ┆ ARRIVAL_DELAY_null_pct │\n",
       "│ ---             ┆ ---           ┆ ---                      ┆ ---                    │\n",
       "│ u32             ┆ u32           ┆ f64                      ┆ f64                    │\n",
       "╞═════════════════╪═══════════════╪══════════════════════════╪════════════════════════╡\n",
       "│ 0               ┆ 15187         ┆ 0.0                      ┆ 0.265081               │\n",
       "└─────────────────┴───────────────┴──────────────────────────┴────────────────────────┘"
      ]
     },
     "execution_count": 18,
     "metadata": {},
     "output_type": "execute_result"
    }
   ],
   "source": [
    "core_delay_nulls = null_summary(flown, DELAY_COLS)\n",
    "core_delay_nulls"
   ]
  },
  {
   "cell_type": "code",
   "execution_count": 19,
   "id": "e468fb3c",
   "metadata": {},
   "outputs": [
    {
     "name": "stdout",
     "output_type": "stream",
     "text": [
      "shape: (2, 2)\n",
      "┌──────────┬───────┐\n",
      "│ DIVERTED ┆ len   │\n",
      "│ ---      ┆ ---   │\n",
      "│ i64      ┆ u32   │\n",
      "╞══════════╪═══════╡\n",
      "│ 1        ┆ 15187 │\n",
      "│ 0        ┆ 89884 │\n",
      "└──────────┴───────┘\n"
     ]
    }
   ],
   "source": [
    "# Count how many null ARRIVAL_DELAY rows are cancelled/diverted\n",
    "null_analysis = flights.filter(pl.col(\"ARRIVAL_DELAY\").is_null()).group_by([\"DIVERTED\"]).len()\n",
    "\n",
    "print(null_analysis.collect())"
   ]
  },
  {
   "cell_type": "code",
   "execution_count": 20,
   "id": "55f195e6",
   "metadata": {},
   "outputs": [
    {
     "data": {
      "text/html": [
       "<div><style>\n",
       ".dataframe > thead > tr,\n",
       ".dataframe > tbody > tr {\n",
       "  text-align: right;\n",
       "  white-space: pre-wrap;\n",
       "}\n",
       "</style>\n",
       "<small>shape: (1, 2)</small><table border=\"1\" class=\"dataframe\"><thead><tr><th>DIVERTED</th><th>len</th></tr><tr><td>i64</td><td>u32</td></tr></thead><tbody><tr><td>1</td><td>15187</td></tr></tbody></table></div>"
      ],
      "text/plain": [
       "shape: (1, 2)\n",
       "┌──────────┬───────┐\n",
       "│ DIVERTED ┆ len   │\n",
       "│ ---      ┆ ---   │\n",
       "│ i64      ┆ u32   │\n",
       "╞══════════╪═══════╡\n",
       "│ 1        ┆ 15187 │\n",
       "└──────────┴───────┘"
      ]
     },
     "execution_count": 20,
     "metadata": {},
     "output_type": "execute_result"
    }
   ],
   "source": [
    "flights.filter(\n",
    "    pl.col(\"DIVERTED\") == 1\n",
    ").group_by([\"DIVERTED\"]).len().collect()"
   ]
  },
  {
   "cell_type": "code",
   "execution_count": 21,
   "id": "1629002a",
   "metadata": {},
   "outputs": [
    {
     "data": {
      "text/html": [
       "<div><style>\n",
       ".dataframe > thead > tr,\n",
       ".dataframe > tbody > tr {\n",
       "  text-align: right;\n",
       "  white-space: pre-wrap;\n",
       "}\n",
       "</style>\n",
       "<small>shape: (2, 4)</small><table border=\"1\" class=\"dataframe\"><thead><tr><th>ARRIVAL_DELAY_MISSING</th><th>cancel_rate</th><th>diverted_rate</th><th>row_count</th></tr><tr><td>bool</td><td>f64</td><td>f64</td><td>u32</td></tr></thead><tbody><tr><td>true</td><td>0.85546</td><td>0.14454</td><td>105071</td></tr><tr><td>false</td><td>0.0</td><td>0.0</td><td>5714008</td></tr></tbody></table></div>"
      ],
      "text/plain": [
       "shape: (2, 4)\n",
       "┌───────────────────────┬─────────────┬───────────────┬───────────┐\n",
       "│ ARRIVAL_DELAY_MISSING ┆ cancel_rate ┆ diverted_rate ┆ row_count │\n",
       "│ ---                   ┆ ---         ┆ ---           ┆ ---       │\n",
       "│ bool                  ┆ f64         ┆ f64           ┆ u32       │\n",
       "╞═══════════════════════╪═════════════╪═══════════════╪═══════════╡\n",
       "│ true                  ┆ 0.85546     ┆ 0.14454       ┆ 105071    │\n",
       "│ false                 ┆ 0.0         ┆ 0.0           ┆ 5714008   │\n",
       "└───────────────────────┴─────────────┴───────────────┴───────────┘"
      ]
     },
     "execution_count": 21,
     "metadata": {},
     "output_type": "execute_result"
    }
   ],
   "source": [
    "flights = flights.with_columns(\n",
    "    pl.col(\"ARRIVAL_DELAY\").is_null().alias(\"ARRIVAL_DELAY_MISSING\")\n",
    ")\n",
    "\n",
    "missing_summary = flights.group_by([\"ARRIVAL_DELAY_MISSING\"]).agg(\n",
    "    pl.col(\"CANCELLED\").mean().alias(\"cancel_rate\"),\n",
    "    pl.col(\"DIVERTED\").mean().alias(\"diverted_rate\"),\n",
    "    pl.len().alias(\"row_count\"),\n",
    ").collect()\n",
    "missing_summary"
   ]
  },
  {
   "cell_type": "code",
   "execution_count": 22,
   "id": "fd410c07",
   "metadata": {},
   "outputs": [
    {
     "data": {
      "text/html": [
       "<div><style>\n",
       ".dataframe > thead > tr,\n",
       ".dataframe > tbody > tr {\n",
       "  text-align: right;\n",
       "  white-space: pre-wrap;\n",
       "}\n",
       "</style>\n",
       "<small>shape: (1, 1)</small><table border=\"1\" class=\"dataframe\"><thead><tr><th>n_flown_not_diverted</th></tr><tr><td>u32</td></tr></thead><tbody><tr><td>5714008</td></tr></tbody></table></div>"
      ],
      "text/plain": [
       "shape: (1, 1)\n",
       "┌──────────────────────┐\n",
       "│ n_flown_not_diverted │\n",
       "│ ---                  │\n",
       "│ u32                  │\n",
       "╞══════════════════════╡\n",
       "│ 5714008              │\n",
       "└──────────────────────┘"
      ]
     },
     "execution_count": 22,
     "metadata": {},
     "output_type": "execute_result"
    }
   ],
   "source": [
    "flown_not_div = flown.filter(\n",
    "    pl.col(\"DIVERTED\") == 0,\n",
    ")\n",
    "flown_not_div_counts = flown_not_div.select(pl.len().alias(\"n_flown_not_diverted\")).collect()\n",
    "flown_not_div_counts"
   ]
  },
  {
   "cell_type": "code",
   "execution_count": 23,
   "id": "5ba0e186",
   "metadata": {},
   "outputs": [
    {
     "data": {
      "text/html": [
       "<div><style>\n",
       ".dataframe > thead > tr,\n",
       ".dataframe > tbody > tr {\n",
       "  text-align: right;\n",
       "  white-space: pre-wrap;\n",
       "}\n",
       "</style>\n",
       "<small>shape: (1, 4)</small><table border=\"1\" class=\"dataframe\"><thead><tr><th>DEPARTURE_DELAY</th><th>ARRIVAL_DELAY</th><th>DEPARTURE_DELAY_null_pct</th><th>ARRIVAL_DELAY_null_pct</th></tr><tr><td>u32</td><td>u32</td><td>f64</td><td>f64</td></tr></thead><tbody><tr><td>0</td><td>0</td><td>0.0</td><td>0.0</td></tr></tbody></table></div>"
      ],
      "text/plain": [
       "shape: (1, 4)\n",
       "┌─────────────────┬───────────────┬──────────────────────────┬────────────────────────┐\n",
       "│ DEPARTURE_DELAY ┆ ARRIVAL_DELAY ┆ DEPARTURE_DELAY_null_pct ┆ ARRIVAL_DELAY_null_pct │\n",
       "│ ---             ┆ ---           ┆ ---                      ┆ ---                    │\n",
       "│ u32             ┆ u32           ┆ f64                      ┆ f64                    │\n",
       "╞═════════════════╪═══════════════╪══════════════════════════╪════════════════════════╡\n",
       "│ 0               ┆ 0             ┆ 0.0                      ┆ 0.0                    │\n",
       "└─────────────────┴───────────────┴──────────────────────────┴────────────────────────┘"
      ]
     },
     "execution_count": 23,
     "metadata": {},
     "output_type": "execute_result"
    }
   ],
   "source": [
    "core_delay_nulls = null_summary(flown_not_div, DELAY_COLS)\n",
    "core_delay_nulls"
   ]
  },
  {
   "cell_type": "code",
   "execution_count": 24,
   "id": "6dcdfe88",
   "metadata": {},
   "outputs": [
    {
     "data": {
      "text/html": [
       "<div><style>\n",
       ".dataframe > thead > tr,\n",
       ".dataframe > tbody > tr {\n",
       "  text-align: right;\n",
       "  white-space: pre-wrap;\n",
       "}\n",
       "</style>\n",
       "<small>shape: (2, 6)</small><table border=\"1\" class=\"dataframe\"><thead><tr><th>is_delayed</th><th>AIR_SYSTEM_DELAY_nulls</th><th>SECURITY_DELAY_nulls</th><th>AIRLINE_DELAY_nulls</th><th>LATE_AIRCRAFT_DELAY_nulls</th><th>WEATHER_DELAY_nulls</th></tr><tr><td>bool</td><td>u32</td><td>u32</td><td>u32</td><td>u32</td><td>u32</td></tr></thead><tbody><tr><td>false</td><td>3627112</td><td>3627112</td><td>3627112</td><td>3627112</td><td>3627112</td></tr><tr><td>true</td><td>1023457</td><td>1023457</td><td>1023457</td><td>1023457</td><td>1023457</td></tr></tbody></table></div>"
      ],
      "text/plain": [
       "shape: (2, 6)\n",
       "┌────────────┬─────────────────┬────────────────┬────────────────┬────────────────┬────────────────┐\n",
       "│ is_delayed ┆ AIR_SYSTEM_DELA ┆ SECURITY_DELAY ┆ AIRLINE_DELAY_ ┆ LATE_AIRCRAFT_ ┆ WEATHER_DELAY_ │\n",
       "│ ---        ┆ Y_nulls         ┆ _nulls         ┆ nulls          ┆ DELAY_nulls    ┆ nulls          │\n",
       "│ bool       ┆ ---             ┆ ---            ┆ ---            ┆ ---            ┆ ---            │\n",
       "│            ┆ u32             ┆ u32            ┆ u32            ┆ u32            ┆ u32            │\n",
       "╞════════════╪═════════════════╪════════════════╪════════════════╪════════════════╪════════════════╡\n",
       "│ false      ┆ 3627112         ┆ 3627112        ┆ 3627112        ┆ 3627112        ┆ 3627112        │\n",
       "│ true       ┆ 1023457         ┆ 1023457        ┆ 1023457        ┆ 1023457        ┆ 1023457        │\n",
       "└────────────┴─────────────────┴────────────────┴────────────────┴────────────────┴────────────────┘"
      ]
     },
     "execution_count": 24,
     "metadata": {},
     "output_type": "execute_result"
    }
   ],
   "source": [
    "component_null_analysis = flown_not_div.with_columns(\n",
    "    (pl.col(\"ARRIVAL_DELAY\") > 0).alias(\"is_delayed\"),\n",
    ").group_by(\"is_delayed\").agg([\n",
    "     pl.col(c).is_null().sum().alias(f\"{c}_nulls\")\n",
    "        for c in DELAY_COMP_COLS\n",
    "]).collect()\n",
    "component_null_analysis"
   ]
  },
  {
   "cell_type": "code",
   "execution_count": 25,
   "id": "040ef200",
   "metadata": {},
   "outputs": [
    {
     "name": "stdout",
     "output_type": "stream",
     "text": [
      "shape: (2, 6)\n",
      "┌─────────┬─────────────────┬─────────────────┬─────────────────┬─────────────────┬────────────────┐\n",
      "│ delayed ┆ AIR_SYSTEM_DELA ┆ SECURITY_DELAY_ ┆ AIRLINE_DELAY_n ┆ LATE_AIRCRAFT_D ┆ WEATHER_DELAY_ │\n",
      "│ ---     ┆ Y_null_pct      ┆ null_pct        ┆ ull_pct         ┆ ELAY_null_pct   ┆ null_pct       │\n",
      "│ bool    ┆ ---             ┆ ---             ┆ ---             ┆ ---             ┆ ---            │\n",
      "│         ┆ f64             ┆ f64             ┆ f64             ┆ f64             ┆ f64            │\n",
      "╞═════════╪═════════════════╪═════════════════╪═════════════════╪═════════════════╪════════════════╡\n",
      "│ false   ┆ 100.0           ┆ 100.0           ┆ 100.0           ┆ 100.0           ┆ 100.0          │\n",
      "│ true    ┆ 49.04207        ┆ 49.04207        ┆ 49.04207        ┆ 49.04207        ┆ 49.04207       │\n",
      "└─────────┴─────────────────┴─────────────────┴─────────────────┴─────────────────┴────────────────┘\n"
     ]
    }
   ],
   "source": [
    "component_null_summary_pct = (\n",
    "    flown_not_div\n",
    "    .with_columns((pl.col(\"ARRIVAL_DELAY\") > 0).alias(\"delayed\"))\n",
    "    .group_by(\"delayed\")\n",
    "    .agg([\n",
    "        (pl.col(c).is_null().sum() / pl.len() * 100).alias(f\"{c}_null_pct\")\n",
    "        for c in DELAY_COMP_COLS\n",
    "    ])\n",
    ").collect()\n",
    "\n",
    "print(component_null_summary_pct)\n"
   ]
  },
  {
   "cell_type": "code",
   "execution_count": 26,
   "id": "163681f8",
   "metadata": {},
   "outputs": [
    {
     "name": "stdout",
     "output_type": "stream",
     "text": [
      "Number of delayed flights with no cause recorded: 1023457\n"
     ]
    },
    {
     "data": {
      "text/html": [
       "<div><style>\n",
       ".dataframe > thead > tr,\n",
       ".dataframe > tbody > tr {\n",
       "  text-align: right;\n",
       "  white-space: pre-wrap;\n",
       "}\n",
       "</style>\n",
       "<small>shape: (5, 31)</small><table border=\"1\" class=\"dataframe\"><thead><tr><th>YEAR</th><th>MONTH</th><th>DAY</th><th>DAY_OF_WEEK</th><th>AIRLINE</th><th>FLIGHT_NUMBER</th><th>TAIL_NUMBER</th><th>ORIGIN_AIRPORT</th><th>DESTINATION_AIRPORT</th><th>SCHEDULED_DEPARTURE</th><th>DEPARTURE_TIME</th><th>DEPARTURE_DELAY</th><th>TAXI_OUT</th><th>WHEELS_OFF</th><th>SCHEDULED_TIME</th><th>ELAPSED_TIME</th><th>AIR_TIME</th><th>DISTANCE</th><th>WHEELS_ON</th><th>TAXI_IN</th><th>SCHEDULED_ARRIVAL</th><th>ARRIVAL_TIME</th><th>ARRIVAL_DELAY</th><th>DIVERTED</th><th>CANCELLED</th><th>CANCELLATION_REASON</th><th>AIR_SYSTEM_DELAY</th><th>SECURITY_DELAY</th><th>AIRLINE_DELAY</th><th>LATE_AIRCRAFT_DELAY</th><th>WEATHER_DELAY</th></tr><tr><td>i64</td><td>i64</td><td>i64</td><td>i64</td><td>str</td><td>i64</td><td>str</td><td>str</td><td>str</td><td>i64</td><td>i64</td><td>i64</td><td>i64</td><td>i64</td><td>i64</td><td>i64</td><td>i64</td><td>i64</td><td>i64</td><td>i64</td><td>i64</td><td>i64</td><td>i64</td><td>i64</td><td>i64</td><td>str</td><td>i64</td><td>i64</td><td>i64</td><td>i64</td><td>i64</td></tr></thead><tbody><tr><td>2015</td><td>1</td><td>1</td><td>4</td><td>&quot;US&quot;</td><td>840</td><td>&quot;N171US&quot;</td><td>&quot;SFO&quot;</td><td>&quot;CLT&quot;</td><td>20</td><td>18</td><td>-2</td><td>16</td><td>34</td><td>286</td><td>293</td><td>266</td><td>2296</td><td>800</td><td>11</td><td>806</td><td>811</td><td>5</td><td>0</td><td>0</td><td>null</td><td>null</td><td>null</td><td>null</td><td>null</td><td>null</td></tr><tr><td>2015</td><td>1</td><td>1</td><td>4</td><td>&quot;DL&quot;</td><td>806</td><td>&quot;N3730B&quot;</td><td>&quot;SFO&quot;</td><td>&quot;MSP&quot;</td><td>25</td><td>20</td><td>-5</td><td>18</td><td>38</td><td>217</td><td>230</td><td>206</td><td>1589</td><td>604</td><td>6</td><td>602</td><td>610</td><td>8</td><td>0</td><td>0</td><td>null</td><td>null</td><td>null</td><td>null</td><td>null</td><td>null</td></tr><tr><td>2015</td><td>1</td><td>1</td><td>4</td><td>&quot;DL&quot;</td><td>2440</td><td>&quot;N651DL&quot;</td><td>&quot;SEA&quot;</td><td>&quot;MSP&quot;</td><td>40</td><td>39</td><td>-1</td><td>28</td><td>107</td><td>189</td><td>198</td><td>166</td><td>1399</td><td>553</td><td>4</td><td>549</td><td>557</td><td>8</td><td>0</td><td>0</td><td>null</td><td>null</td><td>null</td><td>null</td><td>null</td><td>null</td></tr><tr><td>2015</td><td>1</td><td>1</td><td>4</td><td>&quot;NK&quot;</td><td>520</td><td>&quot;N525NK&quot;</td><td>&quot;LAS&quot;</td><td>&quot;MCI&quot;</td><td>55</td><td>120</td><td>25</td><td>11</td><td>131</td><td>162</td><td>143</td><td>128</td><td>1139</td><td>539</td><td>4</td><td>537</td><td>543</td><td>6</td><td>0</td><td>0</td><td>null</td><td>null</td><td>null</td><td>null</td><td>null</td><td>null</td></tr><tr><td>2015</td><td>1</td><td>1</td><td>4</td><td>&quot;AA&quot;</td><td>371</td><td>&quot;N3GXAA&quot;</td><td>&quot;SEA&quot;</td><td>&quot;MIA&quot;</td><td>100</td><td>52</td><td>-8</td><td>30</td><td>122</td><td>338</td><td>347</td><td>311</td><td>2724</td><td>933</td><td>6</td><td>938</td><td>939</td><td>1</td><td>0</td><td>0</td><td>null</td><td>null</td><td>null</td><td>null</td><td>null</td><td>null</td></tr></tbody></table></div>"
      ],
      "text/plain": [
       "shape: (5, 31)\n",
       "┌──────┬───────┬─────┬─────────────┬───┬──────────────┬──────────────┬──────────────┬──────────────┐\n",
       "│ YEAR ┆ MONTH ┆ DAY ┆ DAY_OF_WEEK ┆ … ┆ SECURITY_DEL ┆ AIRLINE_DELA ┆ LATE_AIRCRAF ┆ WEATHER_DELA │\n",
       "│ ---  ┆ ---   ┆ --- ┆ ---         ┆   ┆ AY           ┆ Y            ┆ T_DELAY      ┆ Y            │\n",
       "│ i64  ┆ i64   ┆ i64 ┆ i64         ┆   ┆ ---          ┆ ---          ┆ ---          ┆ ---          │\n",
       "│      ┆       ┆     ┆             ┆   ┆ i64          ┆ i64          ┆ i64          ┆ i64          │\n",
       "╞══════╪═══════╪═════╪═════════════╪═══╪══════════════╪══════════════╪══════════════╪══════════════╡\n",
       "│ 2015 ┆ 1     ┆ 1   ┆ 4           ┆ … ┆ null         ┆ null         ┆ null         ┆ null         │\n",
       "│ 2015 ┆ 1     ┆ 1   ┆ 4           ┆ … ┆ null         ┆ null         ┆ null         ┆ null         │\n",
       "│ 2015 ┆ 1     ┆ 1   ┆ 4           ┆ … ┆ null         ┆ null         ┆ null         ┆ null         │\n",
       "│ 2015 ┆ 1     ┆ 1   ┆ 4           ┆ … ┆ null         ┆ null         ┆ null         ┆ null         │\n",
       "│ 2015 ┆ 1     ┆ 1   ┆ 4           ┆ … ┆ null         ┆ null         ┆ null         ┆ null         │\n",
       "└──────┴───────┴─────┴─────────────┴───┴──────────────┴──────────────┴──────────────┴──────────────┘"
      ]
     },
     "execution_count": 26,
     "metadata": {},
     "output_type": "execute_result"
    }
   ],
   "source": [
    "delayed_only = flown_not_div.filter(pl.col(\"ARRIVAL_DELAY\") > 0)\n",
    "no_reason = delayed_only.filter(\n",
    "    sum([(pl.col(c).fill_null(0) == 0) for c in DELAY_COMP_COLS]) == len(DELAY_COMP_COLS)\n",
    ").collect()\n",
    "print(\"Number of delayed flights with no cause recorded:\", no_reason.height)\n",
    "no_reason.head()"
   ]
  },
  {
   "cell_type": "code",
   "execution_count": 27,
   "id": "827634dc",
   "metadata": {},
   "outputs": [
    {
     "data": {
      "text/html": [
       "<div><style>\n",
       ".dataframe > thead > tr,\n",
       ".dataframe > tbody > tr {\n",
       "  text-align: right;\n",
       "  white-space: pre-wrap;\n",
       "}\n",
       "</style>\n",
       "<small>shape: (1, 1)</small><table border=\"1\" class=\"dataframe\"><thead><tr><th>WEATHER_DELAY</th></tr><tr><td>u32</td></tr></thead><tbody><tr><td>633</td></tr></tbody></table></div>"
      ],
      "text/plain": [
       "shape: (1, 1)\n",
       "┌───────────────┐\n",
       "│ WEATHER_DELAY │\n",
       "│ ---           │\n",
       "│ u32           │\n",
       "╞═══════════════╡\n",
       "│ 633           │\n",
       "└───────────────┘"
      ]
     },
     "execution_count": 27,
     "metadata": {},
     "output_type": "execute_result"
    }
   ],
   "source": [
    "flown_not_div.select(\n",
    "    pl.col(\"WEATHER_DELAY\").n_unique()\n",
    ").collect()"
   ]
  },
  {
   "cell_type": "code",
   "execution_count": 28,
   "id": "ab2d2b88",
   "metadata": {},
   "outputs": [
    {
     "data": {
      "text/html": [
       "<div><style>\n",
       ".dataframe > thead > tr,\n",
       ".dataframe > tbody > tr {\n",
       "  text-align: right;\n",
       "  white-space: pre-wrap;\n",
       "}\n",
       "</style>\n",
       "<small>shape: (1_063_439, 2)</small><table border=\"1\" class=\"dataframe\"><thead><tr><th>ARRIVAL_DELAY</th><th>WEATHER_DELAY</th></tr><tr><td>i64</td><td>i64</td></tr></thead><tbody><tr><td>25</td><td>0</td></tr><tr><td>43</td><td>0</td></tr><tr><td>15</td><td>0</td></tr><tr><td>20</td><td>0</td></tr><tr><td>85</td><td>0</td></tr><tr><td>&hellip;</td><td>&hellip;</td></tr><tr><td>20</td><td>0</td></tr><tr><td>28</td><td>0</td></tr><tr><td>28</td><td>0</td></tr><tr><td>159</td><td>0</td></tr><tr><td>17</td><td>0</td></tr></tbody></table></div>"
      ],
      "text/plain": [
       "shape: (1_063_439, 2)\n",
       "┌───────────────┬───────────────┐\n",
       "│ ARRIVAL_DELAY ┆ WEATHER_DELAY │\n",
       "│ ---           ┆ ---           │\n",
       "│ i64           ┆ i64           │\n",
       "╞═══════════════╪═══════════════╡\n",
       "│ 25            ┆ 0             │\n",
       "│ 43            ┆ 0             │\n",
       "│ 15            ┆ 0             │\n",
       "│ 20            ┆ 0             │\n",
       "│ 85            ┆ 0             │\n",
       "│ …             ┆ …             │\n",
       "│ 20            ┆ 0             │\n",
       "│ 28            ┆ 0             │\n",
       "│ 28            ┆ 0             │\n",
       "│ 159           ┆ 0             │\n",
       "│ 17            ┆ 0             │\n",
       "└───────────────┴───────────────┘"
      ]
     },
     "execution_count": 28,
     "metadata": {},
     "output_type": "execute_result"
    }
   ],
   "source": [
    "flown_not_div.filter(\n",
    "    pl.col(\"WEATHER_DELAY\").is_not_null(),\n",
    ").collect()[\"ARRIVAL_DELAY\", \"WEATHER_DELAY\"]"
   ]
  },
  {
   "cell_type": "code",
   "execution_count": 29,
   "id": "83059cf7",
   "metadata": {},
   "outputs": [
    {
     "name": "stdout",
     "output_type": "stream",
     "text": [
      "Consistency check:\n",
      "shape: (1, 6)\n",
      "┌────────────────┬────────────────┬────────────────┬───────────────┬───────────────┬───────────────┐\n",
      "│ pct_equal_arr_ ┆ pct_less_arr_d ┆ pct_more_arr_d ┆ pct_equal_dep ┆ pct_less_dep_ ┆ pct_more_dep_ │\n",
      "│ delay          ┆ elay           ┆ elay           ┆ _delay        ┆ delay         ┆ delay         │\n",
      "│ ---            ┆ ---            ┆ ---            ┆ ---           ┆ ---           ┆ ---           │\n",
      "│ f64            ┆ f64            ┆ f64            ┆ f64           ┆ f64           ┆ f64           │\n",
      "╞════════════════╪════════════════╪════════════════╪═══════════════╪═══════════════╪═══════════════╡\n",
      "│ 0.208199       ┆ 0.179114       ┆ 0.612687       ┆ 0.059436      ┆ 0.293697      ┆ 0.646867      │\n",
      "└────────────────┴────────────────┴────────────────┴───────────────┴───────────────┴───────────────┘\n",
      "Distribution stats for components:\n",
      "shape: (9, 6)\n",
      "┌────────────┬──────────────────┬────────────────┬───────────────┬─────────────────┬───────────────┐\n",
      "│ statistic  ┆ AIR_SYSTEM_DELAY ┆ SECURITY_DELAY ┆ AIRLINE_DELAY ┆ LATE_AIRCRAFT_D ┆ WEATHER_DELAY │\n",
      "│ ---        ┆ ---              ┆ ---            ┆ ---           ┆ ELAY            ┆ ---           │\n",
      "│ str        ┆ f64              ┆ f64            ┆ f64           ┆ ---             ┆ f64           │\n",
      "│            ┆                  ┆                ┆               ┆ f64             ┆               │\n",
      "╞════════════╪══════════════════╪════════════════╪═══════════════╪═════════════════╪═══════════════╡\n",
      "│ count      ┆ 1.063439e6       ┆ 1.063439e6     ┆ 1.063439e6    ┆ 1.063439e6      ┆ 1.063439e6    │\n",
      "│ null_count ┆ 4.650569e6       ┆ 4.650569e6     ┆ 4.650569e6    ┆ 4.650569e6      ┆ 4.650569e6    │\n",
      "│ mean       ┆ 13.480568        ┆ 0.076154       ┆ 18.969547     ┆ 23.472838       ┆ 2.91529       │\n",
      "│ std        ┆ 28.003679        ┆ 2.14346        ┆ 48.161642     ┆ 43.197018       ┆ 20.433336     │\n",
      "│ min        ┆ 0.0              ┆ 0.0            ┆ 0.0           ┆ 0.0             ┆ 0.0           │\n",
      "│ 25%        ┆ 0.0              ┆ 0.0            ┆ 0.0           ┆ 0.0             ┆ 0.0           │\n",
      "│ 50%        ┆ 2.0              ┆ 0.0            ┆ 2.0           ┆ 3.0             ┆ 0.0           │\n",
      "│ 75%        ┆ 18.0             ┆ 0.0            ┆ 19.0          ┆ 29.0            ┆ 0.0           │\n",
      "│ max        ┆ 1134.0           ┆ 573.0          ┆ 1971.0        ┆ 1331.0          ┆ 1211.0        │\n",
      "└────────────┴──────────────────┴────────────────┴───────────────┴─────────────────┴───────────────┘\n",
      "Correlations:\n",
      "shape: (1, 10)\n",
      "┌───────────┬───────────┬───────────┬───────────┬───┬───────────┬───────────┬───────────┬──────────┐\n",
      "│ AIR_SYSTE ┆ AIR_SYSTE ┆ SECURITY_ ┆ SECURITY_ ┆ … ┆ LATE_AIRC ┆ LATE_AIRC ┆ WEATHER_D ┆ WEATHER_ │\n",
      "│ M_DELAY_c ┆ M_DELAY_c ┆ DELAY_cor ┆ DELAY_cor ┆   ┆ RAFT_DELA ┆ RAFT_DELA ┆ ELAY_corr ┆ DELAY_co │\n",
      "│ orr_arr   ┆ orr_dep   ┆ r_arr     ┆ r_dep     ┆   ┆ Y_corr_ar ┆ Y_corr_de ┆ _arr      ┆ rr_dep   │\n",
      "│ ---       ┆ ---       ┆ ---       ┆ ---       ┆   ┆ r         ┆ p         ┆ ---       ┆ ---      │\n",
      "│ f64       ┆ f64       ┆ f64       ┆ f64       ┆   ┆ ---       ┆ ---       ┆ f64       ┆ f64      │\n",
      "│           ┆           ┆           ┆           ┆   ┆ f64       ┆ f64       ┆           ┆          │\n",
      "╞═══════════╪═══════════╪═══════════╪═══════════╪═══╪═══════════╪═══════════╪═══════════╪══════════╡\n",
      "│ 0.247187  ┆ 0.095917  ┆ 0.009655  ┆ 0.011877  ┆ … ┆ 0.522013  ┆ 0.554802  ┆ 0.264799  ┆ 0.243532 │\n",
      "└───────────┴───────────┴───────────┴───────────┴───┴───────────┴───────────┴───────────┴──────────┘\n",
      "Columns with any positive contribution:\n",
      "shape: (1, 5)\n",
      "┌───────────────────┬───────────────────┬───────────────────┬───────────────────┬──────────────────┐\n",
      "│ AIR_SYSTEM_DELAY_ ┆ SECURITY_DELAY_ha ┆ AIRLINE_DELAY_has ┆ LATE_AIRCRAFT_DEL ┆ WEATHER_DELAY_ha │\n",
      "│ has_contrib       ┆ s_contrib         ┆ _contrib          ┆ AY_has_contri…    ┆ s_contrib        │\n",
      "│ ---               ┆ ---               ┆ ---               ┆ ---               ┆ ---              │\n",
      "│ bool              ┆ bool              ┆ bool              ┆ bool              ┆ bool             │\n",
      "╞═══════════════════╪═══════════════════╪═══════════════════╪═══════════════════╪══════════════════╡\n",
      "│ true              ┆ true              ┆ true              ┆ true              ┆ true             │\n",
      "└───────────────────┴───────────────────┴───────────────────┴───────────────────┴──────────────────┘\n"
     ]
    }
   ],
   "source": [
    "df = flown_not_div.with_columns(\n",
    "    pl.sum_horizontal([pl.col(c).fill_null(0) for c in DELAY_COMP_COLS]).alias(\"COMP_SUM\")\n",
    ").collect()\n",
    "\n",
    "# 2. Check equality vs less-than vs greater-than\n",
    "consistency = df.select([\n",
    "    (pl.col(\"COMP_SUM\") == pl.col(\"ARRIVAL_DELAY\")).mean().alias(\"pct_equal_arr_delay\"),\n",
    "    (pl.col(\"COMP_SUM\") < pl.col(\"ARRIVAL_DELAY\")).mean().alias(\"pct_less_arr_delay\"),\n",
    "    (pl.col(\"COMP_SUM\") > pl.col(\"ARRIVAL_DELAY\")).mean().alias(\"pct_more_arr_delay\"),\n",
    "\n",
    "    (pl.col(\"COMP_SUM\") == pl.col(\"DEPARTURE_DELAY\")).mean().alias(\"pct_equal_dep_delay\"),\n",
    "    (pl.col(\"COMP_SUM\") < pl.col(\"DEPARTURE_DELAY\")).mean().alias(\"pct_less_dep_delay\"),\n",
    "    (pl.col(\"COMP_SUM\") > pl.col(\"DEPARTURE_DELAY\")).mean().alias(\"pct_more_dep_delay\"),\n",
    "])\n",
    "print(\"Consistency check:\")\n",
    "print(consistency)\n",
    "\n",
    "# 3. Distributions of each component\n",
    "dist_stats = df.select([\n",
    "    pl.col(c) for c in DELAY_COMP_COLS\n",
    "]).describe()\n",
    "print(\"Distribution stats for components:\")\n",
    "print(dist_stats)\n",
    "\n",
    "# 4. Correlations of components with arrival/departure delay\n",
    "corr_exprs = []\n",
    "for c in DELAY_COMP_COLS:\n",
    "    corr_exprs.append(pl.corr(c, \"ARRIVAL_DELAY\").alias(f\"{c}_corr_arr\"))\n",
    "    corr_exprs.append(pl.corr(c, \"DEPARTURE_DELAY\").alias(f\"{c}_corr_dep\"))\n",
    "\n",
    "correlations = df.select(corr_exprs)\n",
    "print(\"Correlations:\")\n",
    "print(correlations)\n",
    "\n",
    "# 5. Columns that never contribute (all null or zero)\n",
    "contrib_check = df.select([\n",
    "    ((pl.col(c).fill_null(0) > 0).any()).alias(f\"{c}_has_contrib\")\n",
    "    for c in DELAY_COMP_COLS\n",
    "])\n",
    "print(\"Columns with any positive contribution:\")\n",
    "print(contrib_check)"
   ]
  },
  {
   "cell_type": "code",
   "execution_count": 30,
   "id": "8b1c5857",
   "metadata": {},
   "outputs": [
    {
     "data": {
      "text/html": [
       "<div><style>\n",
       ".dataframe > thead > tr,\n",
       ".dataframe > tbody > tr {\n",
       "  text-align: right;\n",
       "  white-space: pre-wrap;\n",
       "}\n",
       "</style>\n",
       "<small>shape: (1, 10)</small><table border=\"1\" class=\"dataframe\"><thead><tr><th>AIR_SYSTEM_DELAY_corr_arr</th><th>AIR_SYSTEM_DELAY_corr_dep</th><th>SECURITY_DELAY_corr_arr</th><th>SECURITY_DELAY_corr_dep</th><th>AIRLINE_DELAY_corr_arr</th><th>AIRLINE_DELAY_corr_dep</th><th>LATE_AIRCRAFT_DELAY_corr_arr</th><th>LATE_AIRCRAFT_DELAY_corr_dep</th><th>WEATHER_DELAY_corr_arr</th><th>WEATHER_DELAY_corr_dep</th></tr><tr><td>f64</td><td>f64</td><td>f64</td><td>f64</td><td>f64</td><td>f64</td><td>f64</td><td>f64</td><td>f64</td><td>f64</td></tr></thead><tbody><tr><td>0.247187</td><td>0.095917</td><td>0.009655</td><td>0.011877</td><td>0.609351</td><td>0.621296</td><td>0.522013</td><td>0.554802</td><td>0.264799</td><td>0.243532</td></tr></tbody></table></div>"
      ],
      "text/plain": [
       "shape: (1, 10)\n",
       "┌───────────┬───────────┬───────────┬───────────┬───┬───────────┬───────────┬───────────┬──────────┐\n",
       "│ AIR_SYSTE ┆ AIR_SYSTE ┆ SECURITY_ ┆ SECURITY_ ┆ … ┆ LATE_AIRC ┆ LATE_AIRC ┆ WEATHER_D ┆ WEATHER_ │\n",
       "│ M_DELAY_c ┆ M_DELAY_c ┆ DELAY_cor ┆ DELAY_cor ┆   ┆ RAFT_DELA ┆ RAFT_DELA ┆ ELAY_corr ┆ DELAY_co │\n",
       "│ orr_arr   ┆ orr_dep   ┆ r_arr     ┆ r_dep     ┆   ┆ Y_corr_ar ┆ Y_corr_de ┆ _arr      ┆ rr_dep   │\n",
       "│ ---       ┆ ---       ┆ ---       ┆ ---       ┆   ┆ r         ┆ p         ┆ ---       ┆ ---      │\n",
       "│ f64       ┆ f64       ┆ f64       ┆ f64       ┆   ┆ ---       ┆ ---       ┆ f64       ┆ f64      │\n",
       "│           ┆           ┆           ┆           ┆   ┆ f64       ┆ f64       ┆           ┆          │\n",
       "╞═══════════╪═══════════╪═══════════╪═══════════╪═══╪═══════════╪═══════════╪═══════════╪══════════╡\n",
       "│ 0.247187  ┆ 0.095917  ┆ 0.009655  ┆ 0.011877  ┆ … ┆ 0.522013  ┆ 0.554802  ┆ 0.264799  ┆ 0.243532 │\n",
       "└───────────┴───────────┴───────────┴───────────┴───┴───────────┴───────────┴───────────┴──────────┘"
      ]
     },
     "execution_count": 30,
     "metadata": {},
     "output_type": "execute_result"
    }
   ],
   "source": [
    "correlations"
   ]
  },
  {
   "cell_type": "code",
   "execution_count": 31,
   "id": "f9a71fdb",
   "metadata": {},
   "outputs": [
    {
     "data": {
      "text/html": [
       "<div><style>\n",
       ".dataframe > thead > tr,\n",
       ".dataframe > tbody > tr {\n",
       "  text-align: right;\n",
       "  white-space: pre-wrap;\n",
       "}\n",
       "</style>\n",
       "<small>shape: (1, 5)</small><table border=\"1\" class=\"dataframe\"><thead><tr><th>AIR_SYSTEM_DELAY_nulls</th><th>SECURITY_DELAY_nulls</th><th>AIRLINE_DELAY_nulls</th><th>LATE_AIRCRAFT_DELAY_nulls</th><th>WEATHER_DELAY_nulls</th></tr><tr><td>u32</td><td>u32</td><td>u32</td><td>u32</td><td>u32</td></tr></thead><tbody><tr><td>0</td><td>0</td><td>0</td><td>0</td><td>0</td></tr></tbody></table></div>"
      ],
      "text/plain": [
       "shape: (1, 5)\n",
       "┌───────────────────┬───────────────────┬───────────────────┬───────────────────┬──────────────────┐\n",
       "│ AIR_SYSTEM_DELAY_ ┆ SECURITY_DELAY_nu ┆ AIRLINE_DELAY_nul ┆ LATE_AIRCRAFT_DEL ┆ WEATHER_DELAY_nu │\n",
       "│ nulls             ┆ lls               ┆ ls                ┆ AY_nulls          ┆ lls              │\n",
       "│ ---               ┆ ---               ┆ ---               ┆ ---               ┆ ---              │\n",
       "│ u32               ┆ u32               ┆ u32               ┆ u32               ┆ u32              │\n",
       "╞═══════════════════╪═══════════════════╪═══════════════════╪═══════════════════╪══════════════════╡\n",
       "│ 0                 ┆ 0                 ┆ 0                 ┆ 0                 ┆ 0                │\n",
       "└───────────────────┴───────────────────┴───────────────────┴───────────────────┴──────────────────┘"
      ]
     },
     "execution_count": 31,
     "metadata": {},
     "output_type": "execute_result"
    }
   ],
   "source": [
    "flights_clean = flown_not_div.with_columns(\n",
    "    [pl.col(c).fill_null(0).alias(c) for c in DELAY_COMP_COLS]\n",
    ")\n",
    "\n",
    "# ✅ Verify that nulls are gone\n",
    "flights_clean.select(\n",
    "    [pl.col(c).is_null().sum().alias(f\"{c}_nulls\") for c in DELAY_COMP_COLS]\n",
    ").collect()"
   ]
  },
  {
   "cell_type": "code",
   "execution_count": 32,
   "id": "b55b75e4",
   "metadata": {},
   "outputs": [
    {
     "data": {
      "text/html": [
       "<div><style>\n",
       ".dataframe > thead > tr,\n",
       ".dataframe > tbody > tr {\n",
       "  text-align: right;\n",
       "  white-space: pre-wrap;\n",
       "}\n",
       "</style>\n",
       "<small>shape: (1, 14)</small><table border=\"1\" class=\"dataframe\"><thead><tr><th>DEPARTURE_TIME</th><th>ARRIVAL_TIME</th><th>AIR_TIME</th><th>WHEELS_OFF</th><th>WHEELS_ON</th><th>TAXI_IN</th><th>TAXI_OUT</th><th>DEPARTURE_TIME_null_pct</th><th>ARRIVAL_TIME_null_pct</th><th>AIR_TIME_null_pct</th><th>WHEELS_OFF_null_pct</th><th>WHEELS_ON_null_pct</th><th>TAXI_IN_null_pct</th><th>TAXI_OUT_null_pct</th></tr><tr><td>u32</td><td>u32</td><td>u32</td><td>u32</td><td>u32</td><td>u32</td><td>u32</td><td>f64</td><td>f64</td><td>f64</td><td>f64</td><td>f64</td><td>f64</td><td>f64</td></tr></thead><tbody><tr><td>0</td><td>0</td><td>0</td><td>0</td><td>0</td><td>0</td><td>0</td><td>0.0</td><td>0.0</td><td>0.0</td><td>0.0</td><td>0.0</td><td>0.0</td><td>0.0</td></tr></tbody></table></div>"
      ],
      "text/plain": [
       "shape: (1, 14)\n",
       "┌───────────┬───────────┬──────────┬───────────┬───┬───────────┬───────────┬───────────┬───────────┐\n",
       "│ DEPARTURE ┆ ARRIVAL_T ┆ AIR_TIME ┆ WHEELS_OF ┆ … ┆ WHEELS_OF ┆ WHEELS_ON ┆ TAXI_IN_n ┆ TAXI_OUT_ │\n",
       "│ _TIME     ┆ IME       ┆ ---      ┆ F         ┆   ┆ F_null_pc ┆ _null_pct ┆ ull_pct   ┆ null_pct  │\n",
       "│ ---       ┆ ---       ┆ u32      ┆ ---       ┆   ┆ t         ┆ ---       ┆ ---       ┆ ---       │\n",
       "│ u32       ┆ u32       ┆          ┆ u32       ┆   ┆ ---       ┆ f64       ┆ f64       ┆ f64       │\n",
       "│           ┆           ┆          ┆           ┆   ┆ f64       ┆           ┆           ┆           │\n",
       "╞═══════════╪═══════════╪══════════╪═══════════╪═══╪═══════════╪═══════════╪═══════════╪═══════════╡\n",
       "│ 0         ┆ 0         ┆ 0        ┆ 0         ┆ … ┆ 0.0       ┆ 0.0       ┆ 0.0       ┆ 0.0       │\n",
       "└───────────┴───────────┴──────────┴───────────┴───┴───────────┴───────────┴───────────┴───────────┘"
      ]
     },
     "execution_count": 32,
     "metadata": {},
     "output_type": "execute_result"
    }
   ],
   "source": [
    "null_summary(flights_clean, TIME_COLS)"
   ]
  },
  {
   "cell_type": "code",
   "execution_count": 33,
   "id": "294073e6",
   "metadata": {},
   "outputs": [
    {
     "data": {
      "text/html": [
       "<div><style>\n",
       ".dataframe > thead > tr,\n",
       ".dataframe > tbody > tr {\n",
       "  text-align: right;\n",
       "  white-space: pre-wrap;\n",
       "}\n",
       "</style>\n",
       "<small>shape: (1, 31)</small><table border=\"1\" class=\"dataframe\"><thead><tr><th>YEAR</th><th>MONTH</th><th>DAY</th><th>DAY_OF_WEEK</th><th>AIRLINE</th><th>FLIGHT_NUMBER</th><th>TAIL_NUMBER</th><th>ORIGIN_AIRPORT</th><th>DESTINATION_AIRPORT</th><th>SCHEDULED_DEPARTURE</th><th>DEPARTURE_TIME</th><th>DEPARTURE_DELAY</th><th>TAXI_OUT</th><th>WHEELS_OFF</th><th>SCHEDULED_TIME</th><th>ELAPSED_TIME</th><th>AIR_TIME</th><th>DISTANCE</th><th>WHEELS_ON</th><th>TAXI_IN</th><th>SCHEDULED_ARRIVAL</th><th>ARRIVAL_TIME</th><th>ARRIVAL_DELAY</th><th>DIVERTED</th><th>CANCELLED</th><th>CANCELLATION_REASON</th><th>AIR_SYSTEM_DELAY</th><th>SECURITY_DELAY</th><th>AIRLINE_DELAY</th><th>LATE_AIRCRAFT_DELAY</th><th>WEATHER_DELAY</th></tr><tr><td>u32</td><td>u32</td><td>u32</td><td>u32</td><td>u32</td><td>u32</td><td>u32</td><td>u32</td><td>u32</td><td>u32</td><td>u32</td><td>u32</td><td>u32</td><td>u32</td><td>u32</td><td>u32</td><td>u32</td><td>u32</td><td>u32</td><td>u32</td><td>u32</td><td>u32</td><td>u32</td><td>u32</td><td>u32</td><td>u32</td><td>u32</td><td>u32</td><td>u32</td><td>u32</td><td>u32</td></tr></thead><tbody><tr><td>0</td><td>0</td><td>0</td><td>0</td><td>0</td><td>0</td><td>0</td><td>0</td><td>0</td><td>0</td><td>0</td><td>0</td><td>0</td><td>0</td><td>0</td><td>0</td><td>0</td><td>0</td><td>0</td><td>0</td><td>0</td><td>0</td><td>0</td><td>0</td><td>0</td><td>5714008</td><td>0</td><td>0</td><td>0</td><td>0</td><td>0</td></tr></tbody></table></div>"
      ],
      "text/plain": [
       "shape: (1, 31)\n",
       "┌──────┬───────┬─────┬─────────────┬───┬──────────────┬──────────────┬──────────────┬──────────────┐\n",
       "│ YEAR ┆ MONTH ┆ DAY ┆ DAY_OF_WEEK ┆ … ┆ SECURITY_DEL ┆ AIRLINE_DELA ┆ LATE_AIRCRAF ┆ WEATHER_DELA │\n",
       "│ ---  ┆ ---   ┆ --- ┆ ---         ┆   ┆ AY           ┆ Y            ┆ T_DELAY      ┆ Y            │\n",
       "│ u32  ┆ u32   ┆ u32 ┆ u32         ┆   ┆ ---          ┆ ---          ┆ ---          ┆ ---          │\n",
       "│      ┆       ┆     ┆             ┆   ┆ u32          ┆ u32          ┆ u32          ┆ u32          │\n",
       "╞══════╪═══════╪═════╪═════════════╪═══╪══════════════╪══════════════╪══════════════╪══════════════╡\n",
       "│ 0    ┆ 0     ┆ 0   ┆ 0           ┆ … ┆ 0            ┆ 0            ┆ 0            ┆ 0            │\n",
       "└──────┴───────┴─────┴─────────────┴───┴──────────────┴──────────────┴──────────────┴──────────────┘"
      ]
     },
     "execution_count": 33,
     "metadata": {},
     "output_type": "execute_result"
    }
   ],
   "source": [
    "flights_clean.null_count().collect()"
   ]
  },
  {
   "cell_type": "code",
   "execution_count": 34,
   "id": "26005951",
   "metadata": {},
   "outputs": [
    {
     "data": {
      "text/html": [
       "<div><style>\n",
       ".dataframe > thead > tr,\n",
       ".dataframe > tbody > tr {\n",
       "  text-align: right;\n",
       "  white-space: pre-wrap;\n",
       "}\n",
       "</style>\n",
       "<small>shape: (5, 28)</small><table border=\"1\" class=\"dataframe\"><thead><tr><th>YEAR</th><th>MONTH</th><th>DAY</th><th>DAY_OF_WEEK</th><th>AIRLINE</th><th>FLIGHT_NUMBER</th><th>TAIL_NUMBER</th><th>ORIGIN_AIRPORT</th><th>DESTINATION_AIRPORT</th><th>SCHEDULED_DEPARTURE</th><th>DEPARTURE_TIME</th><th>DEPARTURE_DELAY</th><th>TAXI_OUT</th><th>WHEELS_OFF</th><th>SCHEDULED_TIME</th><th>ELAPSED_TIME</th><th>AIR_TIME</th><th>DISTANCE</th><th>WHEELS_ON</th><th>TAXI_IN</th><th>SCHEDULED_ARRIVAL</th><th>ARRIVAL_TIME</th><th>ARRIVAL_DELAY</th><th>AIR_SYSTEM_DELAY</th><th>SECURITY_DELAY</th><th>AIRLINE_DELAY</th><th>LATE_AIRCRAFT_DELAY</th><th>WEATHER_DELAY</th></tr><tr><td>i64</td><td>i64</td><td>i64</td><td>i64</td><td>str</td><td>i64</td><td>str</td><td>str</td><td>str</td><td>i64</td><td>i64</td><td>i64</td><td>i64</td><td>i64</td><td>i64</td><td>i64</td><td>i64</td><td>i64</td><td>i64</td><td>i64</td><td>i64</td><td>i64</td><td>i64</td><td>i64</td><td>i64</td><td>i64</td><td>i64</td><td>i64</td></tr></thead><tbody><tr><td>2015</td><td>1</td><td>1</td><td>4</td><td>&quot;AS&quot;</td><td>98</td><td>&quot;N407AS&quot;</td><td>&quot;ANC&quot;</td><td>&quot;SEA&quot;</td><td>5</td><td>2354</td><td>-11</td><td>21</td><td>15</td><td>205</td><td>194</td><td>169</td><td>1448</td><td>404</td><td>4</td><td>430</td><td>408</td><td>-22</td><td>0</td><td>0</td><td>0</td><td>0</td><td>0</td></tr><tr><td>2015</td><td>1</td><td>1</td><td>4</td><td>&quot;AA&quot;</td><td>2336</td><td>&quot;N3KUAA&quot;</td><td>&quot;LAX&quot;</td><td>&quot;PBI&quot;</td><td>10</td><td>2</td><td>-8</td><td>12</td><td>14</td><td>280</td><td>279</td><td>263</td><td>2330</td><td>737</td><td>4</td><td>750</td><td>741</td><td>-9</td><td>0</td><td>0</td><td>0</td><td>0</td><td>0</td></tr><tr><td>2015</td><td>1</td><td>1</td><td>4</td><td>&quot;US&quot;</td><td>840</td><td>&quot;N171US&quot;</td><td>&quot;SFO&quot;</td><td>&quot;CLT&quot;</td><td>20</td><td>18</td><td>-2</td><td>16</td><td>34</td><td>286</td><td>293</td><td>266</td><td>2296</td><td>800</td><td>11</td><td>806</td><td>811</td><td>5</td><td>0</td><td>0</td><td>0</td><td>0</td><td>0</td></tr><tr><td>2015</td><td>1</td><td>1</td><td>4</td><td>&quot;AA&quot;</td><td>258</td><td>&quot;N3HYAA&quot;</td><td>&quot;LAX&quot;</td><td>&quot;MIA&quot;</td><td>20</td><td>15</td><td>-5</td><td>15</td><td>30</td><td>285</td><td>281</td><td>258</td><td>2342</td><td>748</td><td>8</td><td>805</td><td>756</td><td>-9</td><td>0</td><td>0</td><td>0</td><td>0</td><td>0</td></tr><tr><td>2015</td><td>1</td><td>1</td><td>4</td><td>&quot;AS&quot;</td><td>135</td><td>&quot;N527AS&quot;</td><td>&quot;SEA&quot;</td><td>&quot;ANC&quot;</td><td>25</td><td>24</td><td>-1</td><td>11</td><td>35</td><td>235</td><td>215</td><td>199</td><td>1448</td><td>254</td><td>5</td><td>320</td><td>259</td><td>-21</td><td>0</td><td>0</td><td>0</td><td>0</td><td>0</td></tr></tbody></table></div>"
      ],
      "text/plain": [
       "shape: (5, 28)\n",
       "┌──────┬───────┬─────┬─────────────┬───┬──────────────┬──────────────┬──────────────┬──────────────┐\n",
       "│ YEAR ┆ MONTH ┆ DAY ┆ DAY_OF_WEEK ┆ … ┆ SECURITY_DEL ┆ AIRLINE_DELA ┆ LATE_AIRCRAF ┆ WEATHER_DELA │\n",
       "│ ---  ┆ ---   ┆ --- ┆ ---         ┆   ┆ AY           ┆ Y            ┆ T_DELAY      ┆ Y            │\n",
       "│ i64  ┆ i64   ┆ i64 ┆ i64         ┆   ┆ ---          ┆ ---          ┆ ---          ┆ ---          │\n",
       "│      ┆       ┆     ┆             ┆   ┆ i64          ┆ i64          ┆ i64          ┆ i64          │\n",
       "╞══════╪═══════╪═════╪═════════════╪═══╪══════════════╪══════════════╪══════════════╪══════════════╡\n",
       "│ 2015 ┆ 1     ┆ 1   ┆ 4           ┆ … ┆ 0            ┆ 0            ┆ 0            ┆ 0            │\n",
       "│ 2015 ┆ 1     ┆ 1   ┆ 4           ┆ … ┆ 0            ┆ 0            ┆ 0            ┆ 0            │\n",
       "│ 2015 ┆ 1     ┆ 1   ┆ 4           ┆ … ┆ 0            ┆ 0            ┆ 0            ┆ 0            │\n",
       "│ 2015 ┆ 1     ┆ 1   ┆ 4           ┆ … ┆ 0            ┆ 0            ┆ 0            ┆ 0            │\n",
       "│ 2015 ┆ 1     ┆ 1   ┆ 4           ┆ … ┆ 0            ┆ 0            ┆ 0            ┆ 0            │\n",
       "└──────┴───────┴─────┴─────────────┴───┴──────────────┴──────────────┴──────────────┴──────────────┘"
      ]
     },
     "execution_count": 34,
     "metadata": {},
     "output_type": "execute_result"
    }
   ],
   "source": [
    "flights_clean = flights_clean.drop([\"DIVERTED\", \"CANCELLED\", \"CANCELLATION_REASON\"])\n",
    "flights_clean_df = flights_clean.collect(engine=\"streaming\")\n",
    "flights_clean_df.head()"
   ]
  },
  {
   "cell_type": "code",
   "execution_count": 35,
   "id": "299c674c",
   "metadata": {},
   "outputs": [
    {
     "data": {
      "text/html": [
       "<div><style>\n",
       ".dataframe > thead > tr,\n",
       ".dataframe > tbody > tr {\n",
       "  text-align: right;\n",
       "  white-space: pre-wrap;\n",
       "}\n",
       "</style>\n",
       "<small>shape: (1, 2)</small><table border=\"1\" class=\"dataframe\"><thead><tr><th>IATA_CODE</th><th>AIRLINE</th></tr><tr><td>u32</td><td>u32</td></tr></thead><tbody><tr><td>0</td><td>0</td></tr></tbody></table></div>"
      ],
      "text/plain": [
       "shape: (1, 2)\n",
       "┌───────────┬─────────┐\n",
       "│ IATA_CODE ┆ AIRLINE │\n",
       "│ ---       ┆ ---     │\n",
       "│ u32       ┆ u32     │\n",
       "╞═══════════╪═════════╡\n",
       "│ 0         ┆ 0       │\n",
       "└───────────┴─────────┘"
      ]
     },
     "execution_count": 35,
     "metadata": {},
     "output_type": "execute_result"
    }
   ],
   "source": [
    "airlines_df.null_count()"
   ]
  },
  {
   "cell_type": "code",
   "execution_count": 36,
   "id": "dff0288e",
   "metadata": {},
   "outputs": [
    {
     "data": {
      "text/html": [
       "<div><style>\n",
       ".dataframe > thead > tr,\n",
       ".dataframe > tbody > tr {\n",
       "  text-align: right;\n",
       "  white-space: pre-wrap;\n",
       "}\n",
       "</style>\n",
       "<small>shape: (1, 7)</small><table border=\"1\" class=\"dataframe\"><thead><tr><th>IATA_CODE</th><th>AIRPORT</th><th>CITY</th><th>STATE</th><th>COUNTRY</th><th>LATITUDE</th><th>LONGITUDE</th></tr><tr><td>u32</td><td>u32</td><td>u32</td><td>u32</td><td>u32</td><td>u32</td><td>u32</td></tr></thead><tbody><tr><td>0</td><td>0</td><td>0</td><td>0</td><td>0</td><td>3</td><td>3</td></tr></tbody></table></div>"
      ],
      "text/plain": [
       "shape: (1, 7)\n",
       "┌───────────┬─────────┬──────┬───────┬─────────┬──────────┬───────────┐\n",
       "│ IATA_CODE ┆ AIRPORT ┆ CITY ┆ STATE ┆ COUNTRY ┆ LATITUDE ┆ LONGITUDE │\n",
       "│ ---       ┆ ---     ┆ ---  ┆ ---   ┆ ---     ┆ ---      ┆ ---       │\n",
       "│ u32       ┆ u32     ┆ u32  ┆ u32   ┆ u32     ┆ u32      ┆ u32       │\n",
       "╞═══════════╪═════════╪══════╪═══════╪═════════╪══════════╪═══════════╡\n",
       "│ 0         ┆ 0       ┆ 0    ┆ 0     ┆ 0       ┆ 3        ┆ 3         │\n",
       "└───────────┴─────────┴──────┴───────┴─────────┴──────────┴───────────┘"
      ]
     },
     "execution_count": 36,
     "metadata": {},
     "output_type": "execute_result"
    }
   ],
   "source": [
    "airports_df.null_count()"
   ]
  },
  {
   "cell_type": "code",
   "execution_count": 37,
   "id": "1db8ccff",
   "metadata": {},
   "outputs": [
    {
     "data": {
      "text/html": [
       "<div><style>\n",
       ".dataframe > thead > tr,\n",
       ".dataframe > tbody > tr {\n",
       "  text-align: right;\n",
       "  white-space: pre-wrap;\n",
       "}\n",
       "</style>\n",
       "<small>shape: (1, 7)</small><table border=\"1\" class=\"dataframe\"><thead><tr><th>IATA_CODE</th><th>AIRPORT</th><th>CITY</th><th>STATE</th><th>COUNTRY</th><th>LATITUDE</th><th>LONGITUDE</th></tr><tr><td>u32</td><td>u32</td><td>u32</td><td>u32</td><td>u32</td><td>u32</td><td>u32</td></tr></thead><tbody><tr><td>0</td><td>0</td><td>0</td><td>0</td><td>0</td><td>0</td><td>0</td></tr></tbody></table></div>"
      ],
      "text/plain": [
       "shape: (1, 7)\n",
       "┌───────────┬─────────┬──────┬───────┬─────────┬──────────┬───────────┐\n",
       "│ IATA_CODE ┆ AIRPORT ┆ CITY ┆ STATE ┆ COUNTRY ┆ LATITUDE ┆ LONGITUDE │\n",
       "│ ---       ┆ ---     ┆ ---  ┆ ---   ┆ ---     ┆ ---      ┆ ---       │\n",
       "│ u32       ┆ u32     ┆ u32  ┆ u32   ┆ u32     ┆ u32      ┆ u32       │\n",
       "╞═══════════╪═════════╪══════╪═══════╪═════════╪══════════╪═══════════╡\n",
       "│ 0         ┆ 0       ┆ 0    ┆ 0     ┆ 0       ┆ 0        ┆ 0         │\n",
       "└───────────┴─────────┴──────┴───────┴─────────┴──────────┴───────────┘"
      ]
     },
     "execution_count": 37,
     "metadata": {},
     "output_type": "execute_result"
    }
   ],
   "source": [
    "airports_df = airports_df.with_columns(\n",
    "    pl.when(pl.col(['IATA_CODE']) == 'ECP')\n",
    "    .then(pl.lit(30.3549))\n",
    "    .otherwise(pl.col(\"LATITUDE\"))\n",
    "    .alias(\"LATITUDE\"),\n",
    "    \n",
    "    pl.when(pl.col(\"IATA_CODE\") == \"ECP\")\n",
    "    .then(pl.lit(-85.7995))\n",
    "    .otherwise(pl.col(\"LONGITUDE\"))\n",
    "    .alias(\"LONGITUDE\")\n",
    "    )\n",
    "airports_df = airports_df.with_columns(\n",
    "    pl.when(pl.col(['IATA_CODE']) == 'PBG')\n",
    "    .then(pl.lit(44.6575))\n",
    "    .otherwise(pl.col(\"LATITUDE\"))\n",
    "    .alias(\"LATITUDE\"),\n",
    "    \n",
    "    pl.when(pl.col(\"IATA_CODE\") == \"PBG\")\n",
    "    .then(pl.lit(-73.4670))\n",
    "    .otherwise(pl.col(\"LONGITUDE\"))\n",
    "    .alias(\"LONGITUDE\")\n",
    "    )\n",
    "airports_df = airports_df.with_columns(\n",
    "    pl.when(pl.col(['IATA_CODE']) == 'UST')\n",
    "    .then(pl.lit(29.9314))\n",
    "    .otherwise(pl.col(\"LATITUDE\"))\n",
    "    .alias(\"LATITUDE\"),\n",
    "    \n",
    "    pl.when(pl.col(\"IATA_CODE\") == \"UST\")\n",
    "    .then(pl.lit(-81.2961))\n",
    "    .otherwise(pl.col(\"LONGITUDE\"))\n",
    "    .alias(\"LONGITUDE\")\n",
    "    )\n",
    "\n",
    "airports_df.null_count()"
   ]
  },
  {
   "cell_type": "code",
   "execution_count": 38,
   "id": "389988df",
   "metadata": {},
   "outputs": [
    {
     "name": "stdout",
     "output_type": "stream",
     "text": [
      "Schema({'IATA_CODE': String, 'AIRPORT': String, 'CITY': String, 'STATE': String, 'COUNTRY': String, 'LATITUDE': Float64, 'LONGITUDE': Float64})\n",
      "Schema({'YEAR': Int64, 'MONTH': Int64, 'DAY': Int64, 'DAY_OF_WEEK': Int64, 'AIRLINE': String, 'FLIGHT_NUMBER': Int64, 'TAIL_NUMBER': String, 'ORIGIN_AIRPORT': String, 'DESTINATION_AIRPORT': String, 'SCHEDULED_DEPARTURE': Int64, 'DEPARTURE_TIME': Int64, 'DEPARTURE_DELAY': Int64, 'TAXI_OUT': Int64, 'WHEELS_OFF': Int64, 'SCHEDULED_TIME': Int64, 'ELAPSED_TIME': Int64, 'AIR_TIME': Int64, 'DISTANCE': Int64, 'WHEELS_ON': Int64, 'TAXI_IN': Int64, 'SCHEDULED_ARRIVAL': Int64, 'ARRIVAL_TIME': Int64, 'ARRIVAL_DELAY': Int64, 'AIR_SYSTEM_DELAY': Int64, 'SECURITY_DELAY': Int64, 'AIRLINE_DELAY': Int64, 'LATE_AIRCRAFT_DELAY': Int64, 'WEATHER_DELAY': Int64})\n"
     ]
    }
   ],
   "source": [
    "print(airports_df.schema)\n",
    "print(flights_clean_df.schema)"
   ]
  },
  {
   "cell_type": "code",
   "execution_count": 39,
   "id": "e576c739",
   "metadata": {},
   "outputs": [],
   "source": [
    "airlines = airlines_df.lazy()\n",
    "airports = airports_df.lazy()"
   ]
  },
  {
   "cell_type": "code",
   "execution_count": 40,
   "id": "96934507",
   "metadata": {},
   "outputs": [],
   "source": [
    "lf = (\n",
    "    flights_clean\n",
    "    .join(airlines, left_on=\"AIRLINE\", right_on=\"IATA_CODE\", how=\"left\")\n",
    "    .rename({\"AIRLINE_right\": \"AIRLINE_NAME\"})\n",
    ")"
   ]
  },
  {
   "cell_type": "code",
   "execution_count": 41,
   "id": "be1158d9",
   "metadata": {},
   "outputs": [],
   "source": [
    "lf = (\n",
    "    lf.join(\n",
    "        airports.rename({\n",
    "            \"IATA_CODE\": \"ORIGIN_AIRPORT_CODE\",\n",
    "            \"AIRPORT\": \"ORIGIN_AIRPORT\",\n",
    "            \"CITY\": \"ORIGIN_CITY\",\n",
    "            \"STATE\": \"ORIGIN_STATE\",\n",
    "            \"COUNTRY\": \"ORIGIN_COUNTRY\",\n",
    "            \"LATITUDE\": \"ORIGIN_LAT\",\n",
    "            \"LONGITUDE\": \"ORIGIN_LON\"\n",
    "        }),\n",
    "        left_on=\"ORIGIN_AIRPORT\",\n",
    "        right_on=\"ORIGIN_AIRPORT_CODE\",\n",
    "        how=\"left\"\n",
    "        )\n",
    ")"
   ]
  },
  {
   "cell_type": "code",
   "execution_count": 42,
   "id": "0c319289",
   "metadata": {},
   "outputs": [
    {
     "data": {
      "text/html": [
       "<div><style>\n",
       ".dataframe > thead > tr,\n",
       ".dataframe > tbody > tr {\n",
       "  text-align: right;\n",
       "  white-space: pre-wrap;\n",
       "}\n",
       "</style>\n",
       "<small>shape: (1, 35)</small><table border=\"1\" class=\"dataframe\"><thead><tr><th>YEAR</th><th>MONTH</th><th>DAY</th><th>DAY_OF_WEEK</th><th>AIRLINE</th><th>FLIGHT_NUMBER</th><th>TAIL_NUMBER</th><th>ORIGIN_AIRPORT</th><th>DESTINATION_AIRPORT</th><th>SCHEDULED_DEPARTURE</th><th>DEPARTURE_TIME</th><th>DEPARTURE_DELAY</th><th>TAXI_OUT</th><th>WHEELS_OFF</th><th>SCHEDULED_TIME</th><th>ELAPSED_TIME</th><th>AIR_TIME</th><th>DISTANCE</th><th>WHEELS_ON</th><th>TAXI_IN</th><th>SCHEDULED_ARRIVAL</th><th>ARRIVAL_TIME</th><th>ARRIVAL_DELAY</th><th>AIR_SYSTEM_DELAY</th><th>SECURITY_DELAY</th><th>AIRLINE_DELAY</th><th>LATE_AIRCRAFT_DELAY</th><th>WEATHER_DELAY</th><th>AIRLINE_NAME</th><th>ORIGIN_AIRPORT_right</th><th>ORIGIN_CITY</th><th>ORIGIN_STATE</th><th>ORIGIN_COUNTRY</th><th>ORIGIN_LAT</th><th>ORIGIN_LON</th></tr><tr><td>u32</td><td>u32</td><td>u32</td><td>u32</td><td>u32</td><td>u32</td><td>u32</td><td>u32</td><td>u32</td><td>u32</td><td>u32</td><td>u32</td><td>u32</td><td>u32</td><td>u32</td><td>u32</td><td>u32</td><td>u32</td><td>u32</td><td>u32</td><td>u32</td><td>u32</td><td>u32</td><td>u32</td><td>u32</td><td>u32</td><td>u32</td><td>u32</td><td>u32</td><td>u32</td><td>u32</td><td>u32</td><td>u32</td><td>u32</td><td>u32</td></tr></thead><tbody><tr><td>0</td><td>0</td><td>0</td><td>0</td><td>0</td><td>0</td><td>0</td><td>0</td><td>0</td><td>0</td><td>0</td><td>0</td><td>0</td><td>0</td><td>0</td><td>0</td><td>0</td><td>0</td><td>0</td><td>0</td><td>0</td><td>0</td><td>0</td><td>0</td><td>0</td><td>0</td><td>0</td><td>0</td><td>0</td><td>482878</td><td>482878</td><td>482878</td><td>482878</td><td>482878</td><td>482878</td></tr></tbody></table></div>"
      ],
      "text/plain": [
       "shape: (1, 35)\n",
       "┌──────┬───────┬─────┬─────────────┬───┬──────────────┬────────────────┬────────────┬────────────┐\n",
       "│ YEAR ┆ MONTH ┆ DAY ┆ DAY_OF_WEEK ┆ … ┆ ORIGIN_STATE ┆ ORIGIN_COUNTRY ┆ ORIGIN_LAT ┆ ORIGIN_LON │\n",
       "│ ---  ┆ ---   ┆ --- ┆ ---         ┆   ┆ ---          ┆ ---            ┆ ---        ┆ ---        │\n",
       "│ u32  ┆ u32   ┆ u32 ┆ u32         ┆   ┆ u32          ┆ u32            ┆ u32        ┆ u32        │\n",
       "╞══════╪═══════╪═════╪═════════════╪═══╪══════════════╪════════════════╪════════════╪════════════╡\n",
       "│ 0    ┆ 0     ┆ 0   ┆ 0           ┆ … ┆ 482878       ┆ 482878         ┆ 482878     ┆ 482878     │\n",
       "└──────┴───────┴─────┴─────────────┴───┴──────────────┴────────────────┴────────────┴────────────┘"
      ]
     },
     "execution_count": 42,
     "metadata": {},
     "output_type": "execute_result"
    }
   ],
   "source": [
    "lf.null_count().collect()"
   ]
  },
  {
   "cell_type": "code",
   "execution_count": 43,
   "id": "66d46b7b",
   "metadata": {},
   "outputs": [],
   "source": [
    "lf = (\n",
    "    lf.join(\n",
    "        airports.rename({\n",
    "            \"IATA_CODE\": \"DEST_AIRPORT_CODE\",\n",
    "            \"AIRPORT\": \"DEST_AIRPORT\",\n",
    "            \"CITY\": \"DEST_CITY\",\n",
    "            \"STATE\": \"DEST_STATE\",\n",
    "            \"COUNTRY\": \"DEST_COUNTRY\",\n",
    "            \"LATITUDE\": \"DEST_LAT\",\n",
    "            \"LONGITUDE\": \"DEST_LON\"\n",
    "        }),\n",
    "        left_on=\"DESTINATION_AIRPORT\",\n",
    "        right_on=\"DEST_AIRPORT_CODE\",\n",
    "        how=\"left\"\n",
    "        )\n",
    ")"
   ]
  },
  {
   "cell_type": "code",
   "execution_count": 44,
   "id": "3a514613",
   "metadata": {},
   "outputs": [
    {
     "data": {
      "text/html": [
       "<div><style>\n",
       ".dataframe > thead > tr,\n",
       ".dataframe > tbody > tr {\n",
       "  text-align: right;\n",
       "  white-space: pre-wrap;\n",
       "}\n",
       "</style>\n",
       "<small>shape: (1, 41)</small><table border=\"1\" class=\"dataframe\"><thead><tr><th>YEAR</th><th>MONTH</th><th>DAY</th><th>DAY_OF_WEEK</th><th>AIRLINE</th><th>FLIGHT_NUMBER</th><th>TAIL_NUMBER</th><th>ORIGIN_AIRPORT</th><th>DESTINATION_AIRPORT</th><th>SCHEDULED_DEPARTURE</th><th>DEPARTURE_TIME</th><th>DEPARTURE_DELAY</th><th>TAXI_OUT</th><th>WHEELS_OFF</th><th>SCHEDULED_TIME</th><th>ELAPSED_TIME</th><th>AIR_TIME</th><th>DISTANCE</th><th>WHEELS_ON</th><th>TAXI_IN</th><th>SCHEDULED_ARRIVAL</th><th>ARRIVAL_TIME</th><th>ARRIVAL_DELAY</th><th>AIR_SYSTEM_DELAY</th><th>SECURITY_DELAY</th><th>AIRLINE_DELAY</th><th>LATE_AIRCRAFT_DELAY</th><th>WEATHER_DELAY</th><th>AIRLINE_NAME</th><th>ORIGIN_AIRPORT_right</th><th>ORIGIN_CITY</th><th>ORIGIN_STATE</th><th>ORIGIN_COUNTRY</th><th>ORIGIN_LAT</th><th>ORIGIN_LON</th><th>DEST_AIRPORT</th><th>DEST_CITY</th><th>DEST_STATE</th><th>DEST_COUNTRY</th><th>DEST_LAT</th><th>DEST_LON</th></tr><tr><td>u32</td><td>u32</td><td>u32</td><td>u32</td><td>u32</td><td>u32</td><td>u32</td><td>u32</td><td>u32</td><td>u32</td><td>u32</td><td>u32</td><td>u32</td><td>u32</td><td>u32</td><td>u32</td><td>u32</td><td>u32</td><td>u32</td><td>u32</td><td>u32</td><td>u32</td><td>u32</td><td>u32</td><td>u32</td><td>u32</td><td>u32</td><td>u32</td><td>u32</td><td>u32</td><td>u32</td><td>u32</td><td>u32</td><td>u32</td><td>u32</td><td>u32</td><td>u32</td><td>u32</td><td>u32</td><td>u32</td><td>u32</td></tr></thead><tbody><tr><td>0</td><td>0</td><td>0</td><td>0</td><td>0</td><td>0</td><td>0</td><td>0</td><td>0</td><td>0</td><td>0</td><td>0</td><td>0</td><td>0</td><td>0</td><td>0</td><td>0</td><td>0</td><td>0</td><td>0</td><td>0</td><td>0</td><td>0</td><td>0</td><td>0</td><td>0</td><td>0</td><td>0</td><td>0</td><td>482878</td><td>482878</td><td>482878</td><td>482878</td><td>482878</td><td>482878</td><td>482878</td><td>482878</td><td>482878</td><td>482878</td><td>482878</td><td>482878</td></tr></tbody></table></div>"
      ],
      "text/plain": [
       "shape: (1, 41)\n",
       "┌──────┬───────┬─────┬─────────────┬───┬────────────┬──────────────┬──────────┬──────────┐\n",
       "│ YEAR ┆ MONTH ┆ DAY ┆ DAY_OF_WEEK ┆ … ┆ DEST_STATE ┆ DEST_COUNTRY ┆ DEST_LAT ┆ DEST_LON │\n",
       "│ ---  ┆ ---   ┆ --- ┆ ---         ┆   ┆ ---        ┆ ---          ┆ ---      ┆ ---      │\n",
       "│ u32  ┆ u32   ┆ u32 ┆ u32         ┆   ┆ u32        ┆ u32          ┆ u32      ┆ u32      │\n",
       "╞══════╪═══════╪═════╪═════════════╪═══╪════════════╪══════════════╪══════════╪══════════╡\n",
       "│ 0    ┆ 0     ┆ 0   ┆ 0           ┆ … ┆ 482878     ┆ 482878       ┆ 482878   ┆ 482878   │\n",
       "└──────┴───────┴─────┴─────────────┴───┴────────────┴──────────────┴──────────┴──────────┘"
      ]
     },
     "execution_count": 44,
     "metadata": {},
     "output_type": "execute_result"
    }
   ],
   "source": [
    "lf.null_count().collect()"
   ]
  },
  {
   "cell_type": "code",
   "execution_count": 45,
   "id": "aa2dce2d",
   "metadata": {},
   "outputs": [
    {
     "data": {
      "text/html": [
       "<div><style>\n",
       ".dataframe > thead > tr,\n",
       ".dataframe > tbody > tr {\n",
       "  text-align: right;\n",
       "  white-space: pre-wrap;\n",
       "}\n",
       "</style>\n",
       "<small>shape: (307, 1)</small><table border=\"1\" class=\"dataframe\"><thead><tr><th>DESTINATION_AIRPORT</th></tr><tr><td>str</td></tr></thead><tbody><tr><td>&quot;12898&quot;</td></tr><tr><td>&quot;15841&quot;</td></tr><tr><td>&quot;11624&quot;</td></tr><tr><td>&quot;15380&quot;</td></tr><tr><td>&quot;10874&quot;</td></tr><tr><td>&hellip;</td></tr><tr><td>&quot;10372&quot;</td></tr><tr><td>&quot;11049&quot;</td></tr><tr><td>&quot;10157&quot;</td></tr><tr><td>&quot;15249&quot;</td></tr><tr><td>&quot;10631&quot;</td></tr></tbody></table></div>"
      ],
      "text/plain": [
       "shape: (307, 1)\n",
       "┌─────────────────────┐\n",
       "│ DESTINATION_AIRPORT │\n",
       "│ ---                 │\n",
       "│ str                 │\n",
       "╞═════════════════════╡\n",
       "│ 12898               │\n",
       "│ 15841               │\n",
       "│ 11624               │\n",
       "│ 15380               │\n",
       "│ 10874               │\n",
       "│ …                   │\n",
       "│ 10372               │\n",
       "│ 11049               │\n",
       "│ 10157               │\n",
       "│ 15249               │\n",
       "│ 10631               │\n",
       "└─────────────────────┘"
      ]
     },
     "execution_count": 45,
     "metadata": {},
     "output_type": "execute_result"
    }
   ],
   "source": [
    "# Which destination airport codes did not join?\n",
    "missing_dest_codes = (\n",
    "    lf\n",
    "    .filter(pl.col(\"DEST_CITY\").is_null())   # null join\n",
    "    .select(\"DESTINATION_AIRPORT\")\n",
    "    .unique()\n",
    "    .collect()\n",
    ")\n",
    "\n",
    "missing_dest_codes\n"
   ]
  },
  {
   "cell_type": "code",
   "execution_count": 46,
   "id": "8d25fc7c",
   "metadata": {},
   "outputs": [
    {
     "data": {
      "text/html": [
       "<div><style>\n",
       ".dataframe > thead > tr,\n",
       ".dataframe > tbody > tr {\n",
       "  text-align: right;\n",
       "  white-space: pre-wrap;\n",
       "}\n",
       "</style>\n",
       "<small>shape: (307, 2)</small><table border=\"1\" class=\"dataframe\"><thead><tr><th>DESTINATION_AIRPORT</th><th>len</th></tr><tr><td>str</td><td>u32</td></tr></thead><tbody><tr><td>&quot;10397&quot;</td><td>32546</td></tr><tr><td>&quot;13930&quot;</td><td>27506</td></tr><tr><td>&quot;11298&quot;</td><td>20461</td></tr><tr><td>&quot;11292&quot;</td><td>18065</td></tr><tr><td>&quot;12892&quot;</td><td>17647</td></tr><tr><td>&hellip;</td><td>&hellip;</td></tr><tr><td>&quot;14222&quot;</td><td>9</td></tr><tr><td>&quot;10165&quot;</td><td>9</td></tr><tr><td>&quot;13502&quot;</td><td>7</td></tr><tr><td>&quot;11503&quot;</td><td>3</td></tr><tr><td>&quot;10666&quot;</td><td>1</td></tr></tbody></table></div>"
      ],
      "text/plain": [
       "shape: (307, 2)\n",
       "┌─────────────────────┬───────┐\n",
       "│ DESTINATION_AIRPORT ┆ len   │\n",
       "│ ---                 ┆ ---   │\n",
       "│ str                 ┆ u32   │\n",
       "╞═════════════════════╪═══════╡\n",
       "│ 10397               ┆ 32546 │\n",
       "│ 13930               ┆ 27506 │\n",
       "│ 11298               ┆ 20461 │\n",
       "│ 11292               ┆ 18065 │\n",
       "│ 12892               ┆ 17647 │\n",
       "│ …                   ┆ …     │\n",
       "│ 14222               ┆ 9     │\n",
       "│ 10165               ┆ 9     │\n",
       "│ 13502               ┆ 7     │\n",
       "│ 11503               ┆ 3     │\n",
       "│ 10666               ┆ 1     │\n",
       "└─────────────────────┴───────┘"
      ]
     },
     "execution_count": 46,
     "metadata": {},
     "output_type": "execute_result"
    }
   ],
   "source": [
    "dest_null_counts = (\n",
    "    lf\n",
    "    .filter(pl.col(\"DEST_CITY\").is_null())\n",
    "    .group_by(\"DESTINATION_AIRPORT\")\n",
    "    .len()\n",
    "    .sort(\"len\", descending=True)\n",
    "    .collect()\n",
    ")\n",
    "\n",
    "dest_null_counts\n"
   ]
  },
  {
   "cell_type": "code",
   "execution_count": 47,
   "id": "16cf21b7",
   "metadata": {},
   "outputs": [
    {
     "data": {
      "text/plain": [
       "Schema([('YEAR', Int64),\n",
       "        ('MONTH', Int64),\n",
       "        ('DAY', Int64),\n",
       "        ('DAY_OF_WEEK', Int64),\n",
       "        ('AIRLINE', String),\n",
       "        ('FLIGHT_NUMBER', Int64),\n",
       "        ('TAIL_NUMBER', String),\n",
       "        ('ORIGIN_AIRPORT', String),\n",
       "        ('DESTINATION_AIRPORT', String),\n",
       "        ('SCHEDULED_DEPARTURE', Int64),\n",
       "        ('DEPARTURE_TIME', Int64),\n",
       "        ('DEPARTURE_DELAY', Int64),\n",
       "        ('TAXI_OUT', Int64),\n",
       "        ('WHEELS_OFF', Int64),\n",
       "        ('SCHEDULED_TIME', Int64),\n",
       "        ('ELAPSED_TIME', Int64),\n",
       "        ('AIR_TIME', Int64),\n",
       "        ('DISTANCE', Int64),\n",
       "        ('WHEELS_ON', Int64),\n",
       "        ('TAXI_IN', Int64),\n",
       "        ('SCHEDULED_ARRIVAL', Int64),\n",
       "        ('ARRIVAL_TIME', Int64),\n",
       "        ('ARRIVAL_DELAY', Int64),\n",
       "        ('AIR_SYSTEM_DELAY', Int64),\n",
       "        ('SECURITY_DELAY', Int64),\n",
       "        ('AIRLINE_DELAY', Int64),\n",
       "        ('LATE_AIRCRAFT_DELAY', Int64),\n",
       "        ('WEATHER_DELAY', Int64),\n",
       "        ('AIRLINE_NAME', String),\n",
       "        ('ORIGIN_AIRPORT_right', String),\n",
       "        ('ORIGIN_CITY', String),\n",
       "        ('ORIGIN_STATE', String),\n",
       "        ('ORIGIN_COUNTRY', String),\n",
       "        ('ORIGIN_LAT', Float64),\n",
       "        ('ORIGIN_LON', Float64),\n",
       "        ('DEST_AIRPORT', String),\n",
       "        ('DEST_CITY', String),\n",
       "        ('DEST_STATE', String),\n",
       "        ('DEST_COUNTRY', String),\n",
       "        ('DEST_LAT', Float64),\n",
       "        ('DEST_LON', Float64)])"
      ]
     },
     "execution_count": 47,
     "metadata": {},
     "output_type": "execute_result"
    }
   ],
   "source": [
    "lf.collect_schema()"
   ]
  },
  {
   "cell_type": "code",
   "execution_count": 48,
   "id": "21085112",
   "metadata": {},
   "outputs": [],
   "source": [
    "cols_to_drop = [\"ORIGIN_AIRPORT_right\", \"DEST_AIRPORT\", \"AIRLINE_NAME\"]\n",
    "lf = lf.drop(cols_to_drop)"
   ]
  },
  {
   "cell_type": "code",
   "execution_count": 49,
   "id": "c471d198",
   "metadata": {},
   "outputs": [],
   "source": [
    "origin_check = (\n",
    "    lf\n",
    "    .select([\"ORIGIN_AIRPORT\", \"ORIGIN_CITY\", \"ORIGIN_STATE\", \"ORIGIN_COUNTRY\"])\n",
    "    .unique()\n",
    "    .group_by(\"ORIGIN_AIRPORT\")\n",
    "    .len()\n",
    "    .filter(pl.col(\"len\") > 1)\n",
    ")\n",
    "\n",
    "dest_check = (\n",
    "    lf\n",
    "    .select([\"DESTINATION_AIRPORT\", \"DEST_CITY\", \"DEST_STATE\", \"DEST_COUNTRY\"])\n",
    "    .unique()\n",
    "    .group_by(\"DESTINATION_AIRPORT\")\n",
    "    .len()\n",
    "    .filter(pl.col(\"len\") > 1)\n",
    ")"
   ]
  },
  {
   "cell_type": "code",
   "execution_count": 50,
   "id": "0dede7cc",
   "metadata": {},
   "outputs": [
    {
     "data": {
      "text/html": [
       "<div><style>\n",
       ".dataframe > thead > tr,\n",
       ".dataframe > tbody > tr {\n",
       "  text-align: right;\n",
       "  white-space: pre-wrap;\n",
       "}\n",
       "</style>\n",
       "<small>shape: (0, 2)</small><table border=\"1\" class=\"dataframe\"><thead><tr><th>ORIGIN_AIRPORT</th><th>len</th></tr><tr><td>str</td><td>u32</td></tr></thead><tbody></tbody></table></div>"
      ],
      "text/plain": [
       "shape: (0, 2)\n",
       "┌────────────────┬─────┐\n",
       "│ ORIGIN_AIRPORT ┆ len │\n",
       "│ ---            ┆ --- │\n",
       "│ str            ┆ u32 │\n",
       "╞════════════════╪═════╡\n",
       "└────────────────┴─────┘"
      ]
     },
     "execution_count": 50,
     "metadata": {},
     "output_type": "execute_result"
    }
   ],
   "source": [
    "origin_check.collect()"
   ]
  },
  {
   "cell_type": "code",
   "execution_count": 51,
   "id": "c1affd4e",
   "metadata": {},
   "outputs": [
    {
     "data": {
      "text/html": [
       "<div><style>\n",
       ".dataframe > thead > tr,\n",
       ".dataframe > tbody > tr {\n",
       "  text-align: right;\n",
       "  white-space: pre-wrap;\n",
       "}\n",
       "</style>\n",
       "<small>shape: (0, 2)</small><table border=\"1\" class=\"dataframe\"><thead><tr><th>DESTINATION_AIRPORT</th><th>len</th></tr><tr><td>str</td><td>u32</td></tr></thead><tbody></tbody></table></div>"
      ],
      "text/plain": [
       "shape: (0, 2)\n",
       "┌─────────────────────┬─────┐\n",
       "│ DESTINATION_AIRPORT ┆ len │\n",
       "│ ---                 ┆ --- │\n",
       "│ str                 ┆ u32 │\n",
       "╞═════════════════════╪═════╡\n",
       "└─────────────────────┴─────┘"
      ]
     },
     "execution_count": 51,
     "metadata": {},
     "output_type": "execute_result"
    }
   ],
   "source": [
    "dest_check.collect()"
   ]
  },
  {
   "cell_type": "code",
   "execution_count": 52,
   "id": "bb8dcc76",
   "metadata": {},
   "outputs": [],
   "source": [
    "lf = lf.drop([\"ORIGIN_CITY\", \"ORIGIN_STATE\", \"ORIGIN_COUNTRY\", \"DEST_CITY\", \"DEST_STATE\", \"DEST_COUNTRY\"])"
   ]
  },
  {
   "cell_type": "code",
   "execution_count": 53,
   "id": "e76e905b",
   "metadata": {},
   "outputs": [
    {
     "name": "stdout",
     "output_type": "stream",
     "text": [
      "Schema({'YEAR': Int64, 'MONTH': Int64, 'DAY': Int64, 'DAY_OF_WEEK': Int64, 'AIRLINE': String, 'FLIGHT_NUMBER': Int64, 'TAIL_NUMBER': String, 'ORIGIN_AIRPORT': String, 'DESTINATION_AIRPORT': String, 'SCHEDULED_DEPARTURE': Int64, 'DEPARTURE_TIME': Int64, 'DEPARTURE_DELAY': Int64, 'TAXI_OUT': Int64, 'WHEELS_OFF': Int64, 'SCHEDULED_TIME': Int64, 'ELAPSED_TIME': Int64, 'AIR_TIME': Int64, 'DISTANCE': Int64, 'WHEELS_ON': Int64, 'TAXI_IN': Int64, 'SCHEDULED_ARRIVAL': Int64, 'ARRIVAL_TIME': Int64, 'ARRIVAL_DELAY': Int64, 'AIR_SYSTEM_DELAY': Int64, 'SECURITY_DELAY': Int64, 'AIRLINE_DELAY': Int64, 'LATE_AIRCRAFT_DELAY': Int64, 'WEATHER_DELAY': Int64, 'ORIGIN_LAT': Float64, 'ORIGIN_LON': Float64, 'DEST_LAT': Float64, 'DEST_LON': Float64})\n"
     ]
    },
    {
     "data": {
      "text/html": [
       "<div><style>\n",
       ".dataframe > thead > tr,\n",
       ".dataframe > tbody > tr {\n",
       "  text-align: right;\n",
       "  white-space: pre-wrap;\n",
       "}\n",
       "</style>\n",
       "<small>shape: (1, 32)</small><table border=\"1\" class=\"dataframe\"><thead><tr><th>YEAR</th><th>MONTH</th><th>DAY</th><th>DAY_OF_WEEK</th><th>AIRLINE</th><th>FLIGHT_NUMBER</th><th>TAIL_NUMBER</th><th>ORIGIN_AIRPORT</th><th>DESTINATION_AIRPORT</th><th>SCHEDULED_DEPARTURE</th><th>DEPARTURE_TIME</th><th>DEPARTURE_DELAY</th><th>TAXI_OUT</th><th>WHEELS_OFF</th><th>SCHEDULED_TIME</th><th>ELAPSED_TIME</th><th>AIR_TIME</th><th>DISTANCE</th><th>WHEELS_ON</th><th>TAXI_IN</th><th>SCHEDULED_ARRIVAL</th><th>ARRIVAL_TIME</th><th>ARRIVAL_DELAY</th><th>AIR_SYSTEM_DELAY</th><th>SECURITY_DELAY</th><th>AIRLINE_DELAY</th><th>LATE_AIRCRAFT_DELAY</th><th>WEATHER_DELAY</th><th>ORIGIN_LAT</th><th>ORIGIN_LON</th><th>DEST_LAT</th><th>DEST_LON</th></tr><tr><td>u32</td><td>u32</td><td>u32</td><td>u32</td><td>u32</td><td>u32</td><td>u32</td><td>u32</td><td>u32</td><td>u32</td><td>u32</td><td>u32</td><td>u32</td><td>u32</td><td>u32</td><td>u32</td><td>u32</td><td>u32</td><td>u32</td><td>u32</td><td>u32</td><td>u32</td><td>u32</td><td>u32</td><td>u32</td><td>u32</td><td>u32</td><td>u32</td><td>u32</td><td>u32</td><td>u32</td><td>u32</td></tr></thead><tbody><tr><td>0</td><td>0</td><td>0</td><td>0</td><td>0</td><td>0</td><td>0</td><td>0</td><td>0</td><td>0</td><td>0</td><td>0</td><td>0</td><td>0</td><td>0</td><td>0</td><td>0</td><td>0</td><td>0</td><td>0</td><td>0</td><td>0</td><td>0</td><td>0</td><td>0</td><td>0</td><td>0</td><td>0</td><td>482878</td><td>482878</td><td>482878</td><td>482878</td></tr></tbody></table></div>"
      ],
      "text/plain": [
       "shape: (1, 32)\n",
       "┌──────┬───────┬─────┬─────────────┬───┬────────────┬────────────┬──────────┬──────────┐\n",
       "│ YEAR ┆ MONTH ┆ DAY ┆ DAY_OF_WEEK ┆ … ┆ ORIGIN_LAT ┆ ORIGIN_LON ┆ DEST_LAT ┆ DEST_LON │\n",
       "│ ---  ┆ ---   ┆ --- ┆ ---         ┆   ┆ ---        ┆ ---        ┆ ---      ┆ ---      │\n",
       "│ u32  ┆ u32   ┆ u32 ┆ u32         ┆   ┆ u32        ┆ u32        ┆ u32      ┆ u32      │\n",
       "╞══════╪═══════╪═════╪═════════════╪═══╪════════════╪════════════╪══════════╪══════════╡\n",
       "│ 0    ┆ 0     ┆ 0   ┆ 0           ┆ … ┆ 482878     ┆ 482878     ┆ 482878   ┆ 482878   │\n",
       "└──────┴───────┴─────┴─────────────┴───┴────────────┴────────────┴──────────┴──────────┘"
      ]
     },
     "execution_count": 53,
     "metadata": {},
     "output_type": "execute_result"
    }
   ],
   "source": [
    "print(lf.collect_schema())\n",
    "lf.null_count().collect()"
   ]
  },
  {
   "cell_type": "code",
   "execution_count": 54,
   "id": "4f108add",
   "metadata": {},
   "outputs": [
    {
     "data": {
      "text/html": [
       "<div><style>\n",
       ".dataframe > thead > tr,\n",
       ".dataframe > tbody > tr {\n",
       "  text-align: right;\n",
       "  white-space: pre-wrap;\n",
       "}\n",
       "</style>\n",
       "<small>shape: (1, 1)</small><table border=\"1\" class=\"dataframe\"><thead><tr><th>count_of_null_rows</th></tr><tr><td>u32</td></tr></thead><tbody><tr><td>482878</td></tr></tbody></table></div>"
      ],
      "text/plain": [
       "shape: (1, 1)\n",
       "┌────────────────────┐\n",
       "│ count_of_null_rows │\n",
       "│ ---                │\n",
       "│ u32                │\n",
       "╞════════════════════╡\n",
       "│ 482878             │\n",
       "└────────────────────┘"
      ]
     },
     "execution_count": 54,
     "metadata": {},
     "output_type": "execute_result"
    }
   ],
   "source": [
    "null_rows_count_lf = lf.filter(\n",
    "    pl.any_horizontal(\n",
    "        pl.col([\"ORIGIN_LAT\"]).is_null(),\n",
    "        pl.col([\"ORIGIN_LON\"]).is_null(),\n",
    "        pl.col([\"DEST_LAT\"]).is_null(),\n",
    "        pl.col([\"DEST_LON\"]).is_null(),\n",
    "    )\n",
    ").select(\n",
    "    pl.len().alias(\"count_of_null_rows\")\n",
    ").collect()\n",
    "null_rows_count_lf"
   ]
  },
  {
   "cell_type": "code",
   "execution_count": 55,
   "id": "009d7deb",
   "metadata": {},
   "outputs": [
    {
     "data": {
      "text/plain": [
       "8.450775707699394"
      ]
     },
     "execution_count": 55,
     "metadata": {},
     "output_type": "execute_result"
    }
   ],
   "source": [
    "total_rows = lf.collect().shape[0]\n",
    "null_rows_count_lf[0, 0] / total_rows * 100"
   ]
  },
  {
   "cell_type": "code",
   "execution_count": 56,
   "id": "718195d3",
   "metadata": {},
   "outputs": [
    {
     "data": {
      "text/html": [
       "<div><style>\n",
       ".dataframe > thead > tr,\n",
       ".dataframe > tbody > tr {\n",
       "  text-align: right;\n",
       "  white-space: pre-wrap;\n",
       "}\n",
       "</style>\n",
       "<small>shape: (5, 32)</small><table border=\"1\" class=\"dataframe\"><thead><tr><th>YEAR</th><th>MONTH</th><th>DAY</th><th>DAY_OF_WEEK</th><th>AIRLINE</th><th>FLIGHT_NUMBER</th><th>TAIL_NUMBER</th><th>ORIGIN_AIRPORT</th><th>DESTINATION_AIRPORT</th><th>SCHEDULED_DEPARTURE</th><th>DEPARTURE_TIME</th><th>DEPARTURE_DELAY</th><th>TAXI_OUT</th><th>WHEELS_OFF</th><th>SCHEDULED_TIME</th><th>ELAPSED_TIME</th><th>AIR_TIME</th><th>DISTANCE</th><th>WHEELS_ON</th><th>TAXI_IN</th><th>SCHEDULED_ARRIVAL</th><th>ARRIVAL_TIME</th><th>ARRIVAL_DELAY</th><th>AIR_SYSTEM_DELAY</th><th>SECURITY_DELAY</th><th>AIRLINE_DELAY</th><th>LATE_AIRCRAFT_DELAY</th><th>WEATHER_DELAY</th><th>ORIGIN_LAT</th><th>ORIGIN_LON</th><th>DEST_LAT</th><th>DEST_LON</th></tr><tr><td>i64</td><td>i64</td><td>i64</td><td>i64</td><td>str</td><td>i64</td><td>str</td><td>str</td><td>str</td><td>i64</td><td>i64</td><td>i64</td><td>i64</td><td>i64</td><td>i64</td><td>i64</td><td>i64</td><td>i64</td><td>i64</td><td>i64</td><td>i64</td><td>i64</td><td>i64</td><td>i64</td><td>i64</td><td>i64</td><td>i64</td><td>i64</td><td>f64</td><td>f64</td><td>f64</td><td>f64</td></tr></thead><tbody><tr><td>2015</td><td>10</td><td>1</td><td>4</td><td>&quot;AA&quot;</td><td>1230</td><td>&quot;N3DBAA&quot;</td><td>&quot;14747&quot;</td><td>&quot;11298&quot;</td><td>5</td><td>15</td><td>10</td><td>15</td><td>30</td><td>237</td><td>208</td><td>189</td><td>1660</td><td>539</td><td>4</td><td>602</td><td>543</td><td>-19</td><td>0</td><td>0</td><td>0</td><td>0</td><td>0</td><td>null</td><td>null</td><td>null</td><td>null</td></tr><tr><td>2015</td><td>10</td><td>1</td><td>4</td><td>&quot;DL&quot;</td><td>1805</td><td>&quot;N696DL&quot;</td><td>&quot;14771&quot;</td><td>&quot;13487&quot;</td><td>5</td><td>16</td><td>11</td><td>14</td><td>30</td><td>213</td><td>192</td><td>171</td><td>1589</td><td>521</td><td>7</td><td>538</td><td>528</td><td>-10</td><td>0</td><td>0</td><td>0</td><td>0</td><td>0</td><td>null</td><td>null</td><td>null</td><td>null</td></tr><tr><td>2015</td><td>10</td><td>1</td><td>4</td><td>&quot;NK&quot;</td><td>612</td><td>&quot;N602NK&quot;</td><td>&quot;12889&quot;</td><td>&quot;13487&quot;</td><td>5</td><td>2400</td><td>-5</td><td>15</td><td>15</td><td>177</td><td>168</td><td>149</td><td>1299</td><td>444</td><td>4</td><td>502</td><td>448</td><td>-14</td><td>0</td><td>0</td><td>0</td><td>0</td><td>0</td><td>null</td><td>null</td><td>null</td><td>null</td></tr><tr><td>2015</td><td>10</td><td>1</td><td>4</td><td>&quot;AA&quot;</td><td>260</td><td>&quot;N3GNAA&quot;</td><td>&quot;12892&quot;</td><td>&quot;13303&quot;</td><td>10</td><td>7</td><td>-3</td><td>28</td><td>35</td><td>296</td><td>306</td><td>271</td><td>2342</td><td>806</td><td>7</td><td>806</td><td>813</td><td>7</td><td>0</td><td>0</td><td>0</td><td>0</td><td>0</td><td>null</td><td>null</td><td>null</td><td>null</td></tr><tr><td>2015</td><td>10</td><td>1</td><td>4</td><td>&quot;AA&quot;</td><td>1982</td><td>&quot;N914UY&quot;</td><td>&quot;14771&quot;</td><td>&quot;11057&quot;</td><td>10</td><td>8</td><td>-2</td><td>12</td><td>20</td><td>291</td><td>282</td><td>257</td><td>2296</td><td>737</td><td>13</td><td>801</td><td>750</td><td>-11</td><td>0</td><td>0</td><td>0</td><td>0</td><td>0</td><td>null</td><td>null</td><td>null</td><td>null</td></tr></tbody></table></div>"
      ],
      "text/plain": [
       "shape: (5, 32)\n",
       "┌──────┬───────┬─────┬─────────────┬───┬────────────┬────────────┬──────────┬──────────┐\n",
       "│ YEAR ┆ MONTH ┆ DAY ┆ DAY_OF_WEEK ┆ … ┆ ORIGIN_LAT ┆ ORIGIN_LON ┆ DEST_LAT ┆ DEST_LON │\n",
       "│ ---  ┆ ---   ┆ --- ┆ ---         ┆   ┆ ---        ┆ ---        ┆ ---      ┆ ---      │\n",
       "│ i64  ┆ i64   ┆ i64 ┆ i64         ┆   ┆ f64        ┆ f64        ┆ f64      ┆ f64      │\n",
       "╞══════╪═══════╪═════╪═════════════╪═══╪════════════╪════════════╪══════════╪══════════╡\n",
       "│ 2015 ┆ 10    ┆ 1   ┆ 4           ┆ … ┆ null       ┆ null       ┆ null     ┆ null     │\n",
       "│ 2015 ┆ 10    ┆ 1   ┆ 4           ┆ … ┆ null       ┆ null       ┆ null     ┆ null     │\n",
       "│ 2015 ┆ 10    ┆ 1   ┆ 4           ┆ … ┆ null       ┆ null       ┆ null     ┆ null     │\n",
       "│ 2015 ┆ 10    ┆ 1   ┆ 4           ┆ … ┆ null       ┆ null       ┆ null     ┆ null     │\n",
       "│ 2015 ┆ 10    ┆ 1   ┆ 4           ┆ … ┆ null       ┆ null       ┆ null     ┆ null     │\n",
       "└──────┴───────┴─────┴─────────────┴───┴────────────┴────────────┴──────────┴──────────┘"
      ]
     },
     "execution_count": 56,
     "metadata": {},
     "output_type": "execute_result"
    }
   ],
   "source": [
    "missing_airports = lf.filter(\n",
    "    pl.col(\"ORIGIN_LAT\").is_null()\n",
    ")\n",
    "missing_airports.collect().head()"
   ]
  },
  {
   "cell_type": "code",
   "execution_count": 57,
   "id": "001421da",
   "metadata": {},
   "outputs": [
    {
     "data": {
      "text/html": [
       "<div><style>\n",
       ".dataframe > thead > tr,\n",
       ".dataframe > tbody > tr {\n",
       "  text-align: right;\n",
       "  white-space: pre-wrap;\n",
       "}\n",
       "</style>\n",
       "<small>shape: (1, 28)</small><table border=\"1\" class=\"dataframe\"><thead><tr><th>YEAR</th><th>MONTH</th><th>DAY</th><th>DAY_OF_WEEK</th><th>AIRLINE</th><th>FLIGHT_NUMBER</th><th>TAIL_NUMBER</th><th>ORIGIN_AIRPORT</th><th>DESTINATION_AIRPORT</th><th>SCHEDULED_DEPARTURE</th><th>DEPARTURE_TIME</th><th>DEPARTURE_DELAY</th><th>TAXI_OUT</th><th>WHEELS_OFF</th><th>SCHEDULED_TIME</th><th>ELAPSED_TIME</th><th>AIR_TIME</th><th>DISTANCE</th><th>WHEELS_ON</th><th>TAXI_IN</th><th>SCHEDULED_ARRIVAL</th><th>ARRIVAL_TIME</th><th>ARRIVAL_DELAY</th><th>AIR_SYSTEM_DELAY</th><th>SECURITY_DELAY</th><th>AIRLINE_DELAY</th><th>LATE_AIRCRAFT_DELAY</th><th>WEATHER_DELAY</th></tr><tr><td>u32</td><td>u32</td><td>u32</td><td>u32</td><td>u32</td><td>u32</td><td>u32</td><td>u32</td><td>u32</td><td>u32</td><td>u32</td><td>u32</td><td>u32</td><td>u32</td><td>u32</td><td>u32</td><td>u32</td><td>u32</td><td>u32</td><td>u32</td><td>u32</td><td>u32</td><td>u32</td><td>u32</td><td>u32</td><td>u32</td><td>u32</td><td>u32</td></tr></thead><tbody><tr><td>0</td><td>0</td><td>0</td><td>0</td><td>0</td><td>0</td><td>0</td><td>0</td><td>0</td><td>0</td><td>0</td><td>0</td><td>0</td><td>0</td><td>0</td><td>0</td><td>0</td><td>0</td><td>0</td><td>0</td><td>0</td><td>0</td><td>0</td><td>0</td><td>0</td><td>0</td><td>0</td><td>0</td></tr></tbody></table></div>"
      ],
      "text/plain": [
       "shape: (1, 28)\n",
       "┌──────┬───────┬─────┬─────────────┬───┬──────────────┬──────────────┬──────────────┬──────────────┐\n",
       "│ YEAR ┆ MONTH ┆ DAY ┆ DAY_OF_WEEK ┆ … ┆ SECURITY_DEL ┆ AIRLINE_DELA ┆ LATE_AIRCRAF ┆ WEATHER_DELA │\n",
       "│ ---  ┆ ---   ┆ --- ┆ ---         ┆   ┆ AY           ┆ Y            ┆ T_DELAY      ┆ Y            │\n",
       "│ u32  ┆ u32   ┆ u32 ┆ u32         ┆   ┆ ---          ┆ ---          ┆ ---          ┆ ---          │\n",
       "│      ┆       ┆     ┆             ┆   ┆ u32          ┆ u32          ┆ u32          ┆ u32          │\n",
       "╞══════╪═══════╪═════╪═════════════╪═══╪══════════════╪══════════════╪══════════════╪══════════════╡\n",
       "│ 0    ┆ 0     ┆ 0   ┆ 0           ┆ … ┆ 0            ┆ 0            ┆ 0            ┆ 0            │\n",
       "└──────┴───────┴─────┴─────────────┴───┴──────────────┴──────────────┴──────────────┴──────────────┘"
      ]
     },
     "execution_count": 57,
     "metadata": {},
     "output_type": "execute_result"
    }
   ],
   "source": [
    "lf_no_geo = lf.drop([\"ORIGIN_LAT\", \"ORIGIN_LON\", \"DEST_LAT\", \"DEST_LON\"])\n",
    "lf_no_geo.null_count().collect()"
   ]
  },
  {
   "cell_type": "code",
   "execution_count": 58,
   "id": "7267d3b0",
   "metadata": {},
   "outputs": [
    {
     "data": {
      "text/html": [
       "<div><style>\n",
       ".dataframe > thead > tr,\n",
       ".dataframe > tbody > tr {\n",
       "  text-align: right;\n",
       "  white-space: pre-wrap;\n",
       "}\n",
       "</style>\n",
       "<small>shape: (1, 32)</small><table border=\"1\" class=\"dataframe\"><thead><tr><th>YEAR</th><th>MONTH</th><th>DAY</th><th>DAY_OF_WEEK</th><th>AIRLINE</th><th>FLIGHT_NUMBER</th><th>TAIL_NUMBER</th><th>ORIGIN_AIRPORT</th><th>DESTINATION_AIRPORT</th><th>SCHEDULED_DEPARTURE</th><th>DEPARTURE_TIME</th><th>DEPARTURE_DELAY</th><th>TAXI_OUT</th><th>WHEELS_OFF</th><th>SCHEDULED_TIME</th><th>ELAPSED_TIME</th><th>AIR_TIME</th><th>DISTANCE</th><th>WHEELS_ON</th><th>TAXI_IN</th><th>SCHEDULED_ARRIVAL</th><th>ARRIVAL_TIME</th><th>ARRIVAL_DELAY</th><th>AIR_SYSTEM_DELAY</th><th>SECURITY_DELAY</th><th>AIRLINE_DELAY</th><th>LATE_AIRCRAFT_DELAY</th><th>WEATHER_DELAY</th><th>ORIGIN_LAT</th><th>ORIGIN_LON</th><th>DEST_LAT</th><th>DEST_LON</th></tr><tr><td>u32</td><td>u32</td><td>u32</td><td>u32</td><td>u32</td><td>u32</td><td>u32</td><td>u32</td><td>u32</td><td>u32</td><td>u32</td><td>u32</td><td>u32</td><td>u32</td><td>u32</td><td>u32</td><td>u32</td><td>u32</td><td>u32</td><td>u32</td><td>u32</td><td>u32</td><td>u32</td><td>u32</td><td>u32</td><td>u32</td><td>u32</td><td>u32</td><td>u32</td><td>u32</td><td>u32</td><td>u32</td></tr></thead><tbody><tr><td>0</td><td>0</td><td>0</td><td>0</td><td>0</td><td>0</td><td>0</td><td>0</td><td>0</td><td>0</td><td>0</td><td>0</td><td>0</td><td>0</td><td>0</td><td>0</td><td>0</td><td>0</td><td>0</td><td>0</td><td>0</td><td>0</td><td>0</td><td>0</td><td>0</td><td>0</td><td>0</td><td>0</td><td>0</td><td>0</td><td>0</td><td>0</td></tr></tbody></table></div>"
      ],
      "text/plain": [
       "shape: (1, 32)\n",
       "┌──────┬───────┬─────┬─────────────┬───┬────────────┬────────────┬──────────┬──────────┐\n",
       "│ YEAR ┆ MONTH ┆ DAY ┆ DAY_OF_WEEK ┆ … ┆ ORIGIN_LAT ┆ ORIGIN_LON ┆ DEST_LAT ┆ DEST_LON │\n",
       "│ ---  ┆ ---   ┆ --- ┆ ---         ┆   ┆ ---        ┆ ---        ┆ ---      ┆ ---      │\n",
       "│ u32  ┆ u32   ┆ u32 ┆ u32         ┆   ┆ u32        ┆ u32        ┆ u32      ┆ u32      │\n",
       "╞══════╪═══════╪═════╪═════════════╪═══╪════════════╪════════════╪══════════╪══════════╡\n",
       "│ 0    ┆ 0     ┆ 0   ┆ 0           ┆ … ┆ 0          ┆ 0          ┆ 0        ┆ 0        │\n",
       "└──────┴───────┴─────┴─────────────┴───┴────────────┴────────────┴──────────┴──────────┘"
      ]
     },
     "execution_count": 58,
     "metadata": {},
     "output_type": "execute_result"
    }
   ],
   "source": [
    "lf = lf.drop_nulls(subset=[\"ORIGIN_LAT\"])\n",
    "lf.null_count().collect()"
   ]
  },
  {
   "cell_type": "code",
   "execution_count": 59,
   "id": "67bc89ae",
   "metadata": {},
   "outputs": [],
   "source": [
    "lf_no_delay = lf_no_geo.drop([\"WHEELS_ON\", \"WHEELS_OFF\", \"AIR_SYSTEM_DELAY\", \"SECURITY_DELAY\", \"AIRLINE_DELAY\", \"LATE_AIRCRAFT_DELAY\", \"WEATHER_DELAY\", \"ARRIVAL_TIME\", \"ELAPSED_TIME\", \"AIR_TIME\", \"TAXI_IN\"])"
   ]
  },
  {
   "cell_type": "code",
   "execution_count": 60,
   "id": "c0f86f90",
   "metadata": {},
   "outputs": [
    {
     "data": {
      "text/plain": [
       "'df = lf.collect()\\nmissing_airports_df = missing_airports.collect()\\ndf_no_geo = lf_no_geo.collect()\\ndf_no_geo.write_parquet(\"data/flights_processed_no_geo.parquet\")\\nairlines_df.write_parquet(\"data/airlines.parquet\")\\nairports_df.write_parquet(\"data/airports.parquet\")\\nmissing_airports_df.write_parquet(\"data/missing_airports.parquet\")\\ndf.write_parquet(\"data/flights_processed.parquet\")'"
      ]
     },
     "execution_count": 60,
     "metadata": {},
     "output_type": "execute_result"
    }
   ],
   "source": [
    "\"\"\"df = lf.collect()\n",
    "missing_airports_df = missing_airports.collect()\n",
    "df_no_geo = lf_no_geo.collect()\n",
    "df_no_geo.write_parquet(\"data/flights_processed_no_geo.parquet\")\n",
    "airlines_df.write_parquet(\"data/airlines.parquet\")\n",
    "airports_df.write_parquet(\"data/airports.parquet\")\n",
    "missing_airports_df.write_parquet(\"data/missing_airports.parquet\")\n",
    "df.write_parquet(\"data/flights_processed.parquet\")\"\"\""
   ]
  },
  {
   "cell_type": "code",
   "execution_count": 61,
   "id": "ee1a682a",
   "metadata": {},
   "outputs": [],
   "source": [
    "df_no_delay = lf_no_delay.collect()\n",
    "df_no_delay.write_parquet(\"data/flights_preprocessed_no_delay.parquet\")"
   ]
  },
  {
   "cell_type": "code",
   "execution_count": 62,
   "id": "e578102b",
   "metadata": {},
   "outputs": [
    {
     "data": {
      "text/html": [
       "<div><style>\n",
       ".dataframe > thead > tr,\n",
       ".dataframe > tbody > tr {\n",
       "  text-align: right;\n",
       "  white-space: pre-wrap;\n",
       "}\n",
       "</style>\n",
       "<small>shape: (1_440, 1)</small><table border=\"1\" class=\"dataframe\"><thead><tr><th>ARRIVAL_TIME</th></tr><tr><td>struct[2]</td></tr></thead><tbody><tr><td>{1140,5010}</td></tr><tr><td>{1507,4892}</td></tr><tr><td>{1452,4989}</td></tr><tr><td>{2201,4480}</td></tr><tr><td>{2015,5188}</td></tr><tr><td>&hellip;</td></tr><tr><td>{1106,5251}</td></tr><tr><td>{1348,5273}</td></tr><tr><td>{2136,4871}</td></tr><tr><td>{108,677}</td></tr><tr><td>{2351,3077}</td></tr></tbody></table></div>"
      ],
      "text/plain": [
       "shape: (1_440, 1)\n",
       "┌──────────────┐\n",
       "│ ARRIVAL_TIME │\n",
       "│ ---          │\n",
       "│ struct[2]    │\n",
       "╞══════════════╡\n",
       "│ {1140,5010}  │\n",
       "│ {1507,4892}  │\n",
       "│ {1452,4989}  │\n",
       "│ {2201,4480}  │\n",
       "│ {2015,5188}  │\n",
       "│ …            │\n",
       "│ {1106,5251}  │\n",
       "│ {1348,5273}  │\n",
       "│ {2136,4871}  │\n",
       "│ {108,677}    │\n",
       "│ {2351,3077}  │\n",
       "└──────────────┘"
      ]
     },
     "execution_count": 62,
     "metadata": {},
     "output_type": "execute_result"
    }
   ],
   "source": [
    "lf.select(pl.col([\"ARRIVAL_TIME\"]).value_counts()).collect()"
   ]
  },
  {
   "cell_type": "code",
   "execution_count": 63,
   "id": "3a1437e0",
   "metadata": {},
   "outputs": [
    {
     "data": {
      "text/html": [
       "<div><style>\n",
       ".dataframe > thead > tr,\n",
       ".dataframe > tbody > tr {\n",
       "  text-align: right;\n",
       "  white-space: pre-wrap;\n",
       "}\n",
       "</style>\n",
       "<small>shape: (1_440, 1)</small><table border=\"1\" class=\"dataframe\"><thead><tr><th>WHEELS_OFF</th></tr><tr><td>struct[2]</td></tr></thead><tbody><tr><td>{632,5315}</td></tr><tr><td>{2131,3037}</td></tr><tr><td>{1304,5250}</td></tr><tr><td>{216,77}</td></tr><tr><td>{1230,5360}</td></tr><tr><td>&hellip;</td></tr><tr><td>{531,1100}</td></tr><tr><td>{218,69}</td></tr><tr><td>{1342,4991}</td></tr><tr><td>{645,4431}</td></tr><tr><td>{519,719}</td></tr></tbody></table></div>"
      ],
      "text/plain": [
       "shape: (1_440, 1)\n",
       "┌─────────────┐\n",
       "│ WHEELS_OFF  │\n",
       "│ ---         │\n",
       "│ struct[2]   │\n",
       "╞═════════════╡\n",
       "│ {632,5315}  │\n",
       "│ {2131,3037} │\n",
       "│ {1304,5250} │\n",
       "│ {216,77}    │\n",
       "│ {1230,5360} │\n",
       "│ …           │\n",
       "│ {531,1100}  │\n",
       "│ {218,69}    │\n",
       "│ {1342,4991} │\n",
       "│ {645,4431}  │\n",
       "│ {519,719}   │\n",
       "└─────────────┘"
      ]
     },
     "execution_count": 63,
     "metadata": {},
     "output_type": "execute_result"
    }
   ],
   "source": [
    "lf.select(pl.col([\"WHEELS_OFF\"]).value_counts()).collect()"
   ]
  },
  {
   "cell_type": "code",
   "execution_count": 64,
   "id": "82ed87c8",
   "metadata": {},
   "outputs": [
    {
     "data": {
      "text/html": [
       "<div><style>\n",
       ".dataframe > thead > tr,\n",
       ".dataframe > tbody > tr {\n",
       "  text-align: right;\n",
       "  white-space: pre-wrap;\n",
       "}\n",
       "</style>\n",
       "<small>shape: (1_440, 1)</small><table border=\"1\" class=\"dataframe\"><thead><tr><th>WHEELS_ON</th></tr><tr><td>struct[2]</td></tr></thead><tbody><tr><td>{746,3856}</td></tr><tr><td>{1132,4859}</td></tr><tr><td>{1932,4792}</td></tr><tr><td>{826,4266}</td></tr><tr><td>{2020,5258}</td></tr><tr><td>&hellip;</td></tr><tr><td>{248,86}</td></tr><tr><td>{718,2921}</td></tr><tr><td>{502,439}</td></tr><tr><td>{1724,5197}</td></tr><tr><td>{2323,3478}</td></tr></tbody></table></div>"
      ],
      "text/plain": [
       "shape: (1_440, 1)\n",
       "┌─────────────┐\n",
       "│ WHEELS_ON   │\n",
       "│ ---         │\n",
       "│ struct[2]   │\n",
       "╞═════════════╡\n",
       "│ {746,3856}  │\n",
       "│ {1132,4859} │\n",
       "│ {1932,4792} │\n",
       "│ {826,4266}  │\n",
       "│ {2020,5258} │\n",
       "│ …           │\n",
       "│ {248,86}    │\n",
       "│ {718,2921}  │\n",
       "│ {502,439}   │\n",
       "│ {1724,5197} │\n",
       "│ {2323,3478} │\n",
       "└─────────────┘"
      ]
     },
     "execution_count": 64,
     "metadata": {},
     "output_type": "execute_result"
    }
   ],
   "source": [
    "lf.select(pl.col(\"WHEELS_ON\").value_counts()).collect()"
   ]
  },
  {
   "cell_type": "code",
   "execution_count": null,
   "id": "8ac074c5",
   "metadata": {},
   "outputs": [],
   "source": []
  }
 ],
 "metadata": {
  "kernelspec": {
   "display_name": "npn",
   "language": "python",
   "name": "python3"
  },
  "language_info": {
   "codemirror_mode": {
    "name": "ipython",
    "version": 3
   },
   "file_extension": ".py",
   "mimetype": "text/x-python",
   "name": "python",
   "nbconvert_exporter": "python",
   "pygments_lexer": "ipython3",
   "version": "3.12.11"
  }
 },
 "nbformat": 4,
 "nbformat_minor": 5
}
